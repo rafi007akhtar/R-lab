{
 "cells": [
  {
   "cell_type": "markdown",
   "metadata": {},
   "source": [
    "# Learning ggplot2 \n",
    "\n",
    "This notebook covers Data Visualization using the **ggplot2** package from **tidyverse**.\n",
    "\n",
    "To install `ggplot`, \n",
    "1. Open an R console\n",
    "2. Enter `install.packages(\"tidyverse\")`\n",
    "3. Select a mirror, and begin installation"
   ]
  },
  {
   "cell_type": "markdown",
   "metadata": {},
   "source": [
    "## Graph components in `ggplot`\n",
    "\n",
    "A graph is divided into _three_ main components, viz.,\n",
    "1. **Data**: the data table used for the graphs\n",
    "2. **Geometry**: refers to the plot of the graph (scatter plot, boxplot, q-q plot, histogram, etc.)\n",
    "3. **Aesthetic Mapping**: x-axis values, y-axis values, text, colors, etc\n",
    "\n",
    "Furthermore, there are two more components, viz.,\n",
    "1. **Scale**: like log scales, etc\n",
    "2. **Other components**: like legends, title, labels, etc"
   ]
  },
  {
   "cell_type": "code",
   "execution_count": null,
   "metadata": {},
   "outputs": [],
   "source": []
  },
  {
   "cell_type": "markdown",
   "metadata": {},
   "source": [
    "## Utility functions\n",
    "\n",
    "Defining all the utility functions required for this notebook."
   ]
  },
  {
   "cell_type": "code",
   "execution_count": 355,
   "metadata": {},
   "outputs": [],
   "source": [
    "randomColors = function(numberOfColors = 1) {\n",
    "    # Return a vector containing a number of random colors, all in \"#rrggbb\" format\n",
    "    \n",
    "    cols = c() # empty vector of colors\n",
    "    for (i in 1:numberOfColors) {\n",
    "        r = as.character(as.hexmode(sample(0:255, 1))) # amount of red\n",
    "        if (nchar(r) == 1) r = paste(\"0\", r, sep = \"\")\n",
    "        \n",
    "        g = as.character(as.hexmode(sample(0:255, 1))) # amount of green\n",
    "        if (nchar(g) == 1) r = paste(\"0\", r, sep = \"\")\n",
    "        \n",
    "        b = as.character(as.hexmode(sample(0:255, 1))) # amount of blue\n",
    "        if (nchar(b) == 1) r = paste(\"0\", r, sep = \"\")\n",
    "        \n",
    "        col = paste(\"#\", r,g,b, sep=\"\") # current random color\n",
    "        \n",
    "        if (nchar(col) != 7) col = \"#ff0000\" # safe side\n",
    "        \n",
    "        cols = append(cols, col) # append the current color to the list of colors\n",
    "    }\n",
    "    cols\n",
    "}"
   ]
  },
  {
   "cell_type": "code",
   "execution_count": 356,
   "metadata": {},
   "outputs": [
    {
     "data": {
      "text/html": [
       "<ol class=list-inline>\n",
       "\t<li>'#69fca1'</li>\n",
       "\t<li>'#fd7b1b'</li>\n",
       "\t<li>'#6a3fee'</li>\n",
       "\t<li>'#069c42'</li>\n",
       "\t<li>'#87b33d'</li>\n",
       "\t<li>'#07ff6c'</li>\n",
       "\t<li>'#f0a5a2'</li>\n",
       "\t<li>'#0bec94'</li>\n",
       "\t<li>'#105e17'</li>\n",
       "\t<li>'#35365f'</li>\n",
       "\t<li>'#40882f'</li>\n",
       "\t<li>'#4adaf4'</li>\n",
       "\t<li>'#043bad'</li>\n",
       "\t<li>'#a64c6d'</li>\n",
       "\t<li>'#09cf57'</li>\n",
       "\t<li>'#443e90'</li>\n",
       "\t<li>'#4a22bf'</li>\n",
       "\t<li>'#766e3b'</li>\n",
       "\t<li>'#ffea25'</li>\n",
       "\t<li>'#a42158'</li>\n",
       "\t<li>'#e3299c'</li>\n",
       "\t<li>'#dc4f9b'</li>\n",
       "\t<li>'#a55098'</li>\n",
       "\t<li>'#b75a54'</li>\n",
       "\t<li>'#fe41d9'</li>\n",
       "\t<li>'#29abc0'</li>\n",
       "\t<li>'#f7607c'</li>\n",
       "\t<li>'#96951d'</li>\n",
       "\t<li>'#7ae4af'</li>\n",
       "\t<li>'#0b8ebb'</li>\n",
       "\t<li>'#d06250'</li>\n",
       "\t<li>'#002572'</li>\n",
       "\t<li>'#99d252'</li>\n",
       "\t<li>'#051387'</li>\n",
       "\t<li>'#b191e0'</li>\n",
       "\t<li>'#b0a7ec'</li>\n",
       "\t<li>'#6ca616'</li>\n",
       "\t<li>'#075f66'</li>\n",
       "\t<li>'#e2aa43'</li>\n",
       "\t<li>'#6e6fb8'</li>\n",
       "\t<li>'#2f2b25'</li>\n",
       "\t<li>'#010613'</li>\n",
       "\t<li>'#e963f1'</li>\n",
       "\t<li>'#34cccc'</li>\n",
       "\t<li>'#b54cc1'</li>\n",
       "\t<li>'#63ef60'</li>\n",
       "\t<li>'#428bbc'</li>\n",
       "\t<li>'#443c88'</li>\n",
       "\t<li>'#05b825'</li>\n",
       "\t<li>'#213a5c'</li>\n",
       "\t<li>'#2dc97b'</li>\n",
       "\t<li>'#7df8dc'</li>\n",
       "\t<li>'#439d26'</li>\n",
       "\t<li>'#3d66f3'</li>\n",
       "\t<li>'#0dd2a3'</li>\n",
       "\t<li>'#8116cf'</li>\n",
       "\t<li>'#697ebf'</li>\n",
       "\t<li>'#346968'</li>\n",
       "\t<li>'#451e8e'</li>\n",
       "\t<li>'#e176e7'</li>\n",
       "\t<li>'#0bfb3b'</li>\n",
       "\t<li>'#069d5b'</li>\n",
       "\t<li>'#bff05b'</li>\n",
       "\t<li>'#b87811'</li>\n",
       "\t<li>'#9e5c83'</li>\n",
       "\t<li>'#0a7220'</li>\n",
       "\t<li>'#cdeb83'</li>\n",
       "\t<li>'#781587'</li>\n",
       "\t<li>'#7bb27a'</li>\n",
       "\t<li>'#205b8b'</li>\n",
       "\t<li>'#a16f6a'</li>\n",
       "\t<li>'#3ed823'</li>\n",
       "\t<li>'#cfbd35'</li>\n",
       "\t<li>'#0c2383'</li>\n",
       "\t<li>'#16f04e'</li>\n",
       "\t<li>'#edd41b'</li>\n",
       "\t<li>'#d94f7c'</li>\n",
       "\t<li>'#fa69e4'</li>\n",
       "\t<li>'#715b7f'</li>\n",
       "\t<li>'#da32fe'</li>\n",
       "\t<li>'#f07f21'</li>\n",
       "\t<li>'#af9188'</li>\n",
       "\t<li>'#0e4411'</li>\n",
       "\t<li>'#aa5daa'</li>\n",
       "\t<li>'#03f374'</li>\n",
       "\t<li>'#f0daed'</li>\n",
       "\t<li>'#a557eb'</li>\n",
       "\t<li>'#176ee2'</li>\n",
       "\t<li>'#1aa010'</li>\n",
       "\t<li>'#e49993'</li>\n",
       "\t<li>'#ca4efc'</li>\n",
       "\t<li>'#04716f'</li>\n",
       "\t<li>'#d32e86'</li>\n",
       "\t<li>'#5f3353'</li>\n",
       "\t<li>'#608f62'</li>\n",
       "\t<li>'#0c8513'</li>\n",
       "\t<li>'#e39f9e'</li>\n",
       "\t<li>'#417852'</li>\n",
       "\t<li>'#7cf481'</li>\n",
       "\t<li>'#e8cc9e'</li>\n",
       "</ol>\n"
      ],
      "text/latex": [
       "\\begin{enumerate*}\n",
       "\\item '\\#69fca1'\n",
       "\\item '\\#fd7b1b'\n",
       "\\item '\\#6a3fee'\n",
       "\\item '\\#069c42'\n",
       "\\item '\\#87b33d'\n",
       "\\item '\\#07ff6c'\n",
       "\\item '\\#f0a5a2'\n",
       "\\item '\\#0bec94'\n",
       "\\item '\\#105e17'\n",
       "\\item '\\#35365f'\n",
       "\\item '\\#40882f'\n",
       "\\item '\\#4adaf4'\n",
       "\\item '\\#043bad'\n",
       "\\item '\\#a64c6d'\n",
       "\\item '\\#09cf57'\n",
       "\\item '\\#443e90'\n",
       "\\item '\\#4a22bf'\n",
       "\\item '\\#766e3b'\n",
       "\\item '\\#ffea25'\n",
       "\\item '\\#a42158'\n",
       "\\item '\\#e3299c'\n",
       "\\item '\\#dc4f9b'\n",
       "\\item '\\#a55098'\n",
       "\\item '\\#b75a54'\n",
       "\\item '\\#fe41d9'\n",
       "\\item '\\#29abc0'\n",
       "\\item '\\#f7607c'\n",
       "\\item '\\#96951d'\n",
       "\\item '\\#7ae4af'\n",
       "\\item '\\#0b8ebb'\n",
       "\\item '\\#d06250'\n",
       "\\item '\\#002572'\n",
       "\\item '\\#99d252'\n",
       "\\item '\\#051387'\n",
       "\\item '\\#b191e0'\n",
       "\\item '\\#b0a7ec'\n",
       "\\item '\\#6ca616'\n",
       "\\item '\\#075f66'\n",
       "\\item '\\#e2aa43'\n",
       "\\item '\\#6e6fb8'\n",
       "\\item '\\#2f2b25'\n",
       "\\item '\\#010613'\n",
       "\\item '\\#e963f1'\n",
       "\\item '\\#34cccc'\n",
       "\\item '\\#b54cc1'\n",
       "\\item '\\#63ef60'\n",
       "\\item '\\#428bbc'\n",
       "\\item '\\#443c88'\n",
       "\\item '\\#05b825'\n",
       "\\item '\\#213a5c'\n",
       "\\item '\\#2dc97b'\n",
       "\\item '\\#7df8dc'\n",
       "\\item '\\#439d26'\n",
       "\\item '\\#3d66f3'\n",
       "\\item '\\#0dd2a3'\n",
       "\\item '\\#8116cf'\n",
       "\\item '\\#697ebf'\n",
       "\\item '\\#346968'\n",
       "\\item '\\#451e8e'\n",
       "\\item '\\#e176e7'\n",
       "\\item '\\#0bfb3b'\n",
       "\\item '\\#069d5b'\n",
       "\\item '\\#bff05b'\n",
       "\\item '\\#b87811'\n",
       "\\item '\\#9e5c83'\n",
       "\\item '\\#0a7220'\n",
       "\\item '\\#cdeb83'\n",
       "\\item '\\#781587'\n",
       "\\item '\\#7bb27a'\n",
       "\\item '\\#205b8b'\n",
       "\\item '\\#a16f6a'\n",
       "\\item '\\#3ed823'\n",
       "\\item '\\#cfbd35'\n",
       "\\item '\\#0c2383'\n",
       "\\item '\\#16f04e'\n",
       "\\item '\\#edd41b'\n",
       "\\item '\\#d94f7c'\n",
       "\\item '\\#fa69e4'\n",
       "\\item '\\#715b7f'\n",
       "\\item '\\#da32fe'\n",
       "\\item '\\#f07f21'\n",
       "\\item '\\#af9188'\n",
       "\\item '\\#0e4411'\n",
       "\\item '\\#aa5daa'\n",
       "\\item '\\#03f374'\n",
       "\\item '\\#f0daed'\n",
       "\\item '\\#a557eb'\n",
       "\\item '\\#176ee2'\n",
       "\\item '\\#1aa010'\n",
       "\\item '\\#e49993'\n",
       "\\item '\\#ca4efc'\n",
       "\\item '\\#04716f'\n",
       "\\item '\\#d32e86'\n",
       "\\item '\\#5f3353'\n",
       "\\item '\\#608f62'\n",
       "\\item '\\#0c8513'\n",
       "\\item '\\#e39f9e'\n",
       "\\item '\\#417852'\n",
       "\\item '\\#7cf481'\n",
       "\\item '\\#e8cc9e'\n",
       "\\end{enumerate*}\n"
      ],
      "text/markdown": [
       "1. '#69fca1'\n",
       "2. '#fd7b1b'\n",
       "3. '#6a3fee'\n",
       "4. '#069c42'\n",
       "5. '#87b33d'\n",
       "6. '#07ff6c'\n",
       "7. '#f0a5a2'\n",
       "8. '#0bec94'\n",
       "9. '#105e17'\n",
       "10. '#35365f'\n",
       "11. '#40882f'\n",
       "12. '#4adaf4'\n",
       "13. '#043bad'\n",
       "14. '#a64c6d'\n",
       "15. '#09cf57'\n",
       "16. '#443e90'\n",
       "17. '#4a22bf'\n",
       "18. '#766e3b'\n",
       "19. '#ffea25'\n",
       "20. '#a42158'\n",
       "21. '#e3299c'\n",
       "22. '#dc4f9b'\n",
       "23. '#a55098'\n",
       "24. '#b75a54'\n",
       "25. '#fe41d9'\n",
       "26. '#29abc0'\n",
       "27. '#f7607c'\n",
       "28. '#96951d'\n",
       "29. '#7ae4af'\n",
       "30. '#0b8ebb'\n",
       "31. '#d06250'\n",
       "32. '#002572'\n",
       "33. '#99d252'\n",
       "34. '#051387'\n",
       "35. '#b191e0'\n",
       "36. '#b0a7ec'\n",
       "37. '#6ca616'\n",
       "38. '#075f66'\n",
       "39. '#e2aa43'\n",
       "40. '#6e6fb8'\n",
       "41. '#2f2b25'\n",
       "42. '#010613'\n",
       "43. '#e963f1'\n",
       "44. '#34cccc'\n",
       "45. '#b54cc1'\n",
       "46. '#63ef60'\n",
       "47. '#428bbc'\n",
       "48. '#443c88'\n",
       "49. '#05b825'\n",
       "50. '#213a5c'\n",
       "51. '#2dc97b'\n",
       "52. '#7df8dc'\n",
       "53. '#439d26'\n",
       "54. '#3d66f3'\n",
       "55. '#0dd2a3'\n",
       "56. '#8116cf'\n",
       "57. '#697ebf'\n",
       "58. '#346968'\n",
       "59. '#451e8e'\n",
       "60. '#e176e7'\n",
       "61. '#0bfb3b'\n",
       "62. '#069d5b'\n",
       "63. '#bff05b'\n",
       "64. '#b87811'\n",
       "65. '#9e5c83'\n",
       "66. '#0a7220'\n",
       "67. '#cdeb83'\n",
       "68. '#781587'\n",
       "69. '#7bb27a'\n",
       "70. '#205b8b'\n",
       "71. '#a16f6a'\n",
       "72. '#3ed823'\n",
       "73. '#cfbd35'\n",
       "74. '#0c2383'\n",
       "75. '#16f04e'\n",
       "76. '#edd41b'\n",
       "77. '#d94f7c'\n",
       "78. '#fa69e4'\n",
       "79. '#715b7f'\n",
       "80. '#da32fe'\n",
       "81. '#f07f21'\n",
       "82. '#af9188'\n",
       "83. '#0e4411'\n",
       "84. '#aa5daa'\n",
       "85. '#03f374'\n",
       "86. '#f0daed'\n",
       "87. '#a557eb'\n",
       "88. '#176ee2'\n",
       "89. '#1aa010'\n",
       "90. '#e49993'\n",
       "91. '#ca4efc'\n",
       "92. '#04716f'\n",
       "93. '#d32e86'\n",
       "94. '#5f3353'\n",
       "95. '#608f62'\n",
       "96. '#0c8513'\n",
       "97. '#e39f9e'\n",
       "98. '#417852'\n",
       "99. '#7cf481'\n",
       "100. '#e8cc9e'\n",
       "\n",
       "\n"
      ],
      "text/plain": [
       "  [1] \"#69fca1\" \"#fd7b1b\" \"#6a3fee\" \"#069c42\" \"#87b33d\" \"#07ff6c\" \"#f0a5a2\"\n",
       "  [8] \"#0bec94\" \"#105e17\" \"#35365f\" \"#40882f\" \"#4adaf4\" \"#043bad\" \"#a64c6d\"\n",
       " [15] \"#09cf57\" \"#443e90\" \"#4a22bf\" \"#766e3b\" \"#ffea25\" \"#a42158\" \"#e3299c\"\n",
       " [22] \"#dc4f9b\" \"#a55098\" \"#b75a54\" \"#fe41d9\" \"#29abc0\" \"#f7607c\" \"#96951d\"\n",
       " [29] \"#7ae4af\" \"#0b8ebb\" \"#d06250\" \"#002572\" \"#99d252\" \"#051387\" \"#b191e0\"\n",
       " [36] \"#b0a7ec\" \"#6ca616\" \"#075f66\" \"#e2aa43\" \"#6e6fb8\" \"#2f2b25\" \"#010613\"\n",
       " [43] \"#e963f1\" \"#34cccc\" \"#b54cc1\" \"#63ef60\" \"#428bbc\" \"#443c88\" \"#05b825\"\n",
       " [50] \"#213a5c\" \"#2dc97b\" \"#7df8dc\" \"#439d26\" \"#3d66f3\" \"#0dd2a3\" \"#8116cf\"\n",
       " [57] \"#697ebf\" \"#346968\" \"#451e8e\" \"#e176e7\" \"#0bfb3b\" \"#069d5b\" \"#bff05b\"\n",
       " [64] \"#b87811\" \"#9e5c83\" \"#0a7220\" \"#cdeb83\" \"#781587\" \"#7bb27a\" \"#205b8b\"\n",
       " [71] \"#a16f6a\" \"#3ed823\" \"#cfbd35\" \"#0c2383\" \"#16f04e\" \"#edd41b\" \"#d94f7c\"\n",
       " [78] \"#fa69e4\" \"#715b7f\" \"#da32fe\" \"#f07f21\" \"#af9188\" \"#0e4411\" \"#aa5daa\"\n",
       " [85] \"#03f374\" \"#f0daed\" \"#a557eb\" \"#176ee2\" \"#1aa010\" \"#e49993\" \"#ca4efc\"\n",
       " [92] \"#04716f\" \"#d32e86\" \"#5f3353\" \"#608f62\" \"#0c8513\" \"#e39f9e\" \"#417852\"\n",
       " [99] \"#7cf481\" \"#e8cc9e\""
      ]
     },
     "metadata": {},
     "output_type": "display_data"
    },
    {
     "data": {
      "text/html": [
       "'#47c44'"
      ],
      "text/latex": [
       "'\\#47c44'"
      ],
      "text/markdown": [
       "'#47c44'"
      ],
      "text/plain": [
       "[1] \"#47c44\""
      ]
     },
     "metadata": {},
     "output_type": "display_data"
    }
   ],
   "source": [
    "# Test the utility functions\n",
    "randomColors(100)\n",
    "randomColor()"
   ]
  },
  {
   "cell_type": "markdown",
   "metadata": {},
   "source": [
    "## Load dependencies"
   ]
  },
  {
   "cell_type": "code",
   "execution_count": 382,
   "metadata": {},
   "outputs": [
    {
     "name": "stderr",
     "output_type": "stream",
     "text": [
      "\n",
      "Attaching package: 'gridExtra'\n",
      "\n",
      "The following object is masked from 'package:dplyr':\n",
      "\n",
      "    combine\n",
      "\n"
     ]
    }
   ],
   "source": [
    "library(ggplot2) # contains the graph tools\n",
    "library(dslabs) # contains our working dataset\n",
    "library(dplyr) # contains some dataset tools\n",
    "library(ggthemes) # contained the theme for our graph\n",
    "library(ggrepel) # contains function to position the point labels isolated from one another\n",
    "library(gridExtra) # to show graphs next to each other\n",
    "data(murders) # the dataset for producing scatter plot\n",
    "data(heights) # the dataset for producing histogram"
   ]
  },
  {
   "cell_type": "code",
   "execution_count": 299,
   "metadata": {},
   "outputs": [
    {
     "data": {
      "text/html": [
       "<table>\n",
       "<thead><tr><th scope=col>state</th><th scope=col>abb</th><th scope=col>region</th><th scope=col>population</th><th scope=col>total</th></tr></thead>\n",
       "<tbody>\n",
       "\t<tr><td>Alabama   </td><td>AL        </td><td>South     </td><td> 4779736  </td><td> 135      </td></tr>\n",
       "\t<tr><td>Alaska    </td><td>AK        </td><td>West      </td><td>  710231  </td><td>  19      </td></tr>\n",
       "\t<tr><td>Arizona   </td><td>AZ        </td><td>West      </td><td> 6392017  </td><td> 232      </td></tr>\n",
       "\t<tr><td>Arkansas  </td><td>AR        </td><td>South     </td><td> 2915918  </td><td>  93      </td></tr>\n",
       "\t<tr><td>California</td><td>CA        </td><td>West      </td><td>37253956  </td><td>1257      </td></tr>\n",
       "\t<tr><td>Colorado  </td><td>CO        </td><td>West      </td><td> 5029196  </td><td>  65      </td></tr>\n",
       "</tbody>\n",
       "</table>\n"
      ],
      "text/latex": [
       "\\begin{tabular}{r|lllll}\n",
       " state & abb & region & population & total\\\\\n",
       "\\hline\n",
       "\t Alabama    & AL         & South      &  4779736   &  135      \\\\\n",
       "\t Alaska     & AK         & West       &   710231   &   19      \\\\\n",
       "\t Arizona    & AZ         & West       &  6392017   &  232      \\\\\n",
       "\t Arkansas   & AR         & South      &  2915918   &   93      \\\\\n",
       "\t California & CA         & West       & 37253956   & 1257      \\\\\n",
       "\t Colorado   & CO         & West       &  5029196   &   65      \\\\\n",
       "\\end{tabular}\n"
      ],
      "text/markdown": [
       "\n",
       "state | abb | region | population | total | \n",
       "|---|---|---|---|---|---|\n",
       "| Alabama    | AL         | South      |  4779736   |  135       | \n",
       "| Alaska     | AK         | West       |   710231   |   19       | \n",
       "| Arizona    | AZ         | West       |  6392017   |  232       | \n",
       "| Arkansas   | AR         | South      |  2915918   |   93       | \n",
       "| California | CA         | West       | 37253956   | 1257       | \n",
       "| Colorado   | CO         | West       |  5029196   |   65       | \n",
       "\n",
       "\n"
      ],
      "text/plain": [
       "  state      abb region population total\n",
       "1 Alabama    AL  South   4779736    135 \n",
       "2 Alaska     AK  West     710231     19 \n",
       "3 Arizona    AZ  West    6392017    232 \n",
       "4 Arkansas   AR  South   2915918     93 \n",
       "5 California CA  West   37253956   1257 \n",
       "6 Colorado   CO  West    5029196     65 "
      ]
     },
     "metadata": {},
     "output_type": "display_data"
    }
   ],
   "source": [
    "head(murders)"
   ]
  },
  {
   "cell_type": "code",
   "execution_count": 6,
   "metadata": {},
   "outputs": [
    {
     "name": "stdout",
     "output_type": "stream",
     "text": [
      "'data.frame':\t51 obs. of  5 variables:\n",
      " $ state     : chr  \"Alabama\" \"Alaska\" \"Arizona\" \"Arkansas\" ...\n",
      " $ abb       : chr  \"AL\" \"AK\" \"AZ\" \"AR\" ...\n",
      " $ region    : Factor w/ 4 levels \"Northeast\",\"South\",..: 2 4 4 2 4 4 1 2 2 2 ...\n",
      " $ population: num  4779736 710231 6392017 2915918 37253956 ...\n",
      " $ total     : num  135 19 232 93 1257 ...\n"
     ]
    }
   ],
   "source": [
    "str(murders)"
   ]
  },
  {
   "cell_type": "code",
   "execution_count": 300,
   "metadata": {},
   "outputs": [
    {
     "data": {
      "text/html": [
       "<table>\n",
       "<thead><tr><th scope=col>sex</th><th scope=col>height</th></tr></thead>\n",
       "<tbody>\n",
       "\t<tr><td>Male  </td><td>75    </td></tr>\n",
       "\t<tr><td>Male  </td><td>70    </td></tr>\n",
       "\t<tr><td>Male  </td><td>68    </td></tr>\n",
       "\t<tr><td>Male  </td><td>74    </td></tr>\n",
       "\t<tr><td>Male  </td><td>61    </td></tr>\n",
       "\t<tr><td>Female</td><td>65    </td></tr>\n",
       "</tbody>\n",
       "</table>\n"
      ],
      "text/latex": [
       "\\begin{tabular}{r|ll}\n",
       " sex & height\\\\\n",
       "\\hline\n",
       "\t Male   & 75    \\\\\n",
       "\t Male   & 70    \\\\\n",
       "\t Male   & 68    \\\\\n",
       "\t Male   & 74    \\\\\n",
       "\t Male   & 61    \\\\\n",
       "\t Female & 65    \\\\\n",
       "\\end{tabular}\n"
      ],
      "text/markdown": [
       "\n",
       "sex | height | \n",
       "|---|---|---|---|---|---|\n",
       "| Male   | 75     | \n",
       "| Male   | 70     | \n",
       "| Male   | 68     | \n",
       "| Male   | 74     | \n",
       "| Male   | 61     | \n",
       "| Female | 65     | \n",
       "\n",
       "\n"
      ],
      "text/plain": [
       "  sex    height\n",
       "1 Male   75    \n",
       "2 Male   70    \n",
       "3 Male   68    \n",
       "4 Male   74    \n",
       "5 Male   61    \n",
       "6 Female 65    "
      ]
     },
     "metadata": {},
     "output_type": "display_data"
    }
   ],
   "source": [
    "head(heights)"
   ]
  },
  {
   "cell_type": "code",
   "execution_count": 301,
   "metadata": {},
   "outputs": [
    {
     "name": "stdout",
     "output_type": "stream",
     "text": [
      "'data.frame':\t1050 obs. of  2 variables:\n",
      " $ sex   : Factor w/ 2 levels \"Female\",\"Male\": 2 2 2 2 2 1 1 1 1 2 ...\n",
      " $ height: num  75 70 68 74 61 65 66 62 66 67 ...\n"
     ]
    }
   ],
   "source": [
    "str(heights)"
   ]
  },
  {
   "cell_type": "code",
   "execution_count": null,
   "metadata": {},
   "outputs": [],
   "source": []
  },
  {
   "cell_type": "markdown",
   "metadata": {},
   "source": [
    "## Creating scatter-plot with `ggplot()`\n",
    "\n",
    "This is where the plot gets created.\n",
    "\n",
    "Some points to note.\n",
    "1. `plt = ggplot(data = dataset)` creates an empty plot from the dataset, and stores it to object `plt`.\n",
    "2. Add layers to this plot one by one, as you add details to the graph.\n",
    "3. The `aes` function adds aesthetic mappings to the graph, such as the axes, the point labels, and the point colors belonging to its factor object.\n",
    "4. The `geom_abline` function adds a best-fit line to the graph points. For the line intercept, we define a relation between rate `r`. the predictor `x` and the outcome `y` as follows.\n",
    "    `y = r * x`\n",
    "    The `r` is defined using the `summarize` function from the `dplyr` package.\n",
    "5. **The `geom_point` function adds a scatter plot to the graph.**\n",
    "6. The `geom_text_repel` writes the point labels in the graph more clearly and legibly. This function is drawn from the `ggrepel` package.\n",
    "7. The theme used here is taken from the `ggthemes` package.\n",
    "\n",
    "Keeping these points in mind, the following chunk of code creates the desired graph."
   ]
  },
  {
   "cell_type": "code",
   "execution_count": 295,
   "metadata": {},
   "outputs": [
    {
     "data": {
      "image/png": "[encoded data removed]",
      "text/plain": [
       "plot without title"
      ]
     },
     "metadata": {},
     "output_type": "display_data"
    }
   ],
   "source": [
    "# Create a graph from the murders dataset, using the ggplot() function, with some common layers\n",
    "plt = ggplot(data = murders, aes(x = population / (10^6), y = total, label = abb))\n",
    "# plt = murders %>% ggplot() # another way to do it (supply the arguments inside parentheses (...))\n",
    "\n",
    "# Now add the first extra layer: the geometry\n",
    "# In order to create a scatter plot, use geom_point function\n",
    "\n",
    "# We need a line passing through the plot points\n",
    "# For this, use: y = r * x (where r is the murder rate)\n",
    "r = murders %>% summarize(rate = sum(total) / sum(population) * 10^6) %>% .$rate\n",
    "plt = plt + geom_abline(intercept = log10(r), lty = 2, color = \"darkgrey\")\n",
    "\n",
    "# plt = plt + geom_point (colour = c(randomColors(51)), size = 3) # uncomment to assign each state a different color (but the legend goes away)\n",
    "plt = plt + geom_point (aes (col = region), size = 3)\n",
    "\n",
    "# Add more layers, namely, labels for each state\n",
    "# plt = plt + geom_text(nudge_x = 0.08) # replace geom_text by geom_label to put the labels in rectangular boxes\n",
    "plt = plt + geom_text_repel ()\n",
    "\n",
    "plt = plt + scale_x_log10() + scale_y_log10() # log10 scales are the desried scales\n",
    "\n",
    "# lables for the axes, and title\n",
    "plt = plt + xlab (\"Population of state in log scale\") + ylab(\"Total gun murders in log scale\") + ggtitle(\"US gun murders in US, 2010\")\n",
    "\n",
    "# Add the legend\n",
    "plt = plt + scale_color_discrete(name = \"Regions\")\n",
    "\n",
    "# Finally, add the theme\n",
    "plt = plt + theme_stata()\n",
    "\n",
    "print(plt)"
   ]
  },
  {
   "cell_type": "code",
   "execution_count": null,
   "metadata": {},
   "outputs": [],
   "source": []
  },
  {
   "cell_type": "markdown",
   "metadata": {},
   "source": [
    "## Create histograms with `ggplot()`\n",
    "\n",
    "**Aim.** Create a histogram showing the frequencies of male heights, with bin-size as 1.\n",
    "\n",
    "**The `geom_histogram` function adds a histogram layer to the plot.**"
   ]
  },
  {
   "cell_type": "code",
   "execution_count": 359,
   "metadata": {},
   "outputs": [
    {
     "data": {
      "image/png": "[encoded data removed]",
      "text/plain": [
       "plot without title"
      ]
     },
     "metadata": {},
     "output_type": "display_data"
    }
   ],
   "source": [
    "# Create the empty plot\n",
    "hist = ggplot (data = filter(heights, sex == \"Male\"), aes(x = height))\n",
    "\n",
    "# Add a histograph to it\n",
    "hist = hist + geom_histogram(binwidth = 1, fill = randomColors(1))\n",
    "\n",
    "# Add label, title and theme\n",
    "hist = hist + xlab(\"Male heights in inches\") + ggtitle(\"Histogram for Male Heights\") + theme_stata()\n",
    "print(hist)"
   ]
  },
  {
   "cell_type": "code",
   "execution_count": null,
   "metadata": {},
   "outputs": [],
   "source": []
  },
  {
   "cell_type": "markdown",
   "metadata": {},
   "source": [
    "## Create a smooth-density curve with `ggplot()`\n",
    "\n",
    "**Aim.** Create a smooth-density curve for female heights using the `geom_density` function."
   ]
  },
  {
   "cell_type": "code",
   "execution_count": 360,
   "metadata": {},
   "outputs": [
    {
     "data": {
      "image/png": "[encoded data removed]",
      "text/plain": [
       "plot without title"
      ]
     },
     "metadata": {},
     "output_type": "display_data"
    }
   ],
   "source": [
    "# Create the empty plot\n",
    "dens = ggplot (data = filter(heights, sex == \"Female\"), aes(x = height))\n",
    "\n",
    "# Add a smooth-density curve to it\n",
    "col = randomColors(1)\n",
    "dens = dens + geom_density(fill = col, color = col)\n",
    "\n",
    "# Add title, label, and theme\n",
    "dens = dens + xlab(\"Female heights in inches\") + ggtitle(\"Smooth-Density Curve for Female Heights\") + theme_stata()\n",
    "print (dens)"
   ]
  },
  {
   "cell_type": "code",
   "execution_count": null,
   "metadata": {},
   "outputs": [],
   "source": []
  },
  {
   "cell_type": "markdown",
   "metadata": {},
   "source": [
    "## Create a q-q plot using `ggplot()`\n",
    "\n",
    "**Aim.** Create a q-q plot for male and female heights using `geom_qq` function, and show them next to each other.\n",
    "\n",
    "**Point to note.** In the aesthetics function `aes`, replace `x` by `sample`."
   ]
  },
  {
   "cell_type": "code",
   "execution_count": 432,
   "metadata": {},
   "outputs": [],
   "source": [
    "# Create the empty plot for males\n",
    "qq_male = ggplot (data = filter(heights, sex == \"Male\"), aes(sample = height)) # use scale(height for standard units)\n",
    "\n",
    "# Add the q-q plot geometry layer\n",
    "# qq_male = qq_male + geom_qq() # uncomment to create the default q-q plot, but that's not what's desired\n",
    "\n",
    "# By default, geom_qq() contains a plot with mean = 0 and SD = 1.\n",
    "# To change this, create an object with the correct parameters\n",
    "params = summarize(filter(heights, sex == \"Male\"), mean = mean(height), sd = sd(height))\n",
    "\n",
    "# Now add these parameters to the plot\n",
    "qq_male = qq_male + geom_qq(dparams = params, color = randomColor())\n",
    "\n",
    "# Add an identity line, title, and theme\n",
    "qq_male = qq_male + geom_abline() + ggtitle(\"Quantile-Quantile Plot for Male heights\") + theme_stata()"
   ]
  },
  {
   "cell_type": "code",
   "execution_count": 433,
   "metadata": {},
   "outputs": [],
   "source": [
    "# Now do the same for females\n",
    "qq_female = ggplot (data = filter(heights, sex == \"Female\"), aes(sample = scale(height))) # using standard units here\n",
    "qq_female = qq_female + geom_qq(color = randomColors())\n",
    "qq_female = qq_female + geom_abline() + ggtitle(\"Quantile-Quantile Plot for Female heights\") + theme_stata()\n",
    "\n",
    "# As we're using standard units for females, we don't need to recompute mean and sd"
   ]
  },
  {
   "cell_type": "code",
   "execution_count": 434,
   "metadata": {},
   "outputs": [
    {
     "data": {
      "image/png": "[encoded data removed]",
      "text/plain": [
       "plot without title"
      ]
     },
     "metadata": {},
     "output_type": "display_data"
    }
   ],
   "source": [
    "# Finally, show them next to each other\n",
    "grid.arrange(qq_female, qq_male, ncol = 2)"
   ]
  },
  {
   "cell_type": "code",
   "execution_count": null,
   "metadata": {},
   "outputs": [],
   "source": []
  }
 ],
 "metadata": {
  "kernelspec": {
   "display_name": "R",
   "language": "R",
   "name": "ir"
  },
  "language_info": {
   "codemirror_mode": "r",
   "file_extension": ".r",
   "mimetype": "text/x-r-source",
   "name": "R",
   "pygments_lexer": "r",
   "version": "3.5.0"
  }
 },
 "nbformat": 4,
 "nbformat_minor": 2
}
