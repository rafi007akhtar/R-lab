{
 "cells": [
  {
   "cell_type": "markdown",
   "metadata": {},
   "source": [
    "# Learning ggplot2 \n",
    "\n",
    "This notebook covers Data Visualization using the **ggplot2** package from **tidyverse**.\n",
    "\n",
    "To install `ggplot`, \n",
    "1. Open an R console\n",
    "2. Enter `install.packages(\"tidyverse\")`\n",
    "3. Select a mirror, and begin installation"
   ]
  },
  {
   "cell_type": "markdown",
   "metadata": {},
   "source": [
    "## Graph components in `ggplot`\n",
    "\n",
    "A graph is divided into _three_ main components, viz.,\n",
    "1. **Data**: the data table used for the graphs\n",
    "2. **Geometry**: refers to the plot of the graph (scatter plot, boxplot, q-q plot, histogram, etc.)\n",
    "3. **Aesthetic Mapping**: x-axis values, y-axis values, text, colors, etc\n",
    "\n",
    "Furthermore, there are two more components, viz.,\n",
    "1. **Scale**: like log scales, etc\n",
    "2. **Other components**: like legends, title, labels, etc"
   ]
  },
  {
   "cell_type": "code",
   "execution_count": null,
   "metadata": {},
   "outputs": [],
   "source": []
  },
  {
   "cell_type": "markdown",
   "metadata": {},
   "source": [
    "## Utility functions\n",
    "\n",
    "Defining all the utility functions required for this notebook."
   ]
  },
  {
   "cell_type": "code",
   "execution_count": 1,
   "metadata": {},
   "outputs": [],
   "source": [
    "randomColors = function(numberOfColors = 1) {\n",
    "    # Return a vector containing a number of random colors, all in \"#rrggbb\" format\n",
    "    \n",
    "    cols = c() # empty vector of colors\n",
    "    for (i in 1:numberOfColors) {\n",
    "        r = as.character(as.hexmode(sample(0:255, 1))) # amount of red\n",
    "        if (nchar(r) == 1) r = paste(\"0\", r, sep = \"\")\n",
    "        \n",
    "        g = as.character(as.hexmode(sample(0:255, 1))) # amount of green\n",
    "        if (nchar(g) == 1) r = paste(\"0\", r, sep = \"\")\n",
    "        \n",
    "        b = as.character(as.hexmode(sample(0:255, 1))) # amount of blue\n",
    "        if (nchar(b) == 1) r = paste(\"0\", r, sep = \"\")\n",
    "        \n",
    "        col = paste(\"#\", r,g,b, sep=\"\") # current random color\n",
    "        \n",
    "        if (nchar(col) != 7) col = \"#ff0000\" # safe side\n",
    "        \n",
    "        cols = append(cols, col) # append the current color to the list of colors\n",
    "    }\n",
    "    cols\n",
    "}"
   ]
  },
  {
   "cell_type": "code",
   "execution_count": 3,
   "metadata": {},
   "outputs": [],
   "source": [
    "# Test the utility functions\n",
    "# randomColors(100) # uncomment to test the utility function\n",
    "# randomColor() # uncomment to test the utility function"
   ]
  },
  {
   "cell_type": "markdown",
   "metadata": {},
   "source": [
    "## Load dependencies"
   ]
  },
  {
   "cell_type": "code",
   "execution_count": 4,
   "metadata": {},
   "outputs": [
    {
     "name": "stderr",
     "output_type": "stream",
     "text": [
      "\n",
      "Attaching package: 'dplyr'\n",
      "\n",
      "The following objects are masked from 'package:stats':\n",
      "\n",
      "    filter, lag\n",
      "\n",
      "The following objects are masked from 'package:base':\n",
      "\n",
      "    intersect, setdiff, setequal, union\n",
      "\n",
      "\n",
      "Attaching package: 'gridExtra'\n",
      "\n",
      "The following object is masked from 'package:dplyr':\n",
      "\n",
      "    combine\n",
      "\n"
     ]
    }
   ],
   "source": [
    "library(ggplot2) # contains the graph tools\n",
    "library(dslabs) # contains our working dataset\n",
    "library(dplyr) # contains some dataset tools\n",
    "library(ggthemes) # contained the theme for our graph\n",
    "library(ggrepel) # contains function to position the point labels isolated from one another\n",
    "library(gridExtra) # to show graphs next to each other\n",
    "data(murders) # the dataset for producing scatter plot\n",
    "data(heights) # the dataset for producing histogram"
   ]
  },
  {
   "cell_type": "code",
   "execution_count": 299,
   "metadata": {},
   "outputs": [
    {
     "data": {
      "text/html": [
       "<table>\n",
       "<thead><tr><th scope=col>state</th><th scope=col>abb</th><th scope=col>region</th><th scope=col>population</th><th scope=col>total</th></tr></thead>\n",
       "<tbody>\n",
       "\t<tr><td>Alabama   </td><td>AL        </td><td>South     </td><td> 4779736  </td><td> 135      </td></tr>\n",
       "\t<tr><td>Alaska    </td><td>AK        </td><td>West      </td><td>  710231  </td><td>  19      </td></tr>\n",
       "\t<tr><td>Arizona   </td><td>AZ        </td><td>West      </td><td> 6392017  </td><td> 232      </td></tr>\n",
       "\t<tr><td>Arkansas  </td><td>AR        </td><td>South     </td><td> 2915918  </td><td>  93      </td></tr>\n",
       "\t<tr><td>California</td><td>CA        </td><td>West      </td><td>37253956  </td><td>1257      </td></tr>\n",
       "\t<tr><td>Colorado  </td><td>CO        </td><td>West      </td><td> 5029196  </td><td>  65      </td></tr>\n",
       "</tbody>\n",
       "</table>\n"
      ],
      "text/latex": [
       "\\begin{tabular}{r|lllll}\n",
       " state & abb & region & population & total\\\\\n",
       "\\hline\n",
       "\t Alabama    & AL         & South      &  4779736   &  135      \\\\\n",
       "\t Alaska     & AK         & West       &   710231   &   19      \\\\\n",
       "\t Arizona    & AZ         & West       &  6392017   &  232      \\\\\n",
       "\t Arkansas   & AR         & South      &  2915918   &   93      \\\\\n",
       "\t California & CA         & West       & 37253956   & 1257      \\\\\n",
       "\t Colorado   & CO         & West       &  5029196   &   65      \\\\\n",
       "\\end{tabular}\n"
      ],
      "text/markdown": [
       "\n",
       "state | abb | region | population | total | \n",
       "|---|---|---|---|---|---|\n",
       "| Alabama    | AL         | South      |  4779736   |  135       | \n",
       "| Alaska     | AK         | West       |   710231   |   19       | \n",
       "| Arizona    | AZ         | West       |  6392017   |  232       | \n",
       "| Arkansas   | AR         | South      |  2915918   |   93       | \n",
       "| California | CA         | West       | 37253956   | 1257       | \n",
       "| Colorado   | CO         | West       |  5029196   |   65       | \n",
       "\n",
       "\n"
      ],
      "text/plain": [
       "  state      abb region population total\n",
       "1 Alabama    AL  South   4779736    135 \n",
       "2 Alaska     AK  West     710231     19 \n",
       "3 Arizona    AZ  West    6392017    232 \n",
       "4 Arkansas   AR  South   2915918     93 \n",
       "5 California CA  West   37253956   1257 \n",
       "6 Colorado   CO  West    5029196     65 "
      ]
     },
     "metadata": {},
     "output_type": "display_data"
    }
   ],
   "source": [
    "head(murders)"
   ]
  },
  {
   "cell_type": "code",
   "execution_count": 6,
   "metadata": {},
   "outputs": [
    {
     "name": "stdout",
     "output_type": "stream",
     "text": [
      "'data.frame':\t51 obs. of  5 variables:\n",
      " $ state     : chr  \"Alabama\" \"Alaska\" \"Arizona\" \"Arkansas\" ...\n",
      " $ abb       : chr  \"AL\" \"AK\" \"AZ\" \"AR\" ...\n",
      " $ region    : Factor w/ 4 levels \"Northeast\",\"South\",..: 2 4 4 2 4 4 1 2 2 2 ...\n",
      " $ population: num  4779736 710231 6392017 2915918 37253956 ...\n",
      " $ total     : num  135 19 232 93 1257 ...\n"
     ]
    }
   ],
   "source": [
    "str(murders)"
   ]
  },
  {
   "cell_type": "code",
   "execution_count": 300,
   "metadata": {},
   "outputs": [
    {
     "data": {
      "text/html": [
       "<table>\n",
       "<thead><tr><th scope=col>sex</th><th scope=col>height</th></tr></thead>\n",
       "<tbody>\n",
       "\t<tr><td>Male  </td><td>75    </td></tr>\n",
       "\t<tr><td>Male  </td><td>70    </td></tr>\n",
       "\t<tr><td>Male  </td><td>68    </td></tr>\n",
       "\t<tr><td>Male  </td><td>74    </td></tr>\n",
       "\t<tr><td>Male  </td><td>61    </td></tr>\n",
       "\t<tr><td>Female</td><td>65    </td></tr>\n",
       "</tbody>\n",
       "</table>\n"
      ],
      "text/latex": [
       "\\begin{tabular}{r|ll}\n",
       " sex & height\\\\\n",
       "\\hline\n",
       "\t Male   & 75    \\\\\n",
       "\t Male   & 70    \\\\\n",
       "\t Male   & 68    \\\\\n",
       "\t Male   & 74    \\\\\n",
       "\t Male   & 61    \\\\\n",
       "\t Female & 65    \\\\\n",
       "\\end{tabular}\n"
      ],
      "text/markdown": [
       "\n",
       "sex | height | \n",
       "|---|---|---|---|---|---|\n",
       "| Male   | 75     | \n",
       "| Male   | 70     | \n",
       "| Male   | 68     | \n",
       "| Male   | 74     | \n",
       "| Male   | 61     | \n",
       "| Female | 65     | \n",
       "\n",
       "\n"
      ],
      "text/plain": [
       "  sex    height\n",
       "1 Male   75    \n",
       "2 Male   70    \n",
       "3 Male   68    \n",
       "4 Male   74    \n",
       "5 Male   61    \n",
       "6 Female 65    "
      ]
     },
     "metadata": {},
     "output_type": "display_data"
    }
   ],
   "source": [
    "head(heights)"
   ]
  },
  {
   "cell_type": "code",
   "execution_count": 301,
   "metadata": {},
   "outputs": [
    {
     "name": "stdout",
     "output_type": "stream",
     "text": [
      "'data.frame':\t1050 obs. of  2 variables:\n",
      " $ sex   : Factor w/ 2 levels \"Female\",\"Male\": 2 2 2 2 2 1 1 1 1 2 ...\n",
      " $ height: num  75 70 68 74 61 65 66 62 66 67 ...\n"
     ]
    }
   ],
   "source": [
    "str(heights)"
   ]
  },
  {
   "cell_type": "code",
   "execution_count": null,
   "metadata": {},
   "outputs": [],
   "source": []
  },
  {
   "cell_type": "markdown",
   "metadata": {},
   "source": [
    "## Creating scatter-plot with `ggplot()`\n",
    "\n",
    "This is where the plot gets created.\n",
    "\n",
    "Some points to note.\n",
    "1. `plt = ggplot(data = dataset)` creates an empty plot from the dataset, and stores it to object `plt`.\n",
    "2. Add layers to this plot one by one, as you add details to the graph.\n",
    "3. The `aes` function adds aesthetic mappings to the graph, such as the axes, the point labels, and the point colors belonging to its factor object.\n",
    "4. The `geom_abline` function adds a best-fit line to the graph points. For the line intercept, we define a relation between rate `r`. the predictor `x` and the outcome `y` as follows.\n",
    "    `y = r * x`\n",
    "    The `r` is defined using the `summarize` function from the `dplyr` package.\n",
    "5. **The `geom_point` function adds a scatter plot to the graph.**\n",
    "6. The `geom_text_repel` writes the point labels in the graph more clearly and legibly. This function is drawn from the `ggrepel` package.\n",
    "7. The theme used here is taken from the `ggthemes` package.\n",
    "\n",
    "Keeping these points in mind, the following chunk of code creates the desired graph."
   ]
  },
  {
   "cell_type": "code",
   "execution_count": 5,
   "metadata": {},
   "outputs": [
    {
     "data": {
      "image/png": "[encoded data removed]",
      "text/plain": [
       "plot without title"
      ]
     },
     "metadata": {},
     "output_type": "display_data"
    }
   ],
   "source": [
    "# Create a graph from the murders dataset, using the ggplot() function, with some common layers\n",
    "plt = ggplot(data = murders, aes(x = population / (10^6), y = total, label = abb))\n",
    "# plt = murders %>% ggplot() # another way to do it (supply the arguments inside parentheses (...))\n",
    "\n",
    "# Now add the first extra layer: the geometry\n",
    "# In order to create a scatter plot, use geom_point function\n",
    "\n",
    "# We need a line passing through the plot points\n",
    "# For this, use: y = r * x (where r is the murder rate)\n",
    "r = murders %>% summarize(rate = sum(total) / sum(population) * 10^6) %>% .$rate\n",
    "plt = plt + geom_abline(intercept = log10(r), lty = 2, color = \"darkgrey\")\n",
    "\n",
    "# plt = plt + geom_point (colour = c(randomColors(51)), size = 3) # uncomment to assign each state a different color (but the legend goes away)\n",
    "plt = plt + geom_point (aes (col = region), size = 3)\n",
    "\n",
    "# Add more layers, namely, labels for each state\n",
    "# plt = plt + geom_text(nudge_x = 0.08) # replace geom_text by geom_label to put the labels in rectangular boxes\n",
    "plt = plt + geom_text_repel ()\n",
    "\n",
    "plt = plt + scale_x_log10() + scale_y_log10() # log10 scales are the desried scales\n",
    "\n",
    "# lables for the axes, and title\n",
    "plt = plt + xlab (\"Population of state in log scale\") + ylab(\"Total gun murders in log scale\") + ggtitle(\"US gun murders in US, 2010\")\n",
    "\n",
    "# Add the legend\n",
    "plt = plt + scale_color_discrete(name = \"Regions\")\n",
    "\n",
    "# Finally, add the theme\n",
    "plt = plt + theme_stata()\n",
    "\n",
    "print(plt)"
   ]
  },
  {
   "cell_type": "code",
   "execution_count": null,
   "metadata": {},
   "outputs": [],
   "source": []
  },
  {
   "cell_type": "markdown",
   "metadata": {},
   "source": [
    "## Create histograms with `ggplot()`\n",
    "\n",
    "**Aim.** Create a histogram showing the frequencies for male and female heights, with bin-size as 1.\n",
    "\n",
    "**The `geom_histogram` function adds a histogram layer to the plot.**"
   ]
  },
  {
   "cell_type": "code",
   "execution_count": 29,
   "metadata": {},
   "outputs": [],
   "source": [
    "# Create the empty plot\n",
    "histM = ggplot (data = filter(heights, sex == \"Male\"), aes(x = height))\n",
    "\n",
    "# Add a histograph to it\n",
    "histM = histM + geom_histogram(binwidth = 1, fill = randomColors(1))\n",
    "\n",
    "# Add label, title and theme\n",
    "histM = histM + xlab(\"Male heights in inches\") + ggtitle(\"Histogram for Male Heights\") + theme_stata()"
   ]
  },
  {
   "cell_type": "code",
   "execution_count": 34,
   "metadata": {},
   "outputs": [],
   "source": [
    "# Now do the same for female heights\n",
    "histF = ggplot (data = filter(heights, sex == \"Female\"), aes(x = height))\n",
    "histF = histF + geom_histogram(binwidth = 1, fill = randomColors(1))\n",
    "histF = histF + xlab(\"Female heights in inches\") + ggtitle(\"Histogram for Female Heights\") + theme_stata()"
   ]
  },
  {
   "cell_type": "code",
   "execution_count": 35,
   "metadata": {},
   "outputs": [
    {
     "data": {
      "image/png": "[encoded data removed]",
      "text/plain": [
       "plot without title"
      ]
     },
     "metadata": {},
     "output_type": "display_data"
    }
   ],
   "source": [
    "# Show them next to one another\n",
    "grid.arrange(histF, histM, ncol = 2)"
   ]
  },
  {
   "cell_type": "markdown",
   "metadata": {},
   "source": [
    "## Create a smooth-density curve with `ggplot()`\n",
    "\n",
    "**Aim.** Create a smooth-density curve for male and female heights using the `geom_density` function."
   ]
  },
  {
   "cell_type": "code",
   "execution_count": 17,
   "metadata": {},
   "outputs": [
    {
     "data": {
      "image/png": "[encoded data removed]",
      "text/plain": [
       "plot without title"
      ]
     },
     "metadata": {},
     "output_type": "display_data"
    }
   ],
   "source": [
    "# Create the empty plot\n",
    "dens = ggplot (data = heights, aes(x = height, group = sex))\n",
    "\n",
    "# Add a smooth-density curve to it\n",
    "dens = dens + geom_density(aes(fill = sex, color = sex), alpha = 0.4)\n",
    "\n",
    "# Add title, label, and theme\n",
    "dens = dens + xlab(\"Heights in inches\") + ggtitle(\"Smooth-Density Curve for Heights\") + theme_stata()\n",
    "print (dens)"
   ]
  },
  {
   "cell_type": "code",
   "execution_count": null,
   "metadata": {},
   "outputs": [],
   "source": []
  },
  {
   "cell_type": "markdown",
   "metadata": {},
   "source": [
    "## Create a q-q plot using `ggplot()`\n",
    "\n",
    "**Aim.** Create a q-q plot for male and female heights using `geom_qq` function, and show them next to each other.\n",
    "\n",
    "**Point to note.** In the aesthetics function `aes`, replace `x` by `sample`."
   ]
  },
  {
   "cell_type": "code",
   "execution_count": 432,
   "metadata": {},
   "outputs": [],
   "source": [
    "# Create the empty plot for males\n",
    "qq_male = ggplot (data = filter(heights, sex == \"Male\"), aes(sample = height)) # use scale(height for standard units)\n",
    "\n",
    "# Add the q-q plot geometry layer\n",
    "# qq_male = qq_male + geom_qq() # uncomment to create the default q-q plot, but that's not what's desired\n",
    "\n",
    "# By default, geom_qq() contains a plot with mean = 0 and SD = 1.\n",
    "# To change this, create an object with the correct parameters\n",
    "params = summarize(filter(heights, sex == \"Male\"), mean = mean(height), sd = sd(height))\n",
    "\n",
    "# Now add these parameters to the plot\n",
    "qq_male = qq_male + geom_qq(dparams = params, color = randomColor())\n",
    "\n",
    "# Add an identity line, title, and theme\n",
    "qq_male = qq_male + geom_abline() + ggtitle(\"Quantile-Quantile Plot for Male heights\") + theme_stata()"
   ]
  },
  {
   "cell_type": "code",
   "execution_count": 433,
   "metadata": {},
   "outputs": [],
   "source": [
    "# Now do the same for females\n",
    "qq_female = ggplot (data = filter(heights, sex == \"Female\"), aes(sample = scale(height))) # using standard units here\n",
    "qq_female = qq_female + geom_qq(color = randomColors())\n",
    "qq_female = qq_female + geom_abline() + ggtitle(\"Quantile-Quantile Plot for Female heights\") + theme_stata()\n",
    "\n",
    "# As we're using standard units for females, we don't need to recompute mean and sd"
   ]
  },
  {
   "cell_type": "code",
   "execution_count": 434,
   "metadata": {},
   "outputs": [
    {
     "data": {
      "image/png": "[encoded data removed]",
      "text/plain": [
       "plot without title"
      ]
     },
     "metadata": {},
     "output_type": "display_data"
    }
   ],
   "source": [
    "# Finally, show them next to each other\n",
    "grid.arrange(qq_female, qq_male, ncol = 2)"
   ]
  },
  {
   "cell_type": "markdown",
   "metadata": {},
   "source": [
    "This notebook ends here."
   ]
  }
 ],
 "metadata": {
  "kernelspec": {
   "display_name": "R",
   "language": "R",
   "name": "ir"
  },
  "language_info": {
   "codemirror_mode": "r",
   "file_extension": ".r",
   "mimetype": "text/x-r-source",
   "name": "R",
   "pygments_lexer": "r",
   "version": "3.5.0"
  }
 },
 "nbformat": 4,
 "nbformat_minor": 2
}
