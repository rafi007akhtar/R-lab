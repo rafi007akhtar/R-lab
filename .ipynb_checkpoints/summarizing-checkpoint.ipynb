{
 "cells": [
  {
   "cell_type": "markdown",
   "metadata": {},
   "source": [
    "# Summarizing with `dplyr`\n",
    "\n",
    "Basic summarizing tools provided with the `dplyr` package."
   ]
  },
  {
   "cell_type": "code",
   "execution_count": 10,
   "metadata": {},
   "outputs": [],
   "source": [
    "# Load dependencies\n",
    "library(dplyr)\n",
    "library(dslabs)\n",
    "data(heights)\n",
    "data(murders)"
   ]
  },
  {
   "cell_type": "markdown",
   "metadata": {},
   "source": [
    "## Use the `summarize` function"
   ]
  },
  {
   "cell_type": "code",
   "execution_count": 6,
   "metadata": {},
   "outputs": [
    {
     "data": {
      "text/html": [
       "<table>\n",
       "<thead><tr><th scope=col>average</th><th scope=col>sd</th></tr></thead>\n",
       "<tbody>\n",
       "\t<tr><td>69.31475</td><td>3.611024</td></tr>\n",
       "</tbody>\n",
       "</table>\n"
      ],
      "text/latex": [
       "\\begin{tabular}{r|ll}\n",
       " average & sd\\\\\n",
       "\\hline\n",
       "\t 69.31475 & 3.611024\\\\\n",
       "\\end{tabular}\n"
      ],
      "text/markdown": [
       "\n",
       "average | sd | \n",
       "|---|\n",
       "| 69.31475 | 3.611024 | \n",
       "\n",
       "\n"
      ],
      "text/plain": [
       "  average  sd      \n",
       "1 69.31475 3.611024"
      ]
     },
     "metadata": {},
     "output_type": "display_data"
    }
   ],
   "source": [
    "# Summarize using the `summarize` function of dplyr\n",
    "df = heights %>% filter(sex == \"Male\") %>% summarize (average = mean(height), sd = sd(height))\n",
    "df # will produce the data frame in a table format"
   ]
  },
  {
   "cell_type": "code",
   "execution_count": 9,
   "metadata": {},
   "outputs": [
    {
     "data": {
      "text/html": [
       "<span style=white-space:pre-wrap>'Average:  69.3147549414356'</span>"
      ],
      "text/latex": [
       "'Average:  69.3147549414356'"
      ],
      "text/markdown": [
       "<span style=white-space:pre-wrap>'Average:  69.3147549414356'</span>"
      ],
      "text/plain": [
       "[1] \"Average:  69.3147549414356\""
      ]
     },
     "metadata": {},
     "output_type": "display_data"
    },
    {
     "data": {
      "text/html": [
       "<table>\n",
       "<thead><tr><th scope=col>sd</th></tr></thead>\n",
       "<tbody>\n",
       "\t<tr><td>3.611024</td></tr>\n",
       "</tbody>\n",
       "</table>\n"
      ],
      "text/latex": [
       "\\begin{tabular}{r|l}\n",
       " sd\\\\\n",
       "\\hline\n",
       "\t 3.611024\\\\\n",
       "\\end{tabular}\n"
      ],
      "text/markdown": [
       "\n",
       "sd | \n",
       "|---|\n",
       "| 3.611024 | \n",
       "\n",
       "\n"
      ],
      "text/plain": [
       "  sd      \n",
       "1 3.611024"
      ]
     },
     "metadata": {},
     "output_type": "display_data"
    }
   ],
   "source": [
    "# Access attributes using $ and [] symbols\n",
    "paste(\"Average: \", df$average)\n",
    "df[\"sd\"]"
   ]
  },
  {
   "cell_type": "markdown",
   "metadata": {},
   "source": [
    "## Use the dot operator"
   ]
  },
  {
   "cell_type": "code",
   "execution_count": 18,
   "metadata": {},
   "outputs": [
    {
     "data": {
      "text/html": [
       "<table>\n",
       "<thead><tr><th scope=col>mRate</th></tr></thead>\n",
       "<tbody>\n",
       "\t<tr><td>0.3034555</td></tr>\n",
       "</tbody>\n",
       "</table>\n"
      ],
      "text/latex": [
       "\\begin{tabular}{r|l}\n",
       " mRate\\\\\n",
       "\\hline\n",
       "\t 0.3034555\\\\\n",
       "\\end{tabular}\n"
      ],
      "text/markdown": [
       "\n",
       "mRate | \n",
       "|---|\n",
       "| 0.3034555 | \n",
       "\n",
       "\n"
      ],
      "text/plain": [
       "  mRate    \n",
       "1 0.3034555"
      ]
     },
     "metadata": {},
     "output_type": "display_data"
    },
    {
     "data": {
      "text/html": [
       "'rate is a data.frame'"
      ],
      "text/latex": [
       "'rate is a data.frame'"
      ],
      "text/markdown": [
       "'rate is a data.frame'"
      ],
      "text/plain": [
       "[1] \"rate is a data.frame\""
      ]
     },
     "metadata": {},
     "output_type": "display_data"
    }
   ],
   "source": [
    "# Compute the US murder rate\n",
    "rate = murders %>% summarize(mRate = sum(total) / sum(population) * 10000)\n",
    "rate\n",
    "paste(\"rate is a\", class(rate))"
   ]
  },
  {
   "cell_type": "code",
   "execution_count": 25,
   "metadata": {},
   "outputs": [
    {
     "data": {
      "text/html": [
       "0.303455486317059"
      ],
      "text/latex": [
       "0.303455486317059"
      ],
      "text/markdown": [
       "0.303455486317059"
      ],
      "text/plain": [
       "[1] 0.3034555"
      ]
     },
     "metadata": {},
     "output_type": "display_data"
    },
    {
     "data": {
      "text/html": [
       "'numRate is a numeric'"
      ],
      "text/latex": [
       "'numRate is a numeric'"
      ],
      "text/markdown": [
       "'numRate is a numeric'"
      ],
      "text/plain": [
       "[1] \"numRate is a numeric\""
      ]
     },
     "metadata": {},
     "output_type": "display_data"
    }
   ],
   "source": [
    "# Note that the rate is a data-frame -- we cannot perform numeric computations with it\n",
    "# This issue can be resolved by using the dot (.) operator with a pipe\n",
    "numRate = rate %>% .$mRate # since `rate` is a data-frame, its attribute can be accessed through the $ operator\n",
    "numRate\n",
    "paste(\"numRate is a\", class(numRate))"
   ]
  },
  {
   "cell_type": "markdown",
   "metadata": {},
   "source": [
    "## Summarize after grouping"
   ]
  },
  {
   "cell_type": "code",
   "execution_count": 29,
   "metadata": {},
   "outputs": [
    {
     "data": {
      "text/html": [
       "<table>\n",
       "<thead><tr><th scope=col>sex</th><th scope=col>average</th><th scope=col>sd</th></tr></thead>\n",
       "<tbody>\n",
       "\t<tr><td>Female  </td><td>64.93942</td><td>3.760656</td></tr>\n",
       "\t<tr><td>Male    </td><td>69.31475</td><td>3.611024</td></tr>\n",
       "</tbody>\n",
       "</table>\n"
      ],
      "text/latex": [
       "\\begin{tabular}{r|lll}\n",
       " sex & average & sd\\\\\n",
       "\\hline\n",
       "\t Female   & 64.93942 & 3.760656\\\\\n",
       "\t Male     & 69.31475 & 3.611024\\\\\n",
       "\\end{tabular}\n"
      ],
      "text/markdown": [
       "\n",
       "sex | average | sd | \n",
       "|---|---|\n",
       "| Female   | 64.93942 | 3.760656 | \n",
       "| Male     | 69.31475 | 3.611024 | \n",
       "\n",
       "\n"
      ],
      "text/plain": [
       "  sex    average  sd      \n",
       "1 Female 64.93942 3.760656\n",
       "2 Male   69.31475 3.611024"
      ]
     },
     "metadata": {},
     "output_type": "display_data"
    }
   ],
   "source": [
    "group = heights %>% group_by(sex)\n",
    "group %>% summarize (average = mean(height), sd = sd(height))"
   ]
  },
  {
   "cell_type": "code",
   "execution_count": 33,
   "metadata": {},
   "outputs": [
    {
     "data": {
      "text/html": [
       "<table>\n",
       "<thead><tr><th scope=col>region</th><th scope=col>average</th><th scope=col>sd</th></tr></thead>\n",
       "<tbody>\n",
       "\t<tr><td>Northeast    </td><td>163.2222     </td><td>200.1935     </td></tr>\n",
       "\t<tr><td>South        </td><td>246.7647     </td><td>212.8622     </td></tr>\n",
       "\t<tr><td>North Central</td><td>152.3333     </td><td>154.2244     </td></tr>\n",
       "\t<tr><td>West         </td><td>147.0000     </td><td>339.1015     </td></tr>\n",
       "</tbody>\n",
       "</table>\n"
      ],
      "text/latex": [
       "\\begin{tabular}{r|lll}\n",
       " region & average & sd\\\\\n",
       "\\hline\n",
       "\t Northeast     & 163.2222      & 200.1935     \\\\\n",
       "\t South         & 246.7647      & 212.8622     \\\\\n",
       "\t North Central & 152.3333      & 154.2244     \\\\\n",
       "\t West          & 147.0000      & 339.1015     \\\\\n",
       "\\end{tabular}\n"
      ],
      "text/markdown": [
       "\n",
       "region | average | sd | \n",
       "|---|---|---|---|\n",
       "| Northeast     | 163.2222      | 200.1935      | \n",
       "| South         | 246.7647      | 212.8622      | \n",
       "| North Central | 152.3333      | 154.2244      | \n",
       "| West          | 147.0000      | 339.1015      | \n",
       "\n",
       "\n"
      ],
      "text/plain": [
       "  region        average  sd      \n",
       "1 Northeast     163.2222 200.1935\n",
       "2 South         246.7647 212.8622\n",
       "3 North Central 152.3333 154.2244\n",
       "4 West          147.0000 339.1015"
      ]
     },
     "metadata": {},
     "output_type": "display_data"
    }
   ],
   "source": [
    "group1 = murders %>% group_by(region)\n",
    "# str(group1)\n",
    "group1 %>% summarize (average = mean(total), sd = sd(total))"
   ]
  },
  {
   "cell_type": "markdown",
   "metadata": {},
   "source": [
    "## Sort out full tables using `arrange` function"
   ]
  },
  {
   "cell_type": "code",
   "execution_count": 34,
   "metadata": {},
   "outputs": [
    {
     "data": {
      "text/html": [
       "<table>\n",
       "<thead><tr><th scope=col>state</th><th scope=col>abb</th><th scope=col>region</th><th scope=col>population</th><th scope=col>total</th></tr></thead>\n",
       "<tbody>\n",
       "\t<tr><td>Wyoming             </td><td>WY                  </td><td>West                </td><td>563626              </td><td> 5                  </td></tr>\n",
       "\t<tr><td>District of Columbia</td><td>DC                  </td><td>South               </td><td>601723              </td><td>99                  </td></tr>\n",
       "\t<tr><td>Vermont             </td><td>VT                  </td><td>Northeast           </td><td>625741              </td><td> 2                  </td></tr>\n",
       "\t<tr><td>North Dakota        </td><td>ND                  </td><td>North Central       </td><td>672591              </td><td> 4                  </td></tr>\n",
       "\t<tr><td>Alaska              </td><td>AK                  </td><td>West                </td><td>710231              </td><td>19                  </td></tr>\n",
       "\t<tr><td>South Dakota        </td><td>SD                  </td><td>North Central       </td><td>814180              </td><td> 8                  </td></tr>\n",
       "</tbody>\n",
       "</table>\n"
      ],
      "text/latex": [
       "\\begin{tabular}{r|lllll}\n",
       " state & abb & region & population & total\\\\\n",
       "\\hline\n",
       "\t Wyoming              & WY                   & West                 & 563626               &  5                  \\\\\n",
       "\t District of Columbia & DC                   & South                & 601723               & 99                  \\\\\n",
       "\t Vermont              & VT                   & Northeast            & 625741               &  2                  \\\\\n",
       "\t North Dakota         & ND                   & North Central        & 672591               &  4                  \\\\\n",
       "\t Alaska               & AK                   & West                 & 710231               & 19                  \\\\\n",
       "\t South Dakota         & SD                   & North Central        & 814180               &  8                  \\\\\n",
       "\\end{tabular}\n"
      ],
      "text/markdown": [
       "\n",
       "state | abb | region | population | total | \n",
       "|---|---|---|---|---|---|\n",
       "| Wyoming              | WY                   | West                 | 563626               |  5                   | \n",
       "| District of Columbia | DC                   | South                | 601723               | 99                   | \n",
       "| Vermont              | VT                   | Northeast            | 625741               |  2                   | \n",
       "| North Dakota         | ND                   | North Central        | 672591               |  4                   | \n",
       "| Alaska               | AK                   | West                 | 710231               | 19                   | \n",
       "| South Dakota         | SD                   | North Central        | 814180               |  8                   | \n",
       "\n",
       "\n"
      ],
      "text/plain": [
       "  state                abb region        population total\n",
       "1 Wyoming              WY  West          563626      5   \n",
       "2 District of Columbia DC  South         601723     99   \n",
       "3 Vermont              VT  Northeast     625741      2   \n",
       "4 North Dakota         ND  North Central 672591      4   \n",
       "5 Alaska               AK  West          710231     19   \n",
       "6 South Dakota         SD  North Central 814180      8   "
      ]
     },
     "metadata": {},
     "output_type": "display_data"
    }
   ],
   "source": [
    "# Sort the murders data frame by their population sizes\n",
    "murders %>% arrange(population) %>% head()"
   ]
  },
  {
   "cell_type": "code",
   "execution_count": 35,
   "metadata": {},
   "outputs": [
    {
     "data": {
      "text/html": [
       "<table>\n",
       "<thead><tr><th scope=col>state</th><th scope=col>abb</th><th scope=col>region</th><th scope=col>population</th><th scope=col>total</th></tr></thead>\n",
       "<tbody>\n",
       "\t<tr><td>California   </td><td>CA           </td><td>West         </td><td>37253956     </td><td>1257         </td></tr>\n",
       "\t<tr><td>Texas        </td><td>TX           </td><td>South        </td><td>25145561     </td><td> 805         </td></tr>\n",
       "\t<tr><td>Florida      </td><td>FL           </td><td>South        </td><td>19687653     </td><td> 669         </td></tr>\n",
       "\t<tr><td>New York     </td><td>NY           </td><td>Northeast    </td><td>19378102     </td><td> 517         </td></tr>\n",
       "\t<tr><td>Pennsylvania </td><td>PA           </td><td>Northeast    </td><td>12702379     </td><td> 457         </td></tr>\n",
       "\t<tr><td>Michigan     </td><td>MI           </td><td>North Central</td><td> 9883640     </td><td> 413         </td></tr>\n",
       "</tbody>\n",
       "</table>\n"
      ],
      "text/latex": [
       "\\begin{tabular}{r|lllll}\n",
       " state & abb & region & population & total\\\\\n",
       "\\hline\n",
       "\t California    & CA            & West          & 37253956      & 1257         \\\\\n",
       "\t Texas         & TX            & South         & 25145561      &  805         \\\\\n",
       "\t Florida       & FL            & South         & 19687653      &  669         \\\\\n",
       "\t New York      & NY            & Northeast     & 19378102      &  517         \\\\\n",
       "\t Pennsylvania  & PA            & Northeast     & 12702379      &  457         \\\\\n",
       "\t Michigan      & MI            & North Central &  9883640      &  413         \\\\\n",
       "\\end{tabular}\n"
      ],
      "text/markdown": [
       "\n",
       "state | abb | region | population | total | \n",
       "|---|---|---|---|---|---|\n",
       "| California    | CA            | West          | 37253956      | 1257          | \n",
       "| Texas         | TX            | South         | 25145561      |  805          | \n",
       "| Florida       | FL            | South         | 19687653      |  669          | \n",
       "| New York      | NY            | Northeast     | 19378102      |  517          | \n",
       "| Pennsylvania  | PA            | Northeast     | 12702379      |  457          | \n",
       "| Michigan      | MI            | North Central |  9883640      |  413          | \n",
       "\n",
       "\n"
      ],
      "text/plain": [
       "  state        abb region        population total\n",
       "1 California   CA  West          37253956   1257 \n",
       "2 Texas        TX  South         25145561    805 \n",
       "3 Florida      FL  South         19687653    669 \n",
       "4 New York     NY  Northeast     19378102    517 \n",
       "5 Pennsylvania PA  Northeast     12702379    457 \n",
       "6 Michigan     MI  North Central  9883640    413 "
      ]
     },
     "metadata": {},
     "output_type": "display_data"
    }
   ],
   "source": [
    "# Sort with highest murder totals first\n",
    "murders %>% arrange(desc(total)) %>% head()"
   ]
  },
  {
   "cell_type": "code",
   "execution_count": 38,
   "metadata": {},
   "outputs": [
    {
     "data": {
      "text/html": [
       "<table>\n",
       "<thead><tr><th scope=col>state</th><th scope=col>abb</th><th scope=col>region</th><th scope=col>population</th><th scope=col>total</th></tr></thead>\n",
       "<tbody>\n",
       "\t<tr><td>Vermont             </td><td>VT                  </td><td>Northeast           </td><td>  625741            </td><td>   2                </td></tr>\n",
       "\t<tr><td>North Dakota        </td><td>ND                  </td><td>North Central       </td><td>  672591            </td><td>   4                </td></tr>\n",
       "\t<tr><td>Wyoming             </td><td>WY                  </td><td>West                </td><td>  563626            </td><td>   5                </td></tr>\n",
       "\t<tr><td>New Hampshire       </td><td>NH                  </td><td>Northeast           </td><td> 1316470            </td><td>   5                </td></tr>\n",
       "\t<tr><td>Hawaii              </td><td>HI                  </td><td>West                </td><td> 1360301            </td><td>   7                </td></tr>\n",
       "\t<tr><td>South Dakota        </td><td>SD                  </td><td>North Central       </td><td>  814180            </td><td>   8                </td></tr>\n",
       "\t<tr><td>Maine               </td><td>ME                  </td><td>Northeast           </td><td> 1328361            </td><td>  11                </td></tr>\n",
       "\t<tr><td>Montana             </td><td>MT                  </td><td>West                </td><td>  989415            </td><td>  12                </td></tr>\n",
       "\t<tr><td>Idaho               </td><td>ID                  </td><td>West                </td><td> 1567582            </td><td>  12                </td></tr>\n",
       "\t<tr><td>Rhode Island        </td><td>RI                  </td><td>Northeast           </td><td> 1052567            </td><td>  16                </td></tr>\n",
       "\t<tr><td>Alaska              </td><td>AK                  </td><td>West                </td><td>  710231            </td><td>  19                </td></tr>\n",
       "\t<tr><td>Iowa                </td><td>IA                  </td><td>North Central       </td><td> 3046355            </td><td>  21                </td></tr>\n",
       "\t<tr><td>Utah                </td><td>UT                  </td><td>West                </td><td> 2763885            </td><td>  22                </td></tr>\n",
       "\t<tr><td>West Virginia       </td><td>WV                  </td><td>South               </td><td> 1852994            </td><td>  27                </td></tr>\n",
       "\t<tr><td>Nebraska            </td><td>NE                  </td><td>North Central       </td><td> 1826341            </td><td>  32                </td></tr>\n",
       "\t<tr><td>Oregon              </td><td>OR                  </td><td>West                </td><td> 3831074            </td><td>  36                </td></tr>\n",
       "\t<tr><td>Delaware            </td><td>DE                  </td><td>South               </td><td>  897934            </td><td>  38                </td></tr>\n",
       "\t<tr><td>Minnesota           </td><td>MN                  </td><td>North Central       </td><td> 5303925            </td><td>  53                </td></tr>\n",
       "\t<tr><td>Kansas              </td><td>KS                  </td><td>North Central       </td><td> 2853118            </td><td>  63                </td></tr>\n",
       "\t<tr><td>Colorado            </td><td>CO                  </td><td>West                </td><td> 5029196            </td><td>  65                </td></tr>\n",
       "\t<tr><td>New Mexico          </td><td>NM                  </td><td>West                </td><td> 2059179            </td><td>  67                </td></tr>\n",
       "\t<tr><td>Nevada              </td><td>NV                  </td><td>West                </td><td> 2700551            </td><td>  84                </td></tr>\n",
       "\t<tr><td>Arkansas            </td><td>AR                  </td><td>South               </td><td> 2915918            </td><td>  93                </td></tr>\n",
       "\t<tr><td>Washington          </td><td>WA                  </td><td>West                </td><td> 6724540            </td><td>  93                </td></tr>\n",
       "\t<tr><td>Connecticut         </td><td>CT                  </td><td>Northeast           </td><td> 3574097            </td><td>  97                </td></tr>\n",
       "\t<tr><td>Wisconsin           </td><td>WI                  </td><td>North Central       </td><td> 5686986            </td><td>  97                </td></tr>\n",
       "\t<tr><td>District of Columbia</td><td>DC                  </td><td>South               </td><td>  601723            </td><td>  99                </td></tr>\n",
       "\t<tr><td>Oklahoma            </td><td>OK                  </td><td>South               </td><td> 3751351            </td><td> 111                </td></tr>\n",
       "\t<tr><td>Kentucky            </td><td>KY                  </td><td>South               </td><td> 4339367            </td><td> 116                </td></tr>\n",
       "\t<tr><td>Massachusetts       </td><td>MA                  </td><td>Northeast           </td><td> 6547629            </td><td> 118                </td></tr>\n",
       "\t<tr><td>Mississippi         </td><td>MS                  </td><td>South               </td><td> 2967297            </td><td> 120                </td></tr>\n",
       "\t<tr><td>Alabama             </td><td>AL                  </td><td>South               </td><td> 4779736            </td><td> 135                </td></tr>\n",
       "\t<tr><td>Indiana             </td><td>IN                  </td><td>North Central       </td><td> 6483802            </td><td> 142                </td></tr>\n",
       "\t<tr><td>South Carolina      </td><td>SC                  </td><td>South               </td><td> 4625364            </td><td> 207                </td></tr>\n",
       "\t<tr><td>Tennessee           </td><td>TN                  </td><td>South               </td><td> 6346105            </td><td> 219                </td></tr>\n",
       "\t<tr><td>Arizona             </td><td>AZ                  </td><td>West                </td><td> 6392017            </td><td> 232                </td></tr>\n",
       "\t<tr><td>New Jersey          </td><td>NJ                  </td><td>Northeast           </td><td> 8791894            </td><td> 246                </td></tr>\n",
       "\t<tr><td>Virginia            </td><td>VA                  </td><td>South               </td><td> 8001024            </td><td> 250                </td></tr>\n",
       "\t<tr><td>North Carolina      </td><td>NC                  </td><td>South               </td><td> 9535483            </td><td> 286                </td></tr>\n",
       "\t<tr><td>Maryland            </td><td>MD                  </td><td>South               </td><td> 5773552            </td><td> 293                </td></tr>\n",
       "\t<tr><td>Ohio                </td><td>OH                  </td><td>North Central       </td><td>11536504            </td><td> 310                </td></tr>\n",
       "\t<tr><td>Missouri            </td><td>MO                  </td><td>North Central       </td><td> 5988927            </td><td> 321                </td></tr>\n",
       "\t<tr><td>Louisiana           </td><td>LA                  </td><td>South               </td><td> 4533372            </td><td> 351                </td></tr>\n",
       "\t<tr><td>Illinois            </td><td>IL                  </td><td>North Central       </td><td>12830632            </td><td> 364                </td></tr>\n",
       "\t<tr><td>Georgia             </td><td>GA                  </td><td>South               </td><td> 9920000            </td><td> 376                </td></tr>\n",
       "\t<tr><td>Michigan            </td><td>MI                  </td><td>North Central       </td><td> 9883640            </td><td> 413                </td></tr>\n",
       "\t<tr><td>Pennsylvania        </td><td>PA                  </td><td>Northeast           </td><td>12702379            </td><td> 457                </td></tr>\n",
       "\t<tr><td>New York            </td><td>NY                  </td><td>Northeast           </td><td>19378102            </td><td> 517                </td></tr>\n",
       "\t<tr><td>Florida             </td><td>FL                  </td><td>South               </td><td>19687653            </td><td> 669                </td></tr>\n",
       "\t<tr><td>Texas               </td><td>TX                  </td><td>South               </td><td>25145561            </td><td> 805                </td></tr>\n",
       "\t<tr><td>California          </td><td>CA                  </td><td>West                </td><td>37253956            </td><td>1257                </td></tr>\n",
       "</tbody>\n",
       "</table>\n"
      ],
      "text/latex": [
       "\\begin{tabular}{r|lllll}\n",
       " state & abb & region & population & total\\\\\n",
       "\\hline\n",
       "\t Vermont              & VT                   & Northeast            &   625741             &    2                \\\\\n",
       "\t North Dakota         & ND                   & North Central        &   672591             &    4                \\\\\n",
       "\t Wyoming              & WY                   & West                 &   563626             &    5                \\\\\n",
       "\t New Hampshire        & NH                   & Northeast            &  1316470             &    5                \\\\\n",
       "\t Hawaii               & HI                   & West                 &  1360301             &    7                \\\\\n",
       "\t South Dakota         & SD                   & North Central        &   814180             &    8                \\\\\n",
       "\t Maine                & ME                   & Northeast            &  1328361             &   11                \\\\\n",
       "\t Montana              & MT                   & West                 &   989415             &   12                \\\\\n",
       "\t Idaho                & ID                   & West                 &  1567582             &   12                \\\\\n",
       "\t Rhode Island         & RI                   & Northeast            &  1052567             &   16                \\\\\n",
       "\t Alaska               & AK                   & West                 &   710231             &   19                \\\\\n",
       "\t Iowa                 & IA                   & North Central        &  3046355             &   21                \\\\\n",
       "\t Utah                 & UT                   & West                 &  2763885             &   22                \\\\\n",
       "\t West Virginia        & WV                   & South                &  1852994             &   27                \\\\\n",
       "\t Nebraska             & NE                   & North Central        &  1826341             &   32                \\\\\n",
       "\t Oregon               & OR                   & West                 &  3831074             &   36                \\\\\n",
       "\t Delaware             & DE                   & South                &   897934             &   38                \\\\\n",
       "\t Minnesota            & MN                   & North Central        &  5303925             &   53                \\\\\n",
       "\t Kansas               & KS                   & North Central        &  2853118             &   63                \\\\\n",
       "\t Colorado             & CO                   & West                 &  5029196             &   65                \\\\\n",
       "\t New Mexico           & NM                   & West                 &  2059179             &   67                \\\\\n",
       "\t Nevada               & NV                   & West                 &  2700551             &   84                \\\\\n",
       "\t Arkansas             & AR                   & South                &  2915918             &   93                \\\\\n",
       "\t Washington           & WA                   & West                 &  6724540             &   93                \\\\\n",
       "\t Connecticut          & CT                   & Northeast            &  3574097             &   97                \\\\\n",
       "\t Wisconsin            & WI                   & North Central        &  5686986             &   97                \\\\\n",
       "\t District of Columbia & DC                   & South                &   601723             &   99                \\\\\n",
       "\t Oklahoma             & OK                   & South                &  3751351             &  111                \\\\\n",
       "\t Kentucky             & KY                   & South                &  4339367             &  116                \\\\\n",
       "\t Massachusetts        & MA                   & Northeast            &  6547629             &  118                \\\\\n",
       "\t Mississippi          & MS                   & South                &  2967297             &  120                \\\\\n",
       "\t Alabama              & AL                   & South                &  4779736             &  135                \\\\\n",
       "\t Indiana              & IN                   & North Central        &  6483802             &  142                \\\\\n",
       "\t South Carolina       & SC                   & South                &  4625364             &  207                \\\\\n",
       "\t Tennessee            & TN                   & South                &  6346105             &  219                \\\\\n",
       "\t Arizona              & AZ                   & West                 &  6392017             &  232                \\\\\n",
       "\t New Jersey           & NJ                   & Northeast            &  8791894             &  246                \\\\\n",
       "\t Virginia             & VA                   & South                &  8001024             &  250                \\\\\n",
       "\t North Carolina       & NC                   & South                &  9535483             &  286                \\\\\n",
       "\t Maryland             & MD                   & South                &  5773552             &  293                \\\\\n",
       "\t Ohio                 & OH                   & North Central        & 11536504             &  310                \\\\\n",
       "\t Missouri             & MO                   & North Central        &  5988927             &  321                \\\\\n",
       "\t Louisiana            & LA                   & South                &  4533372             &  351                \\\\\n",
       "\t Illinois             & IL                   & North Central        & 12830632             &  364                \\\\\n",
       "\t Georgia              & GA                   & South                &  9920000             &  376                \\\\\n",
       "\t Michigan             & MI                   & North Central        &  9883640             &  413                \\\\\n",
       "\t Pennsylvania         & PA                   & Northeast            & 12702379             &  457                \\\\\n",
       "\t New York             & NY                   & Northeast            & 19378102             &  517                \\\\\n",
       "\t Florida              & FL                   & South                & 19687653             &  669                \\\\\n",
       "\t Texas                & TX                   & South                & 25145561             &  805                \\\\\n",
       "\t California           & CA                   & West                 & 37253956             & 1257                \\\\\n",
       "\\end{tabular}\n"
      ],
      "text/markdown": [
       "\n",
       "state | abb | region | population | total | \n",
       "|---|---|---|---|---|---|---|---|---|---|---|---|---|---|---|---|---|---|---|---|---|---|---|---|---|---|---|---|---|---|---|---|---|---|---|---|---|---|---|---|---|---|---|---|---|---|---|---|---|---|---|\n",
       "| Vermont              | VT                   | Northeast            |   625741             |    2                 | \n",
       "| North Dakota         | ND                   | North Central        |   672591             |    4                 | \n",
       "| Wyoming              | WY                   | West                 |   563626             |    5                 | \n",
       "| New Hampshire        | NH                   | Northeast            |  1316470             |    5                 | \n",
       "| Hawaii               | HI                   | West                 |  1360301             |    7                 | \n",
       "| South Dakota         | SD                   | North Central        |   814180             |    8                 | \n",
       "| Maine                | ME                   | Northeast            |  1328361             |   11                 | \n",
       "| Montana              | MT                   | West                 |   989415             |   12                 | \n",
       "| Idaho                | ID                   | West                 |  1567582             |   12                 | \n",
       "| Rhode Island         | RI                   | Northeast            |  1052567             |   16                 | \n",
       "| Alaska               | AK                   | West                 |   710231             |   19                 | \n",
       "| Iowa                 | IA                   | North Central        |  3046355             |   21                 | \n",
       "| Utah                 | UT                   | West                 |  2763885             |   22                 | \n",
       "| West Virginia        | WV                   | South                |  1852994             |   27                 | \n",
       "| Nebraska             | NE                   | North Central        |  1826341             |   32                 | \n",
       "| Oregon               | OR                   | West                 |  3831074             |   36                 | \n",
       "| Delaware             | DE                   | South                |   897934             |   38                 | \n",
       "| Minnesota            | MN                   | North Central        |  5303925             |   53                 | \n",
       "| Kansas               | KS                   | North Central        |  2853118             |   63                 | \n",
       "| Colorado             | CO                   | West                 |  5029196             |   65                 | \n",
       "| New Mexico           | NM                   | West                 |  2059179             |   67                 | \n",
       "| Nevada               | NV                   | West                 |  2700551             |   84                 | \n",
       "| Arkansas             | AR                   | South                |  2915918             |   93                 | \n",
       "| Washington           | WA                   | West                 |  6724540             |   93                 | \n",
       "| Connecticut          | CT                   | Northeast            |  3574097             |   97                 | \n",
       "| Wisconsin            | WI                   | North Central        |  5686986             |   97                 | \n",
       "| District of Columbia | DC                   | South                |   601723             |   99                 | \n",
       "| Oklahoma             | OK                   | South                |  3751351             |  111                 | \n",
       "| Kentucky             | KY                   | South                |  4339367             |  116                 | \n",
       "| Massachusetts        | MA                   | Northeast            |  6547629             |  118                 | \n",
       "| Mississippi          | MS                   | South                |  2967297             |  120                 | \n",
       "| Alabama              | AL                   | South                |  4779736             |  135                 | \n",
       "| Indiana              | IN                   | North Central        |  6483802             |  142                 | \n",
       "| South Carolina       | SC                   | South                |  4625364             |  207                 | \n",
       "| Tennessee            | TN                   | South                |  6346105             |  219                 | \n",
       "| Arizona              | AZ                   | West                 |  6392017             |  232                 | \n",
       "| New Jersey           | NJ                   | Northeast            |  8791894             |  246                 | \n",
       "| Virginia             | VA                   | South                |  8001024             |  250                 | \n",
       "| North Carolina       | NC                   | South                |  9535483             |  286                 | \n",
       "| Maryland             | MD                   | South                |  5773552             |  293                 | \n",
       "| Ohio                 | OH                   | North Central        | 11536504             |  310                 | \n",
       "| Missouri             | MO                   | North Central        |  5988927             |  321                 | \n",
       "| Louisiana            | LA                   | South                |  4533372             |  351                 | \n",
       "| Illinois             | IL                   | North Central        | 12830632             |  364                 | \n",
       "| Georgia              | GA                   | South                |  9920000             |  376                 | \n",
       "| Michigan             | MI                   | North Central        |  9883640             |  413                 | \n",
       "| Pennsylvania         | PA                   | Northeast            | 12702379             |  457                 | \n",
       "| New York             | NY                   | Northeast            | 19378102             |  517                 | \n",
       "| Florida              | FL                   | South                | 19687653             |  669                 | \n",
       "| Texas                | TX                   | South                | 25145561             |  805                 | \n",
       "| California           | CA                   | West                 | 37253956             | 1257                 | \n",
       "\n",
       "\n"
      ],
      "text/plain": [
       "   state                abb region        population total\n",
       "1  Vermont              VT  Northeast       625741      2 \n",
       "2  North Dakota         ND  North Central   672591      4 \n",
       "3  Wyoming              WY  West            563626      5 \n",
       "4  New Hampshire        NH  Northeast      1316470      5 \n",
       "5  Hawaii               HI  West           1360301      7 \n",
       "6  South Dakota         SD  North Central   814180      8 \n",
       "7  Maine                ME  Northeast      1328361     11 \n",
       "8  Montana              MT  West            989415     12 \n",
       "9  Idaho                ID  West           1567582     12 \n",
       "10 Rhode Island         RI  Northeast      1052567     16 \n",
       "11 Alaska               AK  West            710231     19 \n",
       "12 Iowa                 IA  North Central  3046355     21 \n",
       "13 Utah                 UT  West           2763885     22 \n",
       "14 West Virginia        WV  South          1852994     27 \n",
       "15 Nebraska             NE  North Central  1826341     32 \n",
       "16 Oregon               OR  West           3831074     36 \n",
       "17 Delaware             DE  South           897934     38 \n",
       "18 Minnesota            MN  North Central  5303925     53 \n",
       "19 Kansas               KS  North Central  2853118     63 \n",
       "20 Colorado             CO  West           5029196     65 \n",
       "21 New Mexico           NM  West           2059179     67 \n",
       "22 Nevada               NV  West           2700551     84 \n",
       "23 Arkansas             AR  South          2915918     93 \n",
       "24 Washington           WA  West           6724540     93 \n",
       "25 Connecticut          CT  Northeast      3574097     97 \n",
       "26 Wisconsin            WI  North Central  5686986     97 \n",
       "27 District of Columbia DC  South           601723     99 \n",
       "28 Oklahoma             OK  South          3751351    111 \n",
       "29 Kentucky             KY  South          4339367    116 \n",
       "30 Massachusetts        MA  Northeast      6547629    118 \n",
       "31 Mississippi          MS  South          2967297    120 \n",
       "32 Alabama              AL  South          4779736    135 \n",
       "33 Indiana              IN  North Central  6483802    142 \n",
       "34 South Carolina       SC  South          4625364    207 \n",
       "35 Tennessee            TN  South          6346105    219 \n",
       "36 Arizona              AZ  West           6392017    232 \n",
       "37 New Jersey           NJ  Northeast      8791894    246 \n",
       "38 Virginia             VA  South          8001024    250 \n",
       "39 North Carolina       NC  South          9535483    286 \n",
       "40 Maryland             MD  South          5773552    293 \n",
       "41 Ohio                 OH  North Central 11536504    310 \n",
       "42 Missouri             MO  North Central  5988927    321 \n",
       "43 Louisiana            LA  South          4533372    351 \n",
       "44 Illinois             IL  North Central 12830632    364 \n",
       "45 Georgia              GA  South          9920000    376 \n",
       "46 Michigan             MI  North Central  9883640    413 \n",
       "47 Pennsylvania         PA  Northeast     12702379    457 \n",
       "48 New York             NY  Northeast     19378102    517 \n",
       "49 Florida              FL  South         19687653    669 \n",
       "50 Texas                TX  South         25145561    805 \n",
       "51 California           CA  West          37253956   1257 "
      ]
     },
     "metadata": {},
     "output_type": "display_data"
    }
   ],
   "source": [
    "# NESTED SORTING to break ties -- sort by total murders first, then break ties by sorting by population sizes\n",
    "murders %>% arrange(total, population) #%>% top_n(10) # show the first 10 entries"
   ]
  },
  {
   "cell_type": "code",
   "execution_count": null,
   "metadata": {},
   "outputs": [],
   "source": []
  }
 ],
 "metadata": {
  "kernelspec": {
   "display_name": "R",
   "language": "R",
   "name": "ir"
  },
  "language_info": {
   "codemirror_mode": "r",
   "file_extension": ".r",
   "mimetype": "text/x-r-source",
   "name": "R",
   "pygments_lexer": "r",
   "version": "3.5.0"
  }
 },
 "nbformat": 4,
 "nbformat_minor": 2
}
