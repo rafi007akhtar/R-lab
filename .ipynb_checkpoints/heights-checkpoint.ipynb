{
 "cells": [
  {
   "cell_type": "markdown",
   "metadata": {},
   "source": [
    "# Data visualization using `heights` dataset in `dslabs` package\n",
    "\n",
    "In this notebook, data visualization is covered on these two types of data.\n",
    "\n",
    "## Types of data\n",
    "\n",
    "### 1. Categorical\n",
    "    1.a Ordinal data -> can be ordered, eg., spiciness of foods (mild, medium, hot)\n",
    "    1.b Non-ordinal data -> unordered, eg., directions (north, south, east, west)\n",
    "\n",
    "### 2. Numeric\n",
    "    2.a Continues data -> can take precise, decimal values, eg., average score of a student (like 75.128)\n",
    "    2.b Discrete data -> needs to be rounded off to nearest integer, eg., population size of an area\n",
    "\n",
    "## Topics\n",
    "1. Mean, SD, Standard units\n",
    "2. Normal Distributions\n",
    "3. Quantiles\n",
    "4. Percentiles\n",
    "5. Boxplot\n",
    "6. Reordering of vectors"
   ]
  },
  {
   "cell_type": "markdown",
   "metadata": {},
   "source": [
    "## Utility functions\n",
    "\n",
    "All the utility functions are defined here."
   ]
  },
  {
   "cell_type": "code",
   "execution_count": 57,
   "metadata": {},
   "outputs": [],
   "source": [
    "randomColors = function(numberOfColors = 1) {\n",
    "    cols = c() # empty vector of colors\n",
    "    for (i in 1:numberOfColors) {\n",
    "        r = as.character(as.hexmode(sample(0:255, 1))) # amount of red\n",
    "        if (nchar(r) == 1) r = paste(\"0\", r, sep = \"\")\n",
    "        \n",
    "        g = as.character(as.hexmode(sample(0:255, 1))) # amount of green\n",
    "        if (nchar(g) == 1) r = paste(\"0\", r, sep = \"\")\n",
    "        \n",
    "        b = as.character(as.hexmode(sample(0:255, 1))) # amount of blue\n",
    "        if (nchar(b) == 1) r = paste(\"0\", r, sep = \"\")\n",
    "        \n",
    "        col = paste(\"#\", r,g,b, sep=\"\") # current random color\n",
    "        \n",
    "        if (nchar(col) != 7) col = \"#ff0000\" # safe side\n",
    "        \n",
    "        cols = append(cols, col) # append the current color to the list of colors\n",
    "    }\n",
    "    cols\n",
    "}"
   ]
  },
  {
   "cell_type": "code",
   "execution_count": 62,
   "metadata": {},
   "outputs": [],
   "source": [
    "#randomColors(100) # uncomment to test the above function"
   ]
  },
  {
   "cell_type": "markdown",
   "metadata": {},
   "source": [
    "## Load the dependencies"
   ]
  },
  {
   "cell_type": "code",
   "execution_count": 1,
   "metadata": {},
   "outputs": [
    {
     "name": "stderr",
     "output_type": "stream",
     "text": [
      "\n",
      "Attaching package: 'dplyr'\n",
      "\n",
      "The following objects are masked from 'package:stats':\n",
      "\n",
      "    filter, lag\n",
      "\n",
      "The following objects are masked from 'package:base':\n",
      "\n",
      "    intersect, setdiff, setequal, union\n",
      "\n"
     ]
    },
    {
     "data": {
      "text/html": [
       "<table>\n",
       "<thead><tr><th scope=col>sex</th><th scope=col>height</th></tr></thead>\n",
       "<tbody>\n",
       "\t<tr><td>Male  </td><td>75    </td></tr>\n",
       "\t<tr><td>Male  </td><td>70    </td></tr>\n",
       "\t<tr><td>Male  </td><td>68    </td></tr>\n",
       "\t<tr><td>Male  </td><td>74    </td></tr>\n",
       "\t<tr><td>Male  </td><td>61    </td></tr>\n",
       "\t<tr><td>Female</td><td>65    </td></tr>\n",
       "</tbody>\n",
       "</table>\n"
      ],
      "text/latex": [
       "\\begin{tabular}{r|ll}\n",
       " sex & height\\\\\n",
       "\\hline\n",
       "\t Male   & 75    \\\\\n",
       "\t Male   & 70    \\\\\n",
       "\t Male   & 68    \\\\\n",
       "\t Male   & 74    \\\\\n",
       "\t Male   & 61    \\\\\n",
       "\t Female & 65    \\\\\n",
       "\\end{tabular}\n"
      ],
      "text/markdown": [
       "\n",
       "sex | height | \n",
       "|---|---|---|---|---|---|\n",
       "| Male   | 75     | \n",
       "| Male   | 70     | \n",
       "| Male   | 68     | \n",
       "| Male   | 74     | \n",
       "| Male   | 61     | \n",
       "| Female | 65     | \n",
       "\n",
       "\n"
      ],
      "text/plain": [
       "  sex    height\n",
       "1 Male   75    \n",
       "2 Male   70    \n",
       "3 Male   68    \n",
       "4 Male   74    \n",
       "5 Male   61    \n",
       "6 Female 65    "
      ]
     },
     "metadata": {},
     "output_type": "display_data"
    }
   ],
   "source": [
    "library (dslabs)\n",
    "library (dplyr)\n",
    "data (heights)\n",
    "\n",
    "head (heights)"
   ]
  },
  {
   "cell_type": "code",
   "execution_count": 6,
   "metadata": {},
   "outputs": [
    {
     "data": {
      "text/plain": [
       "\n",
       "   Female      Male \n",
       "0.2266667 0.7733333 "
      ]
     },
     "metadata": {},
     "output_type": "display_data"
    }
   ],
   "source": [
    "# Return a table that prints the proportions of height reported for each sex category\n",
    "prop.table(table(heights$sex))"
   ]
  },
  {
   "cell_type": "code",
   "execution_count": null,
   "metadata": {},
   "outputs": [],
   "source": []
  },
  {
   "cell_type": "markdown",
   "metadata": {},
   "source": [
    "## Central Tendencies, Standard Deviation, and Standard Units\n",
    "\n",
    "Report mean, median and max of all heights and summarize them using dplyr's `summarize()` function."
   ]
  },
  {
   "cell_type": "code",
   "execution_count": 4,
   "metadata": {},
   "outputs": [
    {
     "data": {
      "text/html": [
       "<table>\n",
       "<thead><tr><th scope=col>mean</th><th scope=col>median</th><th scope=col>max</th></tr></thead>\n",
       "<tbody>\n",
       "\t<tr><td>68.32301</td><td>68.5    </td><td>82.67717</td></tr>\n",
       "</tbody>\n",
       "</table>\n"
      ],
      "text/latex": [
       "\\begin{tabular}{r|lll}\n",
       " mean & median & max\\\\\n",
       "\\hline\n",
       "\t 68.32301 & 68.5     & 82.67717\\\\\n",
       "\\end{tabular}\n"
      ],
      "text/markdown": [
       "\n",
       "mean | median | max | \n",
       "|---|\n",
       "| 68.32301 | 68.5     | 82.67717 | \n",
       "\n",
       "\n"
      ],
      "text/plain": [
       "  mean     median max     \n",
       "1 68.32301 68.5   82.67717"
      ]
     },
     "metadata": {},
     "output_type": "display_data"
    }
   ],
   "source": [
    "heights %>% summarize(\n",
    "    mean = mean(height),\n",
    "    median = median(height),\n",
    "    max = max(height)\n",
    ")"
   ]
  },
  {
   "cell_type": "markdown",
   "metadata": {},
   "source": [
    "Report the mean and SD for male and female heights separately"
   ]
  },
  {
   "cell_type": "code",
   "execution_count": 7,
   "metadata": {
    "scrolled": true
   },
   "outputs": [
    {
     "data": {
      "text/html": [
       "<dl class=dl-horizontal>\n",
       "\t<dt>Mean of male heights</dt>\n",
       "\t\t<dd>69.3147549414356</dd>\n",
       "\t<dt>SD of male heights</dt>\n",
       "\t\t<dd>3.60879945291351</dd>\n",
       "</dl>\n"
      ],
      "text/latex": [
       "\\begin{description*}\n",
       "\\item[Mean of male heights] 69.3147549414356\n",
       "\\item[SD of male heights] 3.60879945291351\n",
       "\\end{description*}\n"
      ],
      "text/markdown": [
       "Mean of male heights\n",
       ":   69.3147549414356SD of male heights\n",
       ":   3.60879945291351\n",
       "\n"
      ],
      "text/plain": [
       "Mean of male heights   SD of male heights \n",
       "           69.314755             3.608799 "
      ]
     },
     "metadata": {},
     "output_type": "display_data"
    }
   ],
   "source": [
    "# Compute the mean, SD, and standard units for male heights\n",
    "indM = heights$sex == \"Male\"\n",
    "male = heights$height [indM]\n",
    "n = length(male)\n",
    "\n",
    "meanM = sum (male) / n\n",
    "sdM = sqrt(sum ( ((male - meanM)^2) / n))\n",
    "zM = (male - meanM) / sdM # standard units\n",
    "\n",
    "c(\"Mean of male heights\" = meanM, \"SD of male heights\" =  sdM)"
   ]
  },
  {
   "cell_type": "code",
   "execution_count": 8,
   "metadata": {},
   "outputs": [
    {
     "data": {
      "text/html": [
       "<dl class=dl-horizontal>\n",
       "\t<dt>Mean of female heights</dt>\n",
       "\t\t<dd>64.9394242506451</dd>\n",
       "\t<dt>SD of female heights</dt>\n",
       "\t\t<dd>3.76065612429516</dd>\n",
       "</dl>\n"
      ],
      "text/latex": [
       "\\begin{description*}\n",
       "\\item[Mean of female heights] 64.9394242506451\n",
       "\\item[SD of female heights] 3.76065612429516\n",
       "\\end{description*}\n"
      ],
      "text/markdown": [
       "Mean of female heights\n",
       ":   64.9394242506451SD of female heights\n",
       ":   3.76065612429516\n",
       "\n"
      ],
      "text/plain": [
       "Mean of female heights   SD of female heights \n",
       "             64.939424               3.760656 "
      ]
     },
     "metadata": {},
     "output_type": "display_data"
    }
   ],
   "source": [
    "# Compute the same for female heights, but use the built-in R functions this time\n",
    "indF = heights$sex == \"Female\"\n",
    "female = heights$height [indF]\n",
    "\n",
    "meanF = mean(female)\n",
    "sdF = sd(female)\n",
    "zF = scale(female) # standard units\n",
    "\n",
    "c(\"Mean of female heights\" = meanF, \"SD of female heights\" =  sdF)"
   ]
  },
  {
   "cell_type": "code",
   "execution_count": 9,
   "metadata": {},
   "outputs": [
    {
     "data": {
      "text/html": [
       "0.949507389162562"
      ],
      "text/latex": [
       "0.949507389162562"
      ],
      "text/markdown": [
       "0.949507389162562"
      ],
      "text/plain": [
       "[1] 0.9495074"
      ]
     },
     "metadata": {},
     "output_type": "display_data"
    },
    {
     "data": {
      "text/html": [
       "0.949579831932773"
      ],
      "text/latex": [
       "0.949579831932773"
      ],
      "text/markdown": [
       "0.949579831932773"
      ],
      "text/plain": [
       "[1] 0.9495798"
      ]
     },
     "metadata": {},
     "output_type": "display_data"
    }
   ],
   "source": [
    "# Find the proportions of male and female heights two units away from the SD\n",
    "mean (abs(zM) < 2) \n",
    "mean (abs(zF) < 2)"
   ]
  },
  {
   "cell_type": "code",
   "execution_count": null,
   "metadata": {},
   "outputs": [],
   "source": []
  },
  {
   "cell_type": "markdown",
   "metadata": {},
   "source": [
    "## Normal Distributions"
   ]
  },
  {
   "cell_type": "code",
   "execution_count": 10,
   "metadata": {},
   "outputs": [
    {
     "data": {
      "text/html": [
       "<span style=white-space:pre-wrap>'Required proportion:  0.333743842364532'</span>"
      ],
      "text/latex": [
       "'Required proportion:  0.333743842364532'"
      ],
      "text/markdown": [
       "<span style=white-space:pre-wrap>'Required proportion:  0.333743842364532'</span>"
      ],
      "text/plain": [
       "[1] \"Required proportion:  0.333743842364532\""
      ]
     },
     "metadata": {},
     "output_type": "display_data"
    }
   ],
   "source": [
    "# Find the proportion of male heights more than 69 inches and less than or equal to 72 inches\n",
    "pExact = mean(male > 69 & male <= 72)\n",
    "paste(\"Required proportion: \", pExact)"
   ]
  },
  {
   "cell_type": "code",
   "execution_count": 11,
   "metadata": {},
   "outputs": [
    {
     "data": {
      "text/html": [
       "<span style=white-space:pre-wrap>'Approximate proportion:  0.306337940499623'</span>"
      ],
      "text/latex": [
       "'Approximate proportion:  0.306337940499623'"
      ],
      "text/markdown": [
       "<span style=white-space:pre-wrap>'Approximate proportion:  0.306337940499623'</span>"
      ],
      "text/plain": [
       "[1] \"Approximate proportion:  0.306337940499623\""
      ]
     },
     "metadata": {},
     "output_type": "display_data"
    }
   ],
   "source": [
    "# Repeat the above computation but using normal distribution\n",
    "# Use: meanM, sdM\n",
    "# Do NOT use: male\n",
    "\n",
    "pApprox = pnorm(72, meanM, sdM) - pnorm(69, meanM, sdM)\n",
    "paste(\"Approximate proportion: \", pApprox)"
   ]
  },
  {
   "cell_type": "code",
   "execution_count": 12,
   "metadata": {},
   "outputs": [
    {
     "data": {
      "text/html": [
       "1.08946296962176"
      ],
      "text/latex": [
       "1.08946296962176"
      ],
      "text/markdown": [
       "1.08946296962176"
      ],
      "text/plain": [
       "[1] 1.089463"
      ]
     },
     "metadata": {},
     "output_type": "display_data"
    }
   ],
   "source": [
    "# Report how many times is the exact proportion larger than the approximate one\n",
    "pExact / pApprox"
   ]
  },
  {
   "cell_type": "code",
   "execution_count": null,
   "metadata": {},
   "outputs": [],
   "source": []
  },
  {
   "cell_type": "markdown",
   "metadata": {},
   "source": [
    "## Quantiles\n",
    "\n",
    "A **quantile** for a proportion <em>p</em> is defined as the value <em>q</em> such the proportion of values in the data below <em>q</em> is <em>p</em>. <br>\n",
    "\n",
    "    f (x < q) = p\n",
    "\n",
    "Here's an example."
   ]
  },
  {
   "cell_type": "code",
   "execution_count": 13,
   "metadata": {},
   "outputs": [
    {
     "data": {
      "text/html": [
       "0.514778325123153"
      ],
      "text/latex": [
       "0.514778325123153"
      ],
      "text/markdown": [
       "0.514778325123153"
      ],
      "text/plain": [
       "[1] 0.5147783"
      ]
     },
     "metadata": {},
     "output_type": "display_data"
    }
   ],
   "source": [
    "mean (male < 69.5) "
   ]
  },
  {
   "cell_type": "markdown",
   "metadata": {},
   "source": [
    "In the above cell <br>\n",
    "`x = male`\n",
    "`p ~ 0.51`\n",
    "`q = 69.5`"
   ]
  },
  {
   "cell_type": "markdown",
   "metadata": {},
   "source": [
    "If the quantiles for data (**observed quantiles**) is match the normal quantiles (**theoretical quantiles**), then it means the data is approximated by the normal distribution.\n",
    "\n",
    "The scatter plot between theoretical and observed quantiles is called a **quantile-quantile plot**, or **q-q plot** in short."
   ]
  },
  {
   "cell_type": "code",
   "execution_count": 14,
   "metadata": {},
   "outputs": [
    {
     "data": {
      "image/png": "[encoded data removed]",
      "text/plain": [
       "Plot with title \"Q-Q plot for males\""
      ]
     },
     "metadata": {},
     "output_type": "display_data"
    }
   ],
   "source": [
    "# Define a sequence of values of p\n",
    "p = seq(0, 1, 0.05)\n",
    "\n",
    "# Compute the observed quantile for this sequence for the male heights, using the built-in quantile function\n",
    "qM_obs = quantile(male, p)\n",
    "\n",
    "# Compute the theoretical quantile for the same, using the built-in qnorm function\n",
    "qM_theo = qnorm(p, meanM, sdM)\n",
    "\n",
    "# Check whether they match by drawing a q-q plot them\n",
    "plot (qM_theo, qM_obs, xlab = \"Theoretical quantiles\", ylab = \"Observed quantiles\", main = \"Q-Q plot for males\")\n",
    "abline (0, 1) # draw a line through the plot with intercept = 0 and slope = 1"
   ]
  },
  {
   "cell_type": "code",
   "execution_count": 15,
   "metadata": {},
   "outputs": [
    {
     "data": {
      "image/png": "[encoded data removed]",
      "text/plain": [
       "Plot with title \"Q-Q plot for females\""
      ]
     },
     "metadata": {},
     "output_type": "display_data"
    }
   ],
   "source": [
    "# Repeat the same for female heights, but use standard units instead of mean and SD\n",
    "\n",
    "qF_obs = quantile (zF, p)\n",
    "qF_theo = qnorm (p)\n",
    "plot (qF_theo, qF_obs, \n",
    "      xlab = \"Theoretical quantiles\", \n",
    "      ylab = \"Observed quantiles\", \n",
    "      main = \"Q-Q plot for females\", \n",
    "      sub = \"(Using standard units)\"\n",
    ")\n",
    "abline(0,1)"
   ]
  },
  {
   "cell_type": "code",
   "execution_count": null,
   "metadata": {},
   "outputs": [],
   "source": []
  },
  {
   "cell_type": "markdown",
   "metadata": {},
   "source": [
    "## Percentiles\n",
    "\n",
    "A **percentile** referes to a quantile expressed in percent.\n",
    "\n",
    "Refer to the following table as an example.\n",
    "<table>\n",
    "    <thead>\n",
    "        <th> quantile </th>\n",
    "        <th> percentile </th>\n",
    "    </thead>\n",
    "    <tr>\n",
    "        <td> 0.1 </td>\n",
    "        <td> 10 % </td>\n",
    "    </tr>\n",
    "    <tr>\n",
    "        <td> 0.25 </td>\n",
    "        <td> 25 % </td>\n",
    "    </tr>\n",
    "    <tr>\n",
    "        <td> 0.5 </td>\n",
    "        <td> 50 % </td>\n",
    "    </tr>\n",
    "    <tr>\n",
    "        <td> 0.75 </td>\n",
    "        <td> 75 % </td>\n",
    "    </tr>\n",
    "    <tr>\n",
    "        <td> 1 </td>\n",
    "        <td> 100 % </td>\n",
    "    </tr>\n",
    "</table>\n",
    "\n",
    "And so on.\n",
    "\n",
    "The middle three rows, namely, 25 %, 50 % and 75 % are called **quartiles**.\n",
    "\n",
    "The middle row, that is the 50th percentile, is called the **median** of the distribution."
   ]
  },
  {
   "cell_type": "code",
   "execution_count": null,
   "metadata": {},
   "outputs": [],
   "source": []
  },
  {
   "cell_type": "markdown",
   "metadata": {},
   "source": [
    "## Boxplots\n",
    "\n",
    "For those distributions that do not conform to the normal distribution, boxplots are an effective way of visualizing them.\n",
    "\n",
    "A boxplot is a _five_-number summary that describe data:\n",
    "1. The lower range\n",
    "2. The upper range\n",
    "3. The 25th percentile\n",
    "4. The 50th percentile\n",
    "5. The 75th percentile\n",
    "\n",
    "Thus, **a boxplot is described by a distribution's range, and its quartiles.** \n",
    "\n",
    "The edge percentiles (25%, 75%) are shown in a box, with the median (50%) passing inside it, and the distance between them is called the _inter-qaurtile range_. The range is shown by whiskers outside the box on its Y-axis. \n",
    "\n",
    "Furthermore, we ignore **outliers**, or exceptions, while computing the range, and instead plot them as independent points."
   ]
  },
  {
   "cell_type": "code",
   "execution_count": 74,
   "metadata": {},
   "outputs": [
    {
     "data": {
      "image/png": "[encoded data removed]",
      "text/plain": [
       "plot without title"
      ]
     },
     "metadata": {},
     "output_type": "display_data"
    }
   ],
   "source": [
    "# Draw a boxplot for males wrt their heights\n",
    "boxplot(height~sex, data = heights, col=randomColors(2))"
   ]
  },
  {
   "cell_type": "markdown",
   "metadata": {},
   "source": [
    "## Reordering of vectors\n",
    "\n",
    "Using the `reorder()` function that takes the following:\n",
    "\n",
    "• factor variable, <br>\n",
    "• values of each corresponding factor level, <br>\n",
    "• FUNction to reorder the factor, <br>\n",
    "    \n",
    "and returns a new factor reordered as per the function provided in ascending order."
   ]
  },
  {
   "cell_type": "code",
   "execution_count": 1,
   "metadata": {},
   "outputs": [
    {
     "data": {
      "text/html": [
       "<ol class=list-inline>\n",
       "\t<li>'Afiray'</li>\n",
       "\t<li>'Rafi'</li>\n",
       "</ol>\n"
      ],
      "text/latex": [
       "\\begin{enumerate*}\n",
       "\\item 'Afiray'\n",
       "\\item 'Rafi'\n",
       "\\end{enumerate*}\n"
      ],
      "text/markdown": [
       "1. 'Afiray'\n",
       "2. 'Rafi'\n",
       "\n",
       "\n"
      ],
      "text/plain": [
       "[1] \"Afiray\" \"Rafi\"  "
      ]
     },
     "metadata": {},
     "output_type": "display_data"
    }
   ],
   "source": [
    "# Define a facor with 2 levels\n",
    "fac = factor(c(\"Rafi\", \"Rafi\", \"Afiray\", \"Afiray\"))\n",
    "levels(fac)"
   ]
  },
  {
   "cell_type": "code",
   "execution_count": 4,
   "metadata": {},
   "outputs": [
    {
     "data": {
      "text/html": [
       "<ol class=list-inline>\n",
       "\t<li>'Rafi'</li>\n",
       "\t<li>'Afiray'</li>\n",
       "</ol>\n"
      ],
      "text/latex": [
       "\\begin{enumerate*}\n",
       "\\item 'Rafi'\n",
       "\\item 'Afiray'\n",
       "\\end{enumerate*}\n"
      ],
      "text/markdown": [
       "1. 'Rafi'\n",
       "2. 'Afiray'\n",
       "\n",
       "\n"
      ],
      "text/plain": [
       "[1] \"Rafi\"   \"Afiray\""
      ]
     },
     "metadata": {},
     "output_type": "display_data"
    }
   ],
   "source": [
    "val = c(4, 5, 12, 13) # values for each factor\n",
    "fac = reorder(fac, val, FUN = mean) # reorder the factor levels in order of their means\n",
    "levels(fac)"
   ]
  },
  {
   "cell_type": "markdown",
   "metadata": {},
   "source": [
    "The notebook ends here."
   ]
  }
 ],
 "metadata": {
  "kernelspec": {
   "display_name": "R",
   "language": "R",
   "name": "ir"
  },
  "language_info": {
   "codemirror_mode": "r",
   "file_extension": ".r",
   "mimetype": "text/x-r-source",
   "name": "R",
   "pygments_lexer": "r",
   "version": "3.5.0"
  }
 },
 "nbformat": 4,
 "nbformat_minor": 2
}
