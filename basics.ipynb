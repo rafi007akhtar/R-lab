{
 "cells": [
  {
   "cell_type": "markdown",
   "metadata": {},
   "source": [
    "# Basics of R\n",
    "\n",
    "This notebook walks through the basics of R, all of which are described in the repository's readme file.\n",
    "\n",
    "### Topics summary\n",
    "<ol start=\"0\">\n",
    "    <li> Import dependencies </li>\n",
    "    <li> Quadratic equations </li>\n",
    "    <li> Sum of first <em> n </em> natural numbers </li>\n",
    "    <li> Class (datatypes) of objects (variables) </li>\n",
    "    <li> Work with sequences\n",
    "        <ul>\n",
    "            <li> Sequence through concatenation; casting; tables. </li>\n",
    "            <li> Different ways of creating a vector </li>\n",
    "            <li> Using `name`s in sequences </li>\n",
    "        </ul>\n",
    "    </li>\n",
    "    <li> Remove NA's from a dataset </li>\n",
    "    <li> Work with logicals </li>\n",
    "    <li> \n",
    "        Work with conditionals \n",
    "        <ul> \n",
    "            <li> Using the `if-else` block </li>\n",
    "            <li> Using the `ifelse (...)` function </li>\n",
    "        </ul>\n",
    "    </li>\n",
    "    <li> User-defined functions </li>\n",
    "    <li> The `for` loop </li>    \n",
    "</ol>"
   ]
  },
  {
   "cell_type": "markdown",
   "metadata": {},
   "source": [
    "## Import dependencies"
   ]
  },
  {
   "cell_type": "code",
   "execution_count": 1,
   "metadata": {},
   "outputs": [],
   "source": [
    "library(dslabs)\n",
    "data(na_example)"
   ]
  },
  {
   "cell_type": "code",
   "execution_count": 4,
   "metadata": {},
   "outputs": [
    {
     "data": {
      "text/html": [
       "<ol class=list-inline>\n",
       "\t<li>2</li>\n",
       "\t<li>1</li>\n",
       "\t<li>3</li>\n",
       "\t<li>2</li>\n",
       "\t<li>1</li>\n",
       "\t<li>3</li>\n",
       "</ol>\n"
      ],
      "text/latex": [
       "\\begin{enumerate*}\n",
       "\\item 2\n",
       "\\item 1\n",
       "\\item 3\n",
       "\\item 2\n",
       "\\item 1\n",
       "\\item 3\n",
       "\\end{enumerate*}\n"
      ],
      "text/markdown": [
       "1. 2\n",
       "2. 1\n",
       "3. 3\n",
       "4. 2\n",
       "5. 1\n",
       "6. 3\n",
       "\n",
       "\n"
      ],
      "text/plain": [
       "[1] 2 1 3 2 1 3"
      ]
     },
     "metadata": {},
     "output_type": "display_data"
    }
   ],
   "source": [
    "head(na_example)"
   ]
  },
  {
   "cell_type": "markdown",
   "metadata": {},
   "source": []
  },
  {
   "cell_type": "markdown",
   "metadata": {},
   "source": [
    "## 1. Quadratic equations"
   ]
  },
  {
   "cell_type": "code",
   "execution_count": 15,
   "metadata": {},
   "outputs": [],
   "source": [
    "# Initialize the coefficeints\n",
    "a = 3\n",
    "b = 5\n",
    "c = 2 "
   ]
  },
  {
   "cell_type": "code",
   "execution_count": 12,
   "metadata": {},
   "outputs": [
    {
     "name": "stdout",
     "output_type": "stream",
     "text": [
      "[1] \"The quadratic equation is:\"\n"
     ]
    },
    {
     "data": {
      "text/html": [
       "<span style=white-space:pre-wrap>'3 x^2 +  5 x +  2'</span>"
      ],
      "text/latex": [
       "'3 x\\textasciicircum{}2 +  5 x +  2'"
      ],
      "text/markdown": [
       "<span style=white-space:pre-wrap>'3 x^2 +  5 x +  2'</span>"
      ],
      "text/plain": [
       "[1] \"3 x^2 +  5 x +  2\""
      ]
     },
     "metadata": {},
     "output_type": "display_data"
    }
   ],
   "source": [
    "print(\"The quadratic equation is:\")\n",
    "paste(a, \"x^2 + \", b, \"x + \", c)"
   ]
  },
  {
   "cell_type": "code",
   "execution_count": 14,
   "metadata": {},
   "outputs": [
    {
     "data": {
      "text/html": [
       "'Solutions: -0.666666666666667 -1'"
      ],
      "text/latex": [
       "'Solutions: -0.666666666666667 -1'"
      ],
      "text/markdown": [
       "'Solutions: -0.666666666666667 -1'"
      ],
      "text/plain": [
       "[1] \"Solutions: -0.666666666666667 -1\""
      ]
     },
     "metadata": {},
     "output_type": "display_data"
    }
   ],
   "source": [
    "# Solve for the roots, and print them\n",
    "root1 = (-b + sqrt(b^2 - 4*a*c)) / (2*a)\n",
    "root2 = (-b - sqrt(b^2 - 4*a*c)) / (2*a)\n",
    "\n",
    "paste(\"Solutions:\", root1, root2)"
   ]
  },
  {
   "cell_type": "markdown",
   "metadata": {},
   "source": []
  },
  {
   "cell_type": "markdown",
   "metadata": {},
   "source": [
    "## 2. Sum of first <em>n</em> natural numbers\n"
   ]
  },
  {
   "cell_type": "code",
   "execution_count": 16,
   "metadata": {},
   "outputs": [
    {
     "data": {
      "text/html": [
       "'Sum of first 100 natural numbers: 5050'"
      ],
      "text/latex": [
       "'Sum of first 100 natural numbers: 5050'"
      ],
      "text/markdown": [
       "'Sum of first 100 natural numbers: 5050'"
      ],
      "text/plain": [
       "[1] \"Sum of first 100 natural numbers: 5050\""
      ]
     },
     "metadata": {},
     "output_type": "display_data"
    }
   ],
   "source": [
    "n <- 100 # NOTE: alternative assignment operator (<-)\n",
    "sum = n*(n+1)/2\n",
    "paste(\"Sum of first\", n, \"natural numbers:\", sum)"
   ]
  },
  {
   "cell_type": "markdown",
   "metadata": {},
   "source": []
  },
  {
   "cell_type": "markdown",
   "metadata": {},
   "source": [
    "## 3. Class (datatypes) of objects (variables)"
   ]
  },
  {
   "cell_type": "code",
   "execution_count": 17,
   "metadata": {},
   "outputs": [
    {
     "data": {
      "text/html": [
       "'numeric'"
      ],
      "text/latex": [
       "'numeric'"
      ],
      "text/markdown": [
       "'numeric'"
      ],
      "text/plain": [
       "[1] \"numeric\""
      ]
     },
     "metadata": {},
     "output_type": "display_data"
    },
    {
     "data": {
      "text/html": [
       "'character'"
      ],
      "text/latex": [
       "'character'"
      ],
      "text/markdown": [
       "'character'"
      ],
      "text/plain": [
       "[1] \"character\""
      ]
     },
     "metadata": {},
     "output_type": "display_data"
    },
    {
     "data": {
      "text/html": [
       "'logical'"
      ],
      "text/latex": [
       "'logical'"
      ],
      "text/markdown": [
       "'logical'"
      ],
      "text/plain": [
       "[1] \"logical\""
      ]
     },
     "metadata": {},
     "output_type": "display_data"
    }
   ],
   "source": [
    "class(n) # returns the class of object n (\"numeric\" in this case)\n",
    "class(\"this is a string\")\n",
    "class(5 == 3)"
   ]
  },
  {
   "cell_type": "markdown",
   "metadata": {},
   "source": []
  },
  {
   "cell_type": "markdown",
   "metadata": {},
   "source": [
    "## 4. Work with sequences (vectors)"
   ]
  },
  {
   "cell_type": "markdown",
   "metadata": {},
   "source": [
    "### Sequence through concatenation; casting; tables.\n"
   ]
  },
  {
   "cell_type": "code",
   "execution_count": 21,
   "metadata": {},
   "outputs": [
    {
     "data": {
      "text/html": [
       "<ol class=list-inline>\n",
       "\t<li>1</li>\n",
       "\t<li>2</li>\n",
       "\t<li>3</li>\n",
       "\t<li>4</li>\n",
       "</ol>\n"
      ],
      "text/latex": [
       "\\begin{enumerate*}\n",
       "\\item 1\n",
       "\\item 2\n",
       "\\item 3\n",
       "\\item 4\n",
       "\\end{enumerate*}\n"
      ],
      "text/markdown": [
       "1. 1\n",
       "2. 2\n",
       "3. 3\n",
       "4. 4\n",
       "\n",
       "\n"
      ],
      "text/plain": [
       "[1] 1 2 3 4"
      ]
     },
     "metadata": {},
     "output_type": "display_data"
    },
    {
     "data": {
      "text/html": [
       "'numeric'"
      ],
      "text/latex": [
       "'numeric'"
      ],
      "text/markdown": [
       "'numeric'"
      ],
      "text/plain": [
       "[1] \"numeric\""
      ]
     },
     "metadata": {},
     "output_type": "display_data"
    }
   ],
   "source": [
    "seq = c(1, 2, 3, 4) # creates a sequence (array) containing these values\n",
    "seq \n",
    "class(seq)\n"
   ]
  },
  {
   "cell_type": "code",
   "execution_count": 20,
   "metadata": {},
   "outputs": [
    {
     "data": {
      "text/html": [
       "'numeric'"
      ],
      "text/latex": [
       "'numeric'"
      ],
      "text/markdown": [
       "'numeric'"
      ],
      "text/plain": [
       "[1] \"numeric\""
      ]
     },
     "metadata": {},
     "output_type": "display_data"
    },
    {
     "data": {
      "text/html": [
       "<ol class=list-inline>\n",
       "\t<li>'1'</li>\n",
       "\t<li>'a'</li>\n",
       "\t<li>'FALSE'</li>\n",
       "</ol>\n"
      ],
      "text/latex": [
       "\\begin{enumerate*}\n",
       "\\item '1'\n",
       "\\item 'a'\n",
       "\\item 'FALSE'\n",
       "\\end{enumerate*}\n"
      ],
      "text/markdown": [
       "1. '1'\n",
       "2. 'a'\n",
       "3. 'FALSE'\n",
       "\n",
       "\n"
      ],
      "text/plain": [
       "[1] \"1\"     \"a\"     \"FALSE\""
      ]
     },
     "metadata": {},
     "output_type": "display_data"
    },
    {
     "data": {
      "text/html": [
       "'character'"
      ],
      "text/latex": [
       "'character'"
      ],
      "text/markdown": [
       "'character'"
      ],
      "text/plain": [
       "[1] \"character\""
      ]
     },
     "metadata": {},
     "output_type": "display_data"
    }
   ],
   "source": [
    "seq = c(1, \"a\", FALSE)\n",
    "seq\n",
    "class(seq) # character, as non-characters gets casted into characters"
   ]
  },
  {
   "cell_type": "code",
   "execution_count": 24,
   "metadata": {},
   "outputs": [
    {
     "data": {
      "text/plain": [
       "my_landline\n",
       "0 2 3 4 8 9 \n",
       "1 3 2 2 2 1 "
      ]
     },
     "metadata": {},
     "output_type": "display_data"
    },
    {
     "data": {
      "text/plain": [
       "seq\n",
       "a e g i n o r t x \n",
       "3 1 1 1 1 1 2 1 1 "
      ]
     },
     "metadata": {},
     "output_type": "display_data"
    },
    {
     "data": {
      "text/html": [
       "'character'"
      ],
      "text/latex": [
       "'character'"
      ],
      "text/markdown": [
       "'character'"
      ],
      "text/plain": [
       "[1] \"character\""
      ]
     },
     "metadata": {},
     "output_type": "display_data"
    }
   ],
   "source": [
    "# Frequencies of characters in a sequence\n",
    "my_landline = c(0,3,3,2,2,8,4,4,2,9,8)\n",
    "table(my_landline) # prints the freqeuency of each entry in a sequence\n",
    "seq = c('e','x','a','g','a','r','r','a','t','i','o','n')\n",
    "table(seq)\n",
    "class(seq)"
   ]
  },
  {
   "cell_type": "markdown",
   "metadata": {},
   "source": [
    "### Different ways of creating a vector\n"
   ]
  },
  {
   "cell_type": "code",
   "execution_count": 25,
   "metadata": {},
   "outputs": [
    {
     "data": {
      "text/html": [
       "<ol class=list-inline>\n",
       "\t<li>1</li>\n",
       "\t<li>2</li>\n",
       "\t<li>3</li>\n",
       "\t<li>4</li>\n",
       "\t<li>5</li>\n",
       "\t<li>6</li>\n",
       "\t<li>7</li>\n",
       "\t<li>8</li>\n",
       "\t<li>9</li>\n",
       "\t<li>10</li>\n",
       "</ol>\n"
      ],
      "text/latex": [
       "\\begin{enumerate*}\n",
       "\\item 1\n",
       "\\item 2\n",
       "\\item 3\n",
       "\\item 4\n",
       "\\item 5\n",
       "\\item 6\n",
       "\\item 7\n",
       "\\item 8\n",
       "\\item 9\n",
       "\\item 10\n",
       "\\end{enumerate*}\n"
      ],
      "text/markdown": [
       "1. 1\n",
       "2. 2\n",
       "3. 3\n",
       "4. 4\n",
       "5. 5\n",
       "6. 6\n",
       "7. 7\n",
       "8. 8\n",
       "9. 9\n",
       "10. 10\n",
       "\n",
       "\n"
      ],
      "text/plain": [
       " [1]  1  2  3  4  5  6  7  8  9 10"
      ]
     },
     "metadata": {},
     "output_type": "display_data"
    },
    {
     "data": {
      "text/html": [
       "<ol class=list-inline>\n",
       "\t<li>1</li>\n",
       "\t<li>2</li>\n",
       "\t<li>3</li>\n",
       "\t<li>4</li>\n",
       "\t<li>5</li>\n",
       "\t<li>6</li>\n",
       "\t<li>7</li>\n",
       "\t<li>8</li>\n",
       "\t<li>9</li>\n",
       "\t<li>10</li>\n",
       "</ol>\n"
      ],
      "text/latex": [
       "\\begin{enumerate*}\n",
       "\\item 1\n",
       "\\item 2\n",
       "\\item 3\n",
       "\\item 4\n",
       "\\item 5\n",
       "\\item 6\n",
       "\\item 7\n",
       "\\item 8\n",
       "\\item 9\n",
       "\\item 10\n",
       "\\end{enumerate*}\n"
      ],
      "text/markdown": [
       "1. 1\n",
       "2. 2\n",
       "3. 3\n",
       "4. 4\n",
       "5. 5\n",
       "6. 6\n",
       "7. 7\n",
       "8. 8\n",
       "9. 9\n",
       "10. 10\n",
       "\n",
       "\n"
      ],
      "text/plain": [
       " [1]  1  2  3  4  5  6  7  8  9 10"
      ]
     },
     "metadata": {},
     "output_type": "display_data"
    },
    {
     "data": {
      "text/html": [
       "<ol class=list-inline>\n",
       "\t<li>1</li>\n",
       "\t<li>2</li>\n",
       "\t<li>3</li>\n",
       "\t<li>4</li>\n",
       "\t<li>5</li>\n",
       "\t<li>6</li>\n",
       "\t<li>7</li>\n",
       "\t<li>8</li>\n",
       "\t<li>9</li>\n",
       "\t<li>10</li>\n",
       "</ol>\n"
      ],
      "text/latex": [
       "\\begin{enumerate*}\n",
       "\\item 1\n",
       "\\item 2\n",
       "\\item 3\n",
       "\\item 4\n",
       "\\item 5\n",
       "\\item 6\n",
       "\\item 7\n",
       "\\item 8\n",
       "\\item 9\n",
       "\\item 10\n",
       "\\end{enumerate*}\n"
      ],
      "text/markdown": [
       "1. 1\n",
       "2. 2\n",
       "3. 3\n",
       "4. 4\n",
       "5. 5\n",
       "6. 6\n",
       "7. 7\n",
       "8. 8\n",
       "9. 9\n",
       "10. 10\n",
       "\n",
       "\n"
      ],
      "text/plain": [
       " [1]  1  2  3  4  5  6  7  8  9 10"
      ]
     },
     "metadata": {},
     "output_type": "display_data"
    }
   ],
   "source": [
    "s1 = seq(1,10) # creates a sequence 1,2,3,...,10\n",
    "s2 = 1:10 # does the same as above\n",
    "s3 = c(1,2,3,4,5,6,7,8,9,10) # same as the above two\n",
    "s1\n",
    "s2\n",
    "s3"
   ]
  },
  {
   "cell_type": "code",
   "execution_count": 26,
   "metadata": {},
   "outputs": [
    {
     "data": {
      "text/html": [
       "'s1 == s2: TRUE'"
      ],
      "text/latex": [
       "'s1 == s2: TRUE'"
      ],
      "text/markdown": [
       "'s1 == s2: TRUE'"
      ],
      "text/plain": [
       "[1] \"s1 == s2: TRUE\""
      ]
     },
     "metadata": {},
     "output_type": "display_data"
    },
    {
     "data": {
      "text/html": [
       "'s2 == s3: FALSE'"
      ],
      "text/latex": [
       "'s2 == s3: FALSE'"
      ],
      "text/markdown": [
       "'s2 == s3: FALSE'"
      ],
      "text/plain": [
       "[1] \"s2 == s3: FALSE\""
      ]
     },
     "metadata": {},
     "output_type": "display_data"
    },
    {
     "data": {
      "text/html": [
       "'s3 == s1: FALSE'"
      ],
      "text/latex": [
       "'s3 == s1: FALSE'"
      ],
      "text/markdown": [
       "'s3 == s1: FALSE'"
      ],
      "text/plain": [
       "[1] \"s3 == s1: FALSE\""
      ]
     },
     "metadata": {},
     "output_type": "display_data"
    }
   ],
   "source": [
    "paste(\"s1 == s2:\", identical(s1,s2)) # TRUE as both are numeric sequences\n",
    "paste(\"s2 == s3:\", identical(s3,s2)) # FALSE as s3 is possible to contain character in it\n",
    "paste(\"s3 == s1:\", identical(s1,s3)) # FALSE, same reason\n"
   ]
  },
  {
   "cell_type": "code",
   "execution_count": 27,
   "metadata": {},
   "outputs": [
    {
     "data": {
      "text/html": [
       "<ol class=list-inline>\n",
       "\t<li>1</li>\n",
       "\t<li>3</li>\n",
       "\t<li>5</li>\n",
       "\t<li>7</li>\n",
       "\t<li>9</li>\n",
       "\t<li>11</li>\n",
       "\t<li>13</li>\n",
       "\t<li>15</li>\n",
       "\t<li>17</li>\n",
       "\t<li>19</li>\n",
       "</ol>\n"
      ],
      "text/latex": [
       "\\begin{enumerate*}\n",
       "\\item 1\n",
       "\\item 3\n",
       "\\item 5\n",
       "\\item 7\n",
       "\\item 9\n",
       "\\item 11\n",
       "\\item 13\n",
       "\\item 15\n",
       "\\item 17\n",
       "\\item 19\n",
       "\\end{enumerate*}\n"
      ],
      "text/markdown": [
       "1. 1\n",
       "2. 3\n",
       "3. 5\n",
       "4. 7\n",
       "5. 9\n",
       "6. 11\n",
       "7. 13\n",
       "8. 15\n",
       "9. 17\n",
       "10. 19\n",
       "\n",
       "\n"
      ],
      "text/plain": [
       " [1]  1  3  5  7  9 11 13 15 17 19"
      ]
     },
     "metadata": {},
     "output_type": "display_data"
    }
   ],
   "source": [
    "s1 = seq(1,20,2) # sequence from 1 no more than 20 incrementing by 2 each time\n",
    "s1"
   ]
  },
  {
   "cell_type": "code",
   "execution_count": 31,
   "metadata": {},
   "outputs": [
    {
     "data": {
      "text/html": [
       "<ol class=list-inline>\n",
       "\t<li>0</li>\n",
       "\t<li>25</li>\n",
       "\t<li>50</li>\n",
       "\t<li>75</li>\n",
       "\t<li>100</li>\n",
       "</ol>\n"
      ],
      "text/latex": [
       "\\begin{enumerate*}\n",
       "\\item 0\n",
       "\\item 25\n",
       "\\item 50\n",
       "\\item 75\n",
       "\\item 100\n",
       "\\end{enumerate*}\n"
      ],
      "text/markdown": [
       "1. 0\n",
       "2. 25\n",
       "3. 50\n",
       "4. 75\n",
       "5. 100\n",
       "\n",
       "\n"
      ],
      "text/plain": [
       "[1]   0  25  50  75 100"
      ]
     },
     "metadata": {},
     "output_type": "display_data"
    }
   ],
   "source": [
    "s2 = seq(0, 100, length.out = 5)    # length of s2 should be 5 and it should evenly occupy elements 1 through 100, \n",
    "                                    # that is, elements should be incremented by the same amount\n",
    "s2 # (0, 25, 50, 75, 100)"
   ]
  },
  {
   "cell_type": "markdown",
   "metadata": {},
   "source": [
    "### Using `name`s in sequences\n"
   ]
  },
  {
   "cell_type": "code",
   "execution_count": 38,
   "metadata": {},
   "outputs": [
    {
     "data": {
      "text/html": [
       "<dl class=dl-horizontal>\n",
       "\t<dt>Bruce Wayne</dt>\n",
       "\t\t<dd>'Batman'</dd>\n",
       "\t<dt>Clark Kent</dt>\n",
       "\t\t<dd>'Superman'</dd>\n",
       "\t<dt>Diana Prince</dt>\n",
       "\t\t<dd>'Wonder Woman'</dd>\n",
       "</dl>\n"
      ],
      "text/latex": [
       "\\begin{description*}\n",
       "\\item[Bruce Wayne] 'Batman'\n",
       "\\item[Clark Kent] 'Superman'\n",
       "\\item[Diana Prince] 'Wonder Woman'\n",
       "\\end{description*}\n"
      ],
      "text/markdown": [
       "Bruce Wayne\n",
       ":   'Batman'Clark Kent\n",
       ":   'Superman'Diana Prince\n",
       ":   'Wonder Woman'\n",
       "\n"
      ],
      "text/plain": [
       "   Bruce Wayne     Clark Kent   Diana Prince \n",
       "      \"Batman\"     \"Superman\" \"Wonder Woman\" "
      ]
     },
     "metadata": {},
     "output_type": "display_data"
    }
   ],
   "source": [
    "alter_egos = c(\"Batman\", \"Superman\", \"Wonder Woman\")\n",
    "personas = c(\"Bruce Wayne\", \"Clark Kent\", \"Diana Prince\")\n",
    "# assign persona names to alter egos, thus creating a table with personas as attributes and alter_egos as values\n",
    "names(alter_egos) <- personas\n",
    "alter_egos"
   ]
  },
  {
   "cell_type": "code",
   "execution_count": 37,
   "metadata": {},
   "outputs": [
    {
     "name": "stdout",
     "output_type": "stream",
     "text": [
      "     Steve Rogers        Tony Stark             Wanda            Vision \n",
      "\"Captain America\"         \"Ironman\"   \"Scarlet Witch\"          \"Vision\" \n"
     ]
    }
   ],
   "source": [
    "# another way to do this is by assigning names=values while sequence creation itself\n",
    "alter_egos_new = c(\"Steve Rogers\" = \"Captain America\", \"Tony Stark\" = \"Ironman\", Wanda = \"Scarlet Witch\", Vision = \"Vision\")\n",
    "print(alter_egos_new) # NOTE: the difference when you return a named sequence (above output), and when you print it (this output)"
   ]
  },
  {
   "cell_type": "code",
   "execution_count": 39,
   "metadata": {},
   "outputs": [
    {
     "data": {
      "text/html": [
       "'Second element: Ironman'"
      ],
      "text/latex": [
       "'Second element: Ironman'"
      ],
      "text/markdown": [
       "'Second element: Ironman'"
      ],
      "text/plain": [
       "[1] \"Second element: Ironman\""
      ]
     },
     "metadata": {},
     "output_type": "display_data"
    },
    {
     "data": {
      "text/html": [
       "<ol class=list-inline>\n",
       "\t<li>'Elements one and three: Captain America'</li>\n",
       "\t<li>'Elements one and three: Scarlet Witch'</li>\n",
       "</ol>\n"
      ],
      "text/latex": [
       "\\begin{enumerate*}\n",
       "\\item 'Elements one and three: Captain America'\n",
       "\\item 'Elements one and three: Scarlet Witch'\n",
       "\\end{enumerate*}\n"
      ],
      "text/markdown": [
       "1. 'Elements one and three: Captain America'\n",
       "2. 'Elements one and three: Scarlet Witch'\n",
       "\n",
       "\n"
      ],
      "text/plain": [
       "[1] \"Elements one and three: Captain America\"\n",
       "[2] \"Elements one and three: Scarlet Witch\"  "
      ]
     },
     "metadata": {},
     "output_type": "display_data"
    },
    {
     "name": "stdout",
     "output_type": "stream",
     "text": [
      "[1] \"Elements 2 through 4:\"\n"
     ]
    },
    {
     "data": {
      "text/html": [
       "<dl class=dl-horizontal>\n",
       "\t<dt>Tony Stark</dt>\n",
       "\t\t<dd>'Ironman'</dd>\n",
       "\t<dt>Wanda</dt>\n",
       "\t\t<dd>'Scarlet Witch'</dd>\n",
       "\t<dt>Vision</dt>\n",
       "\t\t<dd>'Vision'</dd>\n",
       "</dl>\n"
      ],
      "text/latex": [
       "\\begin{description*}\n",
       "\\item[Tony Stark] 'Ironman'\n",
       "\\item[Wanda] 'Scarlet Witch'\n",
       "\\item[Vision] 'Vision'\n",
       "\\end{description*}\n"
      ],
      "text/markdown": [
       "Tony Stark\n",
       ":   'Ironman'Wanda\n",
       ":   'Scarlet Witch'Vision\n",
       ":   'Vision'\n",
       "\n"
      ],
      "text/plain": [
       "     Tony Stark           Wanda          Vision \n",
       "      \"Ironman\" \"Scarlet Witch\"        \"Vision\" "
      ]
     },
     "metadata": {},
     "output_type": "display_data"
    },
    {
     "name": "stdout",
     "output_type": "stream",
     "text": [
      "[1] \"Elements 1 through 3\"\n"
     ]
    },
    {
     "data": {
      "text/html": [
       "<dl class=dl-horizontal>\n",
       "\t<dt>Steve Rogers</dt>\n",
       "\t\t<dd>'Captain America'</dd>\n",
       "\t<dt>Tony Stark</dt>\n",
       "\t\t<dd>'Ironman'</dd>\n",
       "\t<dt>Wanda</dt>\n",
       "\t\t<dd>'Scarlet Witch'</dd>\n",
       "</dl>\n"
      ],
      "text/latex": [
       "\\begin{description*}\n",
       "\\item[Steve Rogers] 'Captain America'\n",
       "\\item[Tony Stark] 'Ironman'\n",
       "\\item[Wanda] 'Scarlet Witch'\n",
       "\\end{description*}\n"
      ],
      "text/markdown": [
       "Steve Rogers\n",
       ":   'Captain America'Tony Stark\n",
       ":   'Ironman'Wanda\n",
       ":   'Scarlet Witch'\n",
       "\n"
      ],
      "text/plain": [
       "     Steve Rogers        Tony Stark             Wanda \n",
       "\"Captain America\"         \"Ironman\"   \"Scarlet Witch\" "
      ]
     },
     "metadata": {},
     "output_type": "display_data"
    },
    {
     "data": {
      "text/html": [
       "'Bruce Wayne: Batman'"
      ],
      "text/latex": [
       "'Bruce Wayne: Batman'"
      ],
      "text/markdown": [
       "'Bruce Wayne: Batman'"
      ],
      "text/plain": [
       "[1] \"Bruce Wayne: Batman\""
      ]
     },
     "metadata": {},
     "output_type": "display_data"
    }
   ],
   "source": [
    "# access elements from the vector\n",
    "paste(\"Second element:\", alter_egos_new[2]) # Ironman (access one element)\n",
    "paste(\"Elements one and three:\", alter_egos_new[c(1,3)]) # Captain America, Scarlet Witch (grab two elements using multi-element vector)\n",
    "print(\"Elements 2 through 4:\")\n",
    "alter_egos_new[2:4] # use sequence of nums to access the elements\n",
    "print(\"Elements 1 through 3\")\n",
    "alter_egos_new[seq(1,3)]\n",
    "paste(\"Bruce Wayne:\", alter_egos[\"Bruce Wayne\"]) # finally, access using names"
   ]
  },
  {
   "cell_type": "markdown",
   "metadata": {},
   "source": []
  },
  {
   "cell_type": "markdown",
   "metadata": {},
   "source": [
    "## 5. Remove NA's from a dataset"
   ]
  },
  {
   "cell_type": "code",
   "execution_count": 40,
   "metadata": {},
   "outputs": [
    {
     "name": "stdout",
     "output_type": "stream",
     "text": [
      "[1] \"First 50 entries before NA-cleaning\"\n",
      " [1]  2  1  3  2  1  3  1  4  3  2  2 NA  2  2  1  4 NA  1  1  2  1  2  2  1  2\n",
      "[26]  5 NA  2  2  3  1  2  4  1  1  1  4  5  2  3  4  1  2  4  1  1  2  1  5 NA\n"
     ]
    }
   ],
   "source": [
    "print(\"First 50 entries before NA-cleaning\")\n",
    "print(na_example[1:50])"
   ]
  },
  {
   "cell_type": "code",
   "execution_count": 43,
   "metadata": {},
   "outputs": [
    {
     "name": "stdout",
     "output_type": "stream",
     "text": [
      "[1] \"First 50 entries after NA-cleaning\"\n",
      " [1] 2 1 3 2 1 3 1 4 3 2 2 2 2 1 4 1 1 2 1 2 2 1 2 5 2 2 3 1 2 4 1 1 1 4 5 2 3 4\n",
      "[39] 1 2 4 1 1 2 1 5 1 1 5 1\n"
     ]
    }
   ],
   "source": [
    "# now perform the cleaning\n",
    "na_index = is.na(na_example) # returns TRUE if NA present; FALSE otherwise\n",
    "na_example_cleaned = na_example[!na_index] # values without NA's\n",
    "print(\"First 50 entries after NA-cleaning\")\n",
    "print(na_example_cleaned[1:50]) # return the first 6 entries of those values that are not NA"
   ]
  },
  {
   "cell_type": "markdown",
   "metadata": {},
   "source": []
  },
  {
   "cell_type": "markdown",
   "metadata": {},
   "source": [
    "## 6. Work with logicals"
   ]
  },
  {
   "cell_type": "code",
   "execution_count": 45,
   "metadata": {},
   "outputs": [
    {
     "name": "stdout",
     "output_type": "stream",
     "text": [
      "[1] \"Some logical operations on numbers\"\n"
     ]
    },
    {
     "data": {
      "text/html": [
       "'12 &amp; 0 = FALSE'"
      ],
      "text/latex": [
       "'12 \\& 0 = FALSE'"
      ],
      "text/markdown": [
       "'12 &amp; 0 = FALSE'"
      ],
      "text/plain": [
       "[1] \"12 & 0 = FALSE\""
      ]
     },
     "metadata": {},
     "output_type": "display_data"
    },
    {
     "data": {
      "text/html": [
       "'0 | 15 = TRUE'"
      ],
      "text/latex": [
       "'0 \\textbar{} 15 = TRUE'"
      ],
      "text/markdown": [
       "'0 | 15 = TRUE'"
      ],
      "text/plain": [
       "[1] \"0 | 15 = TRUE\""
      ]
     },
     "metadata": {},
     "output_type": "display_data"
    },
    {
     "data": {
      "text/html": [
       "'! 0 = TRUE'"
      ],
      "text/latex": [
       "'! 0 = TRUE'"
      ],
      "text/markdown": [
       "'! 0 = TRUE'"
      ],
      "text/plain": [
       "[1] \"! 0 = TRUE\""
      ]
     },
     "metadata": {},
     "output_type": "display_data"
    }
   ],
   "source": [
    "# Logicals can be performed on numbers\n",
    "num1 = 12\n",
    "num2 = 0\n",
    "num3 = 15\n",
    "print(\"Some logical operations on numbers\")\n",
    "paste(num1, \"&\", num2, \"=\", num1&num2)\n",
    "paste(num2, \"|\", num3, \"=\", num3|num2)\n",
    "paste(\"!\", num2, \"=\", !num2)"
   ]
  },
  {
   "cell_type": "code",
   "execution_count": 48,
   "metadata": {},
   "outputs": [
    {
     "name": "stdout",
     "output_type": "stream",
     "text": [
      "[1] \"Some logical operations on vectors\"\n",
      "[1] \"1 2 3 < 2 = \" \"TRUE\"         \"FALSE\"        \"FALSE\"       \n"
     ]
    }
   ],
   "source": [
    "# Logicals can be performed on vectors\n",
    "vec = c(1, 2, 3)\n",
    "print(\"Some logical operations on vectors\")\n",
    "res = c(\"1 2 3 < 2 = \", vec < 2) # a logical operation on a vector gets applied to all items of the vector\n",
    "print(res)"
   ]
  },
  {
   "cell_type": "code",
   "execution_count": 49,
   "metadata": {},
   "outputs": [
    {
     "data": {
      "text/html": [
       "<ol class=list-inline>\n",
       "\t<li>'1'</li>\n",
       "\t<li>'4'</li>\n",
       "\t<li>'of vec are true'</li>\n",
       "</ol>\n"
      ],
      "text/latex": [
       "\\begin{enumerate*}\n",
       "\\item '1'\n",
       "\\item '4'\n",
       "\\item 'of vec are true'\n",
       "\\end{enumerate*}\n"
      ],
      "text/markdown": [
       "1. '1'\n",
       "2. '4'\n",
       "3. 'of vec are true'\n",
       "\n",
       "\n"
      ],
      "text/plain": [
       "[1] \"1\"               \"4\"               \"of vec are true\""
      ]
     },
     "metadata": {},
     "output_type": "display_data"
    }
   ],
   "source": [
    "# Using the which(...) function\n",
    "vec = c(TRUE, FALSE, FALSE, TRUE, FALSE, FALSE)\n",
    "c(which(vec), \"of vec are true\") # return the indices in vec where it is TRUE (1,4)\n"
   ]
  },
  {
   "cell_type": "markdown",
   "metadata": {},
   "source": [
    "**Other logical operations:** `<=, >, >=, ==, !=`"
   ]
  },
  {
   "cell_type": "markdown",
   "metadata": {},
   "source": []
  },
  {
   "cell_type": "markdown",
   "metadata": {},
   "source": [
    "## 7. Work with conditionals"
   ]
  },
  {
   "cell_type": "markdown",
   "metadata": {},
   "source": [
    "### Using the `if-else` block"
   ]
  },
  {
   "cell_type": "code",
   "execution_count": 58,
   "metadata": {},
   "outputs": [
    {
     "name": "stdout",
     "output_type": "stream",
     "text": [
      "Enter a number: 0\n",
      "[1] NA\n"
     ]
    }
   ],
   "source": [
    "# Ask for a user input. Print 1 / m if m is not 0; print \"NA\" otherwise\n",
    "m = as.integer(readline(prompt = \"Enter a number: \"))\n",
    "if (m == 0) {\n",
    "    print(NA)\n",
    "} else { \n",
    "    paste(\"1 /\", m, \"=\", 1/m) \n",
    "}"
   ]
  },
  {
   "cell_type": "markdown",
   "metadata": {},
   "source": [
    "### Using the `ifelse (...)` function"
   ]
  },
  {
   "cell_type": "code",
   "execution_count": 57,
   "metadata": {},
   "outputs": [
    {
     "name": "stdout",
     "output_type": "stream",
     "text": [
      "Enter a number: 0\n"
     ]
    },
    {
     "data": {
      "text/html": [
       "'1 / 0 = NA'"
      ],
      "text/latex": [
       "'1 / 0 = NA'"
      ],
      "text/markdown": [
       "'1 / 0 = NA'"
      ],
      "text/plain": [
       "[1] \"1 / 0 = NA\""
      ]
     },
     "metadata": {},
     "output_type": "display_data"
    }
   ],
   "source": [
    "# Repeat the above block in one line\n",
    "m = as.integer(readline(prompt = \"Enter a number: \"))\n",
    "paste(\"1 /\", m, \"=\", ifelse(m == 0, NA, 1/m))\n"
   ]
  },
  {
   "cell_type": "code",
   "execution_count": 59,
   "metadata": {},
   "outputs": [
    {
     "data": {
      "text/html": [
       "'0 number of NAs in the example'"
      ],
      "text/latex": [
       "'0 number of NAs in the example'"
      ],
      "text/markdown": [
       "'0 number of NAs in the example'"
      ],
      "text/plain": [
       "[1] \"0 number of NAs in the example\""
      ]
     },
     "metadata": {},
     "output_type": "display_data"
    }
   ],
   "source": [
    "# Remove all NA's from na_example using ifelse(cond, if-true, if-false) function\n",
    "no_nas = ifelse(is.na(na_example), 0, na_example)\n",
    "paste(sum(is.na(no_nas)), \"number of NAs in the example\")"
   ]
  },
  {
   "cell_type": "markdown",
   "metadata": {},
   "source": []
  },
  {
   "cell_type": "markdown",
   "metadata": {},
   "source": [
    "## 8. User-defined functions"
   ]
  },
  {
   "cell_type": "code",
   "execution_count": 60,
   "metadata": {},
   "outputs": [
    {
     "data": {
      "text/html": [
       "<ol class=list-inline>\n",
       "\t<li>'1 / -3 = -0.333333333333333'</li>\n",
       "\t<li>'1 / -2 = -0.5'</li>\n",
       "\t<li>'1 / -1 = -1'</li>\n",
       "\t<li>'1 / 0 = NA'</li>\n",
       "\t<li>'1 / 1 = 1'</li>\n",
       "\t<li>'1 / 2 = 0.5'</li>\n",
       "\t<li>'1 / 3 = 0.333333333333333'</li>\n",
       "</ol>\n"
      ],
      "text/latex": [
       "\\begin{enumerate*}\n",
       "\\item '1 / -3 = -0.333333333333333'\n",
       "\\item '1 / -2 = -0.5'\n",
       "\\item '1 / -1 = -1'\n",
       "\\item '1 / 0 = NA'\n",
       "\\item '1 / 1 = 1'\n",
       "\\item '1 / 2 = 0.5'\n",
       "\\item '1 / 3 = 0.333333333333333'\n",
       "\\end{enumerate*}\n"
      ],
      "text/markdown": [
       "1. '1 / -3 = -0.333333333333333'\n",
       "2. '1 / -2 = -0.5'\n",
       "3. '1 / -1 = -1'\n",
       "4. '1 / 0 = NA'\n",
       "5. '1 / 1 = 1'\n",
       "6. '1 / 2 = 0.5'\n",
       "7. '1 / 3 = 0.333333333333333'\n",
       "\n",
       "\n"
      ],
      "text/plain": [
       "[1] \"1 / -3 = -0.333333333333333\" \"1 / -2 = -0.5\"              \n",
       "[3] \"1 / -1 = -1\"                 \"1 / 0 = NA\"                 \n",
       "[5] \"1 / 1 = 1\"                   \"1 / 2 = 0.5\"                \n",
       "[7] \"1 / 3 = 0.333333333333333\"  "
      ]
     },
     "metadata": {},
     "output_type": "display_data"
    }
   ],
   "source": [
    "# Write a function for the above scenario\n",
    "reciprocal = function(vec) {\n",
    "    # Return the reciprocal of vector vec\n",
    "    # vec can be single-valued or muti-valued vector\n",
    "    ifelse(vec == 0, NA, 1/vec)\n",
    "}\n",
    "\n",
    "# Test this function on a sequence of test cases\n",
    "test_case = -3:3\n",
    "paste(\"1 /\", test_case, \"=\", reciprocal(test_case))"
   ]
  },
  {
   "cell_type": "markdown",
   "metadata": {},
   "source": []
  },
  {
   "cell_type": "markdown",
   "metadata": {},
   "source": [
    "## 9. The `for` loop."
   ]
  },
  {
   "cell_type": "code",
   "execution_count": 61,
   "metadata": {},
   "outputs": [
    {
     "name": "stdout",
     "output_type": "stream",
     "text": [
      "[1] \"Sum uptil\" \"1\"         \"=\"         \"1\"        \n",
      "[1] \"Sum uptil\" \"2\"         \"=\"         \"3\"        \n",
      "[1] \"Sum uptil\" \"3\"         \"=\"         \"6\"        \n",
      "[1] \"Sum uptil\" \"4\"         \"=\"         \"10\"       \n",
      "[1] \"Sum uptil\" \"5\"         \"=\"         \"15\"       \n",
      "[1] \"Sum uptil\" \"6\"         \"=\"         \"21\"       \n",
      "[1] \"Sum uptil\" \"7\"         \"=\"         \"28\"       \n",
      "[1] \"Sum uptil\" \"8\"         \"=\"         \"36\"       \n",
      "[1] \"Sum uptil\" \"9\"         \"=\"         \"45\"       \n",
      "[1] \"Sum uptil\" \"10\"        \"=\"         \"55\"       \n"
     ]
    }
   ],
   "source": [
    "# Print 1+2+...+n for n ranging from 1 to 10 using for loop\n",
    "for (i in 1:10) {\n",
    "    n = 1:i\n",
    "    print(c(\"Sum uptil\", i, \"=\", sum(n)))\n",
    "}"
   ]
  },
  {
   "cell_type": "markdown",
   "metadata": {},
   "source": []
  },
  {
   "cell_type": "markdown",
   "metadata": {},
   "source": [
    "This notebook ends here."
   ]
  }
 ],
 "metadata": {
  "kernelspec": {
   "display_name": "R",
   "language": "R",
   "name": "ir"
  },
  "language_info": {
   "codemirror_mode": "r",
   "file_extension": ".r",
   "mimetype": "text/x-r-source",
   "name": "R",
   "pygments_lexer": "r",
   "version": "3.5.0"
  }
 },
 "nbformat": 4,
 "nbformat_minor": 2
}
