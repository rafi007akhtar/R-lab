{
 "cells": [
  {
   "cell_type": "markdown",
   "metadata": {},
   "source": [
    "# Data Visualization Principles\n",
    "\n",
    "This notebook is all about learning the best principles and practises for effective data visualization.\n",
    "\n",
    "Topics include:\n",
    "1. Encoding data using visual cues\n",
    "2. Know when to include zero\n",
    "3. Do not distort quantities\n",
    "4. Order by a meaningful value\n",
    "5. Show the data\n",
    "6. Use common axes\n",
    "7. Consider tranformations\n",
    "8. Compared visual cues must be adjacent\n",
    "9. Slope charts\n",
    "10. Some more guidelines\n",
    "\n",
    "Note that this notebook is just an RTF; there is no code involved here."
   ]
  },
  {
   "cell_type": "markdown",
   "metadata": {},
   "source": [
    "## 1. Encoding Data using Visual Cues\n",
    "\n",
    "There are several visual cues to encoding data, including:\n",
    "<li> position </li>\n",
    "<li> aligned lengths </li>\n",
    "<li> angles </li>\n",
    "<li> area </li>\n",
    "<li> brightness </li>\n",
    "<li> color hue </li>\n",
    "\n",
    "Position and lengths are preferred to angles, which in turn are preferred to area.\n",
    "Brightness and color hue are used only in situations where data has more than two dimensions."
   ]
  },
  {
   "cell_type": "markdown",
   "metadata": {},
   "source": [
    "## 2. Know when to Include Zero\n",
    "\n",
    "### Include zero\n",
    "Bar plots should begin at 0, instead of 1, because the length of the bars should always be proportional to the quantities being displayed (using 1 would result in small differences that amplify in the plot).\n",
    "\n",
    "### Do not include zero\n",
    "When using positions, instead of length, it is not necessary to include zero, to restrict the lengths that only include the plot points."
   ]
  },
  {
   "cell_type": "markdown",
   "metadata": {},
   "source": [
    "## 3. Do NOT Distort Quantities\n",
    "\n",
    "When displaying quantities with circular / spherical shapes, do not make the radius proportional to quantity; instead make the area proportional to quantity.\n",
    "\n",
    "`ggplot` defualts to using area instead of radius.\n",
    "\n",
    "Also, avoid using areas when you can use lengths (_i.e.,_ bar plots)."
   ]
  },
  {
   "cell_type": "markdown",
   "metadata": {},
   "source": [
    "## 4. Order by A Meaningful Value\n",
    "\n",
    "`ggplot` defaults to ordering values alphabetically; however, this is rarely what we want.\n",
    "\n",
    "Instead, we would like to order the values by a meaningful value. Like, when we create a bar graph for murder rates across the states, we would like to order the states in a higher-rate-first scheme, instead of ordering them alphabetically.\n",
    "\n",
    "The `reorder()` function (in the `stats` package) helps achieve this goal."
   ]
  },
  {
   "cell_type": "markdown",
   "metadata": {},
   "source": [
    "## 5. Show the data\n",
    "\n",
    "For visualzations that require showing distributions:\n",
    "<li> Use scatter plots instead of bar plots to show as many data points as there are </li>\n",
    "<li> Add jitter to shift the horizontal coordinates by a small value if we don't care about a small shift in the abscissae, and our focus lies on the ordinates </li>\n",
    "<li> Use alpha blending to avoid having to show points that fall right on top on one another </li>\n",
    "\n",
    "**Note.** Showing a distribution in these cases in more helpful than showing plots."
   ]
  },
  {
   "cell_type": "markdown",
   "metadata": {},
   "source": [
    "## 6. Use Common Axes to Ease Comparisons\n",
    "\n",
    "Align plots horizontally to see vertical changes, <br>\n",
    "Align plots vertically to see horizontal changes, <br>\n",
    "and fix the axes.\n",
    "\n",
    "When appropriate, show distributions (using histograms, for example) instead of plots."
   ]
  },
  {
   "cell_type": "markdown",
   "metadata": {},
   "source": [
    "## 7. Consider Transformations\n",
    "\n",
    "1. When the data is multiplicative, use log transformations (eg., for population).\n",
    "2. To better see full changes in odds, use logistic transformations.\n",
    "3. Square-root transformation is useful to count data"
   ]
  },
  {
   "cell_type": "markdown",
   "metadata": {},
   "source": [
    "## 8. Compared Visual Cues Must Be Adjacent to Ease Comparisons\n",
    "\n",
    "When comparing data from two different attributes (say, different years and countries), `ggplot` defaults to putting all of them alphabetically in the plot (so, all the countries in 1970 would appear before all the countries in 2010, for example).\n",
    "\n",
    "What we really want to do is place the countries of two different years side by side, to ease comparisons.\n",
    "\n",
    "Another thing we can do is use a color for all countries in 1970, and another color for all countries in 2010, to further ease comparisons when countries are placed adjacent to each other."
   ]
  },
  {
   "cell_type": "markdown",
   "metadata": {},
   "source": [
    "## 9. Slope Charts\n",
    "\n",
    "Instead of using scatter plots, use slope charts when you are comparing data\n",
    "<li> of same type, </li>\n",
    "<li> having small differences, </li>\n",
    "<li> for relatively small number of comparisons. </li>\n",
    "\n",
    "Here, the plots are based on _angle_ (since slopes are involved), but we also have positions of the variables in our example."
   ]
  },
  {
   "cell_type": "markdown",
   "metadata": {},
   "source": [
    "## 10. Some More Guidelines\n",
    "\n",
    "Whenever needed, remember to:\n",
    "1. Encode a third variable\n",
    "2. Avoid pseudo and gratuitous 3D plots\n",
    "3. Avoid too many significant digits in tables"
   ]
  },
  {
   "cell_type": "markdown",
   "metadata": {},
   "source": [
    "The notebook ends here"
   ]
  }
 ],
 "metadata": {
  "kernelspec": {
   "display_name": "R",
   "language": "R",
   "name": "ir"
  },
  "language_info": {
   "codemirror_mode": "r",
   "file_extension": ".r",
   "mimetype": "text/x-r-source",
   "name": "R",
   "pygments_lexer": "r",
   "version": "3.5.0"
  }
 },
 "nbformat": 4,
 "nbformat_minor": 2
}
