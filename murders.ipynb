{
 "cells": [
  {
   "cell_type": "markdown",
   "metadata": {},
   "source": [
    "# Explore the `murders` dataset in the `dslabs` package\n",
    "\n",
    "This notebook analyzes a datasets in the `dslabs` package while touching upon some fundamental data-exploratory tools in R.\n",
    "\n",
    "Again, all of the syntax used here is explained in the readme file of this repository.\n",
    "\n",
    "## Topics in a gist\n",
    "1. Loading the required dataset\n",
    "2. Getting familiar with the dataset\n",
    "3. Data exploration in the dataset\n",
    "4. Data wrangling using `dplyr`\n",
    "5. Working with graphs (scatterplots, historgrams, boxplots)"
   ]
  },
  {
   "cell_type": "markdown",
   "metadata": {},
   "source": [
    "## Required\n",
    "\n",
    "Make sure to download the `dslabs` and `dplyr` packages to your system before beginning its exploration.\n",
    "### Steps\n",
    "#### Install the `dslabs` package\n",
    "1. Open an `R` console.\n",
    "2. Enter: `install.packages(\"dslabs\")`\n",
    "3. Select a mirror, and begin installation.\n",
    "\n",
    "#### Install the `dplyr` package\n",
    "Within the same `R` console:\n",
    "1. Enter: `install.packages(\"dslabs\")`\n",
    "2. Select a mirror, and begin installation.\n",
    "\n",
    "After the installations are complete, the dataset exploration begins as follows."
   ]
  },
  {
   "cell_type": "markdown",
   "metadata": {},
   "source": []
  },
  {
   "cell_type": "markdown",
   "metadata": {},
   "source": [
    "## 1. Load the dataset required in this script"
   ]
  },
  {
   "cell_type": "code",
   "execution_count": 3,
   "metadata": {},
   "outputs": [],
   "source": [
    "library(dslabs)\n",
    "data(murders)"
   ]
  },
  {
   "cell_type": "code",
   "execution_count": 4,
   "metadata": {},
   "outputs": [
    {
     "data": {
      "text/html": [
       "'data.frame'"
      ],
      "text/latex": [
       "'data.frame'"
      ],
      "text/markdown": [
       "'data.frame'"
      ],
      "text/plain": [
       "[1] \"data.frame\""
      ]
     },
     "metadata": {},
     "output_type": "display_data"
    }
   ],
   "source": [
    "class (murders)"
   ]
  },
  {
   "cell_type": "markdown",
   "metadata": {},
   "source": [
    "## 2. Get familiar with the dataset"
   ]
  },
  {
   "cell_type": "code",
   "execution_count": 5,
   "metadata": {},
   "outputs": [
    {
     "name": "stdout",
     "output_type": "stream",
     "text": [
      "'data.frame':\t51 obs. of  5 variables:\n",
      " $ state     : chr  \"Alabama\" \"Alaska\" \"Arizona\" \"Arkansas\" ...\n",
      " $ abb       : chr  \"AL\" \"AK\" \"AZ\" \"AR\" ...\n",
      " $ region    : Factor w/ 4 levels \"Northeast\",\"South\",..: 2 4 4 2 4 4 1 2 2 2 ...\n",
      " $ population: num  4779736 710231 6392017 2915918 37253956 ...\n",
      " $ total     : num  135 19 232 93 1257 ...\n"
     ]
    }
   ],
   "source": [
    "str(murders) # structure of the dataset"
   ]
  },
  {
   "cell_type": "code",
   "execution_count": 6,
   "metadata": {},
   "outputs": [
    {
     "data": {
      "text/html": [
       "<table>\n",
       "<thead><tr><th scope=col>state</th><th scope=col>abb</th><th scope=col>region</th><th scope=col>population</th><th scope=col>total</th></tr></thead>\n",
       "<tbody>\n",
       "\t<tr><td>Alabama   </td><td>AL        </td><td>South     </td><td> 4779736  </td><td> 135      </td></tr>\n",
       "\t<tr><td>Alaska    </td><td>AK        </td><td>West      </td><td>  710231  </td><td>  19      </td></tr>\n",
       "\t<tr><td>Arizona   </td><td>AZ        </td><td>West      </td><td> 6392017  </td><td> 232      </td></tr>\n",
       "\t<tr><td>Arkansas  </td><td>AR        </td><td>South     </td><td> 2915918  </td><td>  93      </td></tr>\n",
       "\t<tr><td>California</td><td>CA        </td><td>West      </td><td>37253956  </td><td>1257      </td></tr>\n",
       "\t<tr><td>Colorado  </td><td>CO        </td><td>West      </td><td> 5029196  </td><td>  65      </td></tr>\n",
       "</tbody>\n",
       "</table>\n"
      ],
      "text/latex": [
       "\\begin{tabular}{r|lllll}\n",
       " state & abb & region & population & total\\\\\n",
       "\\hline\n",
       "\t Alabama    & AL         & South      &  4779736   &  135      \\\\\n",
       "\t Alaska     & AK         & West       &   710231   &   19      \\\\\n",
       "\t Arizona    & AZ         & West       &  6392017   &  232      \\\\\n",
       "\t Arkansas   & AR         & South      &  2915918   &   93      \\\\\n",
       "\t California & CA         & West       & 37253956   & 1257      \\\\\n",
       "\t Colorado   & CO         & West       &  5029196   &   65      \\\\\n",
       "\\end{tabular}\n"
      ],
      "text/markdown": [
       "\n",
       "state | abb | region | population | total | \n",
       "|---|---|---|---|---|---|\n",
       "| Alabama    | AL         | South      |  4779736   |  135       | \n",
       "| Alaska     | AK         | West       |   710231   |   19       | \n",
       "| Arizona    | AZ         | West       |  6392017   |  232       | \n",
       "| Arkansas   | AR         | South      |  2915918   |   93       | \n",
       "| California | CA         | West       | 37253956   | 1257       | \n",
       "| Colorado   | CO         | West       |  5029196   |   65       | \n",
       "\n",
       "\n"
      ],
      "text/plain": [
       "  state      abb region population total\n",
       "1 Alabama    AL  South   4779736    135 \n",
       "2 Alaska     AK  West     710231     19 \n",
       "3 Arizona    AZ  West    6392017    232 \n",
       "4 Arkansas   AR  South   2915918     93 \n",
       "5 California CA  West   37253956   1257 \n",
       "6 Colorado   CO  West    5029196     65 "
      ]
     },
     "metadata": {},
     "output_type": "display_data"
    }
   ],
   "source": [
    "head(murders) # first 6 rows"
   ]
  },
  {
   "cell_type": "code",
   "execution_count": 7,
   "metadata": {},
   "outputs": [
    {
     "name": "stdout",
     "output_type": "stream",
     "text": [
      " [1] South         West          West          South         West         \n",
      " [6] West          Northeast     South         South         South        \n",
      "[11] South         West          West          North Central North Central\n",
      "[16] North Central North Central South         South         Northeast    \n",
      "[21] South         Northeast     North Central North Central South        \n",
      "[26] North Central West          North Central West          Northeast    \n",
      "[31] Northeast     West          Northeast     South         North Central\n",
      "[36] North Central South         West          Northeast     Northeast    \n",
      "[41] South         North Central South         South         West         \n",
      "[46] Northeast     South         West          South         North Central\n",
      "[51] West         \n",
      "Levels: Northeast South North Central West\n"
     ]
    }
   ],
   "source": [
    "# Print the regions attribute\n",
    "regions = murders$region\n",
    "print (regions)"
   ]
  },
  {
   "cell_type": "code",
   "execution_count": 8,
   "metadata": {},
   "outputs": [
    {
     "data": {
      "text/html": [
       "'factor'"
      ],
      "text/latex": [
       "'factor'"
      ],
      "text/markdown": [
       "'factor'"
      ],
      "text/plain": [
       "[1] \"factor\""
      ]
     },
     "metadata": {},
     "output_type": "display_data"
    }
   ],
   "source": [
    "class(regions) # FACTOR -- used to store categorical data\n"
   ]
  },
  {
   "cell_type": "code",
   "execution_count": 9,
   "metadata": {},
   "outputs": [
    {
     "name": "stdout",
     "output_type": "stream",
     "text": [
      "[1] \"Total murders\"\n"
     ]
    },
    {
     "data": {
      "text/html": [
       "<ol class=list-inline>\n",
       "\t<li>135</li>\n",
       "\t<li>19</li>\n",
       "\t<li>232</li>\n",
       "\t<li>93</li>\n",
       "\t<li>1257</li>\n",
       "\t<li>65</li>\n",
       "\t<li>97</li>\n",
       "\t<li>38</li>\n",
       "\t<li>99</li>\n",
       "\t<li>669</li>\n",
       "\t<li>376</li>\n",
       "\t<li>7</li>\n",
       "\t<li>12</li>\n",
       "\t<li>364</li>\n",
       "\t<li>142</li>\n",
       "\t<li>21</li>\n",
       "\t<li>63</li>\n",
       "\t<li>116</li>\n",
       "\t<li>351</li>\n",
       "\t<li>11</li>\n",
       "\t<li>293</li>\n",
       "\t<li>118</li>\n",
       "\t<li>413</li>\n",
       "\t<li>53</li>\n",
       "\t<li>120</li>\n",
       "\t<li>321</li>\n",
       "\t<li>12</li>\n",
       "\t<li>32</li>\n",
       "\t<li>84</li>\n",
       "\t<li>5</li>\n",
       "\t<li>246</li>\n",
       "\t<li>67</li>\n",
       "\t<li>517</li>\n",
       "\t<li>286</li>\n",
       "\t<li>4</li>\n",
       "\t<li>310</li>\n",
       "\t<li>111</li>\n",
       "\t<li>36</li>\n",
       "\t<li>457</li>\n",
       "\t<li>16</li>\n",
       "\t<li>207</li>\n",
       "\t<li>8</li>\n",
       "\t<li>219</li>\n",
       "\t<li>805</li>\n",
       "\t<li>22</li>\n",
       "\t<li>2</li>\n",
       "\t<li>250</li>\n",
       "\t<li>93</li>\n",
       "\t<li>27</li>\n",
       "\t<li>97</li>\n",
       "\t<li>5</li>\n",
       "</ol>\n"
      ],
      "text/latex": [
       "\\begin{enumerate*}\n",
       "\\item 135\n",
       "\\item 19\n",
       "\\item 232\n",
       "\\item 93\n",
       "\\item 1257\n",
       "\\item 65\n",
       "\\item 97\n",
       "\\item 38\n",
       "\\item 99\n",
       "\\item 669\n",
       "\\item 376\n",
       "\\item 7\n",
       "\\item 12\n",
       "\\item 364\n",
       "\\item 142\n",
       "\\item 21\n",
       "\\item 63\n",
       "\\item 116\n",
       "\\item 351\n",
       "\\item 11\n",
       "\\item 293\n",
       "\\item 118\n",
       "\\item 413\n",
       "\\item 53\n",
       "\\item 120\n",
       "\\item 321\n",
       "\\item 12\n",
       "\\item 32\n",
       "\\item 84\n",
       "\\item 5\n",
       "\\item 246\n",
       "\\item 67\n",
       "\\item 517\n",
       "\\item 286\n",
       "\\item 4\n",
       "\\item 310\n",
       "\\item 111\n",
       "\\item 36\n",
       "\\item 457\n",
       "\\item 16\n",
       "\\item 207\n",
       "\\item 8\n",
       "\\item 219\n",
       "\\item 805\n",
       "\\item 22\n",
       "\\item 2\n",
       "\\item 250\n",
       "\\item 93\n",
       "\\item 27\n",
       "\\item 97\n",
       "\\item 5\n",
       "\\end{enumerate*}\n"
      ],
      "text/markdown": [
       "1. 135\n",
       "2. 19\n",
       "3. 232\n",
       "4. 93\n",
       "5. 1257\n",
       "6. 65\n",
       "7. 97\n",
       "8. 38\n",
       "9. 99\n",
       "10. 669\n",
       "11. 376\n",
       "12. 7\n",
       "13. 12\n",
       "14. 364\n",
       "15. 142\n",
       "16. 21\n",
       "17. 63\n",
       "18. 116\n",
       "19. 351\n",
       "20. 11\n",
       "21. 293\n",
       "22. 118\n",
       "23. 413\n",
       "24. 53\n",
       "25. 120\n",
       "26. 321\n",
       "27. 12\n",
       "28. 32\n",
       "29. 84\n",
       "30. 5\n",
       "31. 246\n",
       "32. 67\n",
       "33. 517\n",
       "34. 286\n",
       "35. 4\n",
       "36. 310\n",
       "37. 111\n",
       "38. 36\n",
       "39. 457\n",
       "40. 16\n",
       "41. 207\n",
       "42. 8\n",
       "43. 219\n",
       "44. 805\n",
       "45. 22\n",
       "46. 2\n",
       "47. 250\n",
       "48. 93\n",
       "49. 27\n",
       "50. 97\n",
       "51. 5\n",
       "\n",
       "\n"
      ],
      "text/plain": [
       " [1]  135   19  232   93 1257   65   97   38   99  669  376    7   12  364  142\n",
       "[16]   21   63  116  351   11  293  118  413   53  120  321   12   32   84    5\n",
       "[31]  246   67  517  286    4  310  111   36  457   16  207    8  219  805   22\n",
       "[46]    2  250   93   27   97    5"
      ]
     },
     "metadata": {},
     "output_type": "display_data"
    },
    {
     "name": "stdout",
     "output_type": "stream",
     "text": [
      "[1] \"Sorted murders\"\n"
     ]
    },
    {
     "data": {
      "text/html": [
       "<ol class=list-inline>\n",
       "\t<li>2</li>\n",
       "\t<li>4</li>\n",
       "\t<li>5</li>\n",
       "\t<li>5</li>\n",
       "\t<li>7</li>\n",
       "\t<li>8</li>\n",
       "\t<li>11</li>\n",
       "\t<li>12</li>\n",
       "\t<li>12</li>\n",
       "\t<li>16</li>\n",
       "\t<li>19</li>\n",
       "\t<li>21</li>\n",
       "\t<li>22</li>\n",
       "\t<li>27</li>\n",
       "\t<li>32</li>\n",
       "\t<li>36</li>\n",
       "\t<li>38</li>\n",
       "\t<li>53</li>\n",
       "\t<li>63</li>\n",
       "\t<li>65</li>\n",
       "\t<li>67</li>\n",
       "\t<li>84</li>\n",
       "\t<li>93</li>\n",
       "\t<li>93</li>\n",
       "\t<li>97</li>\n",
       "\t<li>97</li>\n",
       "\t<li>99</li>\n",
       "\t<li>111</li>\n",
       "\t<li>116</li>\n",
       "\t<li>118</li>\n",
       "\t<li>120</li>\n",
       "\t<li>135</li>\n",
       "\t<li>142</li>\n",
       "\t<li>207</li>\n",
       "\t<li>219</li>\n",
       "\t<li>232</li>\n",
       "\t<li>246</li>\n",
       "\t<li>250</li>\n",
       "\t<li>286</li>\n",
       "\t<li>293</li>\n",
       "\t<li>310</li>\n",
       "\t<li>321</li>\n",
       "\t<li>351</li>\n",
       "\t<li>364</li>\n",
       "\t<li>376</li>\n",
       "\t<li>413</li>\n",
       "\t<li>457</li>\n",
       "\t<li>517</li>\n",
       "\t<li>669</li>\n",
       "\t<li>805</li>\n",
       "\t<li>1257</li>\n",
       "</ol>\n"
      ],
      "text/latex": [
       "\\begin{enumerate*}\n",
       "\\item 2\n",
       "\\item 4\n",
       "\\item 5\n",
       "\\item 5\n",
       "\\item 7\n",
       "\\item 8\n",
       "\\item 11\n",
       "\\item 12\n",
       "\\item 12\n",
       "\\item 16\n",
       "\\item 19\n",
       "\\item 21\n",
       "\\item 22\n",
       "\\item 27\n",
       "\\item 32\n",
       "\\item 36\n",
       "\\item 38\n",
       "\\item 53\n",
       "\\item 63\n",
       "\\item 65\n",
       "\\item 67\n",
       "\\item 84\n",
       "\\item 93\n",
       "\\item 93\n",
       "\\item 97\n",
       "\\item 97\n",
       "\\item 99\n",
       "\\item 111\n",
       "\\item 116\n",
       "\\item 118\n",
       "\\item 120\n",
       "\\item 135\n",
       "\\item 142\n",
       "\\item 207\n",
       "\\item 219\n",
       "\\item 232\n",
       "\\item 246\n",
       "\\item 250\n",
       "\\item 286\n",
       "\\item 293\n",
       "\\item 310\n",
       "\\item 321\n",
       "\\item 351\n",
       "\\item 364\n",
       "\\item 376\n",
       "\\item 413\n",
       "\\item 457\n",
       "\\item 517\n",
       "\\item 669\n",
       "\\item 805\n",
       "\\item 1257\n",
       "\\end{enumerate*}\n"
      ],
      "text/markdown": [
       "1. 2\n",
       "2. 4\n",
       "3. 5\n",
       "4. 5\n",
       "5. 7\n",
       "6. 8\n",
       "7. 11\n",
       "8. 12\n",
       "9. 12\n",
       "10. 16\n",
       "11. 19\n",
       "12. 21\n",
       "13. 22\n",
       "14. 27\n",
       "15. 32\n",
       "16. 36\n",
       "17. 38\n",
       "18. 53\n",
       "19. 63\n",
       "20. 65\n",
       "21. 67\n",
       "22. 84\n",
       "23. 93\n",
       "24. 93\n",
       "25. 97\n",
       "26. 97\n",
       "27. 99\n",
       "28. 111\n",
       "29. 116\n",
       "30. 118\n",
       "31. 120\n",
       "32. 135\n",
       "33. 142\n",
       "34. 207\n",
       "35. 219\n",
       "36. 232\n",
       "37. 246\n",
       "38. 250\n",
       "39. 286\n",
       "40. 293\n",
       "41. 310\n",
       "42. 321\n",
       "43. 351\n",
       "44. 364\n",
       "45. 376\n",
       "46. 413\n",
       "47. 457\n",
       "48. 517\n",
       "49. 669\n",
       "50. 805\n",
       "51. 1257\n",
       "\n",
       "\n"
      ],
      "text/plain": [
       " [1]    2    4    5    5    7    8   11   12   12   16   19   21   22   27   32\n",
       "[16]   36   38   53   63   65   67   84   93   93   97   97   99  111  116  118\n",
       "[31]  120  135  142  207  219  232  246  250  286  293  310  321  351  364  376\n",
       "[46]  413  457  517  669  805 1257"
      ]
     },
     "metadata": {},
     "output_type": "display_data"
    }
   ],
   "source": [
    "# Sort the total murders in ascending order\n",
    "totals = murders$total\n",
    "print(\"Total murders\")\n",
    "totals\n",
    "print(\"Sorted murders\")\n",
    "sort(totals)"
   ]
  },
  {
   "cell_type": "code",
   "execution_count": 10,
   "metadata": {},
   "outputs": [
    {
     "name": "stdout",
     "output_type": "stream",
     "text": [
      "[1] \"States from lowest murder rate till highest\"\n",
      " [1] \"Vermont\"              \"North Dakota\"         \"New Hampshire\"       \n",
      " [4] \"Wyoming\"              \"Hawaii\"               \"South Dakota\"        \n",
      " [7] \"Maine\"                \"Idaho\"                \"Montana\"             \n",
      "[10] \"Rhode Island\"         \"Alaska\"               \"Iowa\"                \n",
      "[13] \"Utah\"                 \"West Virginia\"        \"Nebraska\"            \n",
      "[16] \"Oregon\"               \"Delaware\"             \"Minnesota\"           \n",
      "[19] \"Kansas\"               \"Colorado\"             \"New Mexico\"          \n",
      "[22] \"Nevada\"               \"Arkansas\"             \"Washington\"          \n",
      "[25] \"Connecticut\"          \"Wisconsin\"            \"District of Columbia\"\n",
      "[28] \"Oklahoma\"             \"Kentucky\"             \"Massachusetts\"       \n",
      "[31] \"Mississippi\"          \"Alabama\"              \"Indiana\"             \n",
      "[34] \"South Carolina\"       \"Tennessee\"            \"Arizona\"             \n",
      "[37] \"New Jersey\"           \"Virginia\"             \"North Carolina\"      \n",
      "[40] \"Maryland\"             \"Ohio\"                 \"Missouri\"            \n",
      "[43] \"Louisiana\"            \"Illinois\"             \"Georgia\"             \n",
      "[46] \"Michigan\"             \"Pennsylvania\"         \"New York\"            \n",
      "[49] \"Florida\"              \"Texas\"                \"California\"          \n"
     ]
    }
   ],
   "source": [
    "# Display the state names according to their total murders in ascending order\n",
    "\n",
    "orders = order(totals) # returns the multivalued index vector required to sort the integers\n",
    "states = murders$state[orders] # access the state column in murders, and index them as per their total murders order. Also: VECTORS CAN BE INDEXED WITH LOGICALS!\n",
    "print(\"States from lowest murder rate till highest\")\n",
    "print(states)"
   ]
  },
  {
   "cell_type": "code",
   "execution_count": 11,
   "metadata": {},
   "outputs": [
    {
     "data": {
      "text/html": [
       "<table>\n",
       "<thead><tr><th scope=col>state_name</th><th scope=col>total_murders</th></tr></thead>\n",
       "<tbody>\n",
       "\t<tr><td>Vermont      </td><td>2            </td></tr>\n",
       "\t<tr><td>North Dakota </td><td>4            </td></tr>\n",
       "\t<tr><td>New Hampshire</td><td>5            </td></tr>\n",
       "\t<tr><td>Wyoming      </td><td>5            </td></tr>\n",
       "\t<tr><td>Hawaii       </td><td>7            </td></tr>\n",
       "\t<tr><td>South Dakota </td><td>8            </td></tr>\n",
       "</tbody>\n",
       "</table>\n"
      ],
      "text/latex": [
       "\\begin{tabular}{r|ll}\n",
       " state\\_name & total\\_murders\\\\\n",
       "\\hline\n",
       "\t Vermont       & 2            \\\\\n",
       "\t North Dakota  & 4            \\\\\n",
       "\t New Hampshire & 5            \\\\\n",
       "\t Wyoming       & 5            \\\\\n",
       "\t Hawaii        & 7            \\\\\n",
       "\t South Dakota  & 8            \\\\\n",
       "\\end{tabular}\n"
      ],
      "text/markdown": [
       "\n",
       "state_name | total_murders | \n",
       "|---|---|---|---|---|---|\n",
       "| Vermont       | 2             | \n",
       "| North Dakota  | 4             | \n",
       "| New Hampshire | 5             | \n",
       "| Wyoming       | 5             | \n",
       "| Hawaii        | 7             | \n",
       "| South Dakota  | 8             | \n",
       "\n",
       "\n"
      ],
      "text/plain": [
       "  state_name    total_murders\n",
       "1 Vermont       2            \n",
       "2 North Dakota  4            \n",
       "3 New Hampshire 5            \n",
       "4 Wyoming       5            \n",
       "5 Hawaii        7            \n",
       "6 South Dakota  8            "
      ]
     },
     "metadata": {},
     "output_type": "display_data"
    },
    {
     "data": {
      "text/html": [
       "<table>\n",
       "<thead><tr><th></th><th scope=col>state_name</th><th scope=col>total_murders</th></tr></thead>\n",
       "<tbody>\n",
       "\t<tr><th scope=row>46</th><td>Michigan    </td><td> 413        </td></tr>\n",
       "\t<tr><th scope=row>47</th><td>Pennsylvania</td><td> 457        </td></tr>\n",
       "\t<tr><th scope=row>48</th><td>New York    </td><td> 517        </td></tr>\n",
       "\t<tr><th scope=row>49</th><td>Florida     </td><td> 669        </td></tr>\n",
       "\t<tr><th scope=row>50</th><td>Texas       </td><td> 805        </td></tr>\n",
       "\t<tr><th scope=row>51</th><td>California  </td><td>1257        </td></tr>\n",
       "</tbody>\n",
       "</table>\n"
      ],
      "text/latex": [
       "\\begin{tabular}{r|ll}\n",
       "  & state\\_name & total\\_murders\\\\\n",
       "\\hline\n",
       "\t46 & Michigan     &  413        \\\\\n",
       "\t47 & Pennsylvania &  457        \\\\\n",
       "\t48 & New York     &  517        \\\\\n",
       "\t49 & Florida      &  669        \\\\\n",
       "\t50 & Texas        &  805        \\\\\n",
       "\t51 & California   & 1257        \\\\\n",
       "\\end{tabular}\n"
      ],
      "text/markdown": [
       "\n",
       "| <!--/--> | state_name | total_murders | \n",
       "|---|---|---|---|---|---|\n",
       "| 46 | Michigan     |  413         | \n",
       "| 47 | Pennsylvania |  457         | \n",
       "| 48 | New York     |  517         | \n",
       "| 49 | Florida      |  669         | \n",
       "| 50 | Texas        |  805         | \n",
       "| 51 | California   | 1257         | \n",
       "\n",
       "\n"
      ],
      "text/plain": [
       "   state_name   total_murders\n",
       "46 Michigan      413         \n",
       "47 Pennsylvania  457         \n",
       "48 New York      517         \n",
       "49 Florida       669         \n",
       "50 Texas         805         \n",
       "51 California   1257         "
      ]
     },
     "metadata": {},
     "output_type": "display_data"
    }
   ],
   "source": [
    "# Create a sub-table (data-frame) from the murders table with state names and their total murders in ascending order\n",
    "sub_murders = data.frame(state_name = states, total_murders = totals[orders])\n",
    "head(sub_murders) # display the first 6 entries\n",
    "tail(sub_murders) # display the last 6 entries\n"
   ]
  },
  {
   "cell_type": "markdown",
   "metadata": {},
   "source": []
  },
  {
   "cell_type": "markdown",
   "metadata": {},
   "source": [
    "## 3. Dataset exploration: Work with \"murder rates\"\n",
    "\n",
    "_Murder rate_ is defined as the number of murders per capita, that is per 100000 people of population."
   ]
  },
  {
   "cell_type": "code",
   "execution_count": 12,
   "metadata": {},
   "outputs": [
    {
     "name": "stdout",
     "output_type": "stream",
     "text": [
      "[1] \"State names are per their murder rates in descending order\"\n",
      " [1] \"District of Columbia\" \"Louisiana\"            \"Missouri\"            \n",
      " [4] \"Maryland\"             \"South Carolina\"       \"Delaware\"            \n",
      " [7] \"Michigan\"             \"Mississippi\"          \"Georgia\"             \n",
      "[10] \"Arizona\"              \"Pennsylvania\"         \"Tennessee\"           \n",
      "[13] \"Florida\"              \"California\"           \"New Mexico\"          \n",
      "[16] \"Texas\"                \"Arkansas\"             \"Virginia\"            \n",
      "[19] \"Nevada\"               \"North Carolina\"       \"Oklahoma\"            \n",
      "[22] \"Illinois\"             \"Alabama\"              \"New Jersey\"          \n",
      "[25] \"Connecticut\"          \"Ohio\"                 \"Alaska\"              \n",
      "[28] \"Kentucky\"             \"New York\"             \"Kansas\"              \n",
      "[31] \"Indiana\"              \"Massachusetts\"        \"Nebraska\"            \n",
      "[34] \"Wisconsin\"            \"Rhode Island\"         \"West Virginia\"       \n",
      "[37] \"Washington\"           \"Colorado\"             \"Montana\"             \n",
      "[40] \"Minnesota\"            \"South Dakota\"         \"Oregon\"              \n",
      "[43] \"Wyoming\"              \"Maine\"                \"Utah\"                \n",
      "[46] \"Idaho\"                \"Iowa\"                 \"North Dakota\"        \n",
      "[49] \"Hawaii\"               \"New Hampshire\"        \"Vermont\"             \n"
     ]
    }
   ],
   "source": [
    "pops = murders$population\n",
    "# Define a murder_rate column\n",
    "murder_rate = (totals / pops) * 100000\n",
    "print(\"State names are per their murder rates in descending order\")\n",
    "states = murders$state\n",
    "print(states[order(murder_rate, decreasing=TRUE)]) # print the state names in the order of their murder rates in decreasing order"
   ]
  },
  {
   "cell_type": "code",
   "execution_count": 13,
   "metadata": {},
   "outputs": [
    {
     "name": "stdout",
     "output_type": "stream",
     "text": [
      "[1] \"States with low murder rates\"\n"
     ]
    },
    {
     "data": {
      "text/html": [
       "<ol class=list-inline>\n",
       "\t<li>'Hawaii'</li>\n",
       "\t<li>'Idaho'</li>\n",
       "\t<li>'Iowa'</li>\n",
       "\t<li>'Maine'</li>\n",
       "\t<li>'Minnesota'</li>\n",
       "\t<li>'New Hampshire'</li>\n",
       "\t<li>'North Dakota'</li>\n",
       "\t<li>'Oregon'</li>\n",
       "\t<li>'South Dakota'</li>\n",
       "\t<li>'Utah'</li>\n",
       "\t<li>'Vermont'</li>\n",
       "\t<li>'Wyoming'</li>\n",
       "</ol>\n"
      ],
      "text/latex": [
       "\\begin{enumerate*}\n",
       "\\item 'Hawaii'\n",
       "\\item 'Idaho'\n",
       "\\item 'Iowa'\n",
       "\\item 'Maine'\n",
       "\\item 'Minnesota'\n",
       "\\item 'New Hampshire'\n",
       "\\item 'North Dakota'\n",
       "\\item 'Oregon'\n",
       "\\item 'South Dakota'\n",
       "\\item 'Utah'\n",
       "\\item 'Vermont'\n",
       "\\item 'Wyoming'\n",
       "\\end{enumerate*}\n"
      ],
      "text/markdown": [
       "1. 'Hawaii'\n",
       "2. 'Idaho'\n",
       "3. 'Iowa'\n",
       "4. 'Maine'\n",
       "5. 'Minnesota'\n",
       "6. 'New Hampshire'\n",
       "7. 'North Dakota'\n",
       "8. 'Oregon'\n",
       "9. 'South Dakota'\n",
       "10. 'Utah'\n",
       "11. 'Vermont'\n",
       "12. 'Wyoming'\n",
       "\n",
       "\n"
      ],
      "text/plain": [
       " [1] \"Hawaii\"        \"Idaho\"         \"Iowa\"          \"Maine\"        \n",
       " [5] \"Minnesota\"     \"New Hampshire\" \"North Dakota\"  \"Oregon\"       \n",
       " [9] \"South Dakota\"  \"Utah\"          \"Vermont\"       \"Wyoming\"      "
      ]
     },
     "metadata": {},
     "output_type": "display_data"
    }
   ],
   "source": [
    "# Print those states whose murder rates are less than 1\n",
    "test_cond = murder_rate < 1\n",
    "print(\"States with low murder rates\")\n",
    "states [test_cond]"
   ]
  },
  {
   "cell_type": "code",
   "execution_count": 14,
   "metadata": {},
   "outputs": [
    {
     "data": {
      "text/html": [
       "<table>\n",
       "<thead><tr><th scope=col>state</th><th scope=col>murder.rate</th></tr></thead>\n",
       "<tbody>\n",
       "\t<tr><td>Nevada   </td><td>3.1104763</td></tr>\n",
       "\t<tr><td>Maine    </td><td>0.8280881</td></tr>\n",
       "\t<tr><td>Kansas   </td><td>2.2081106</td></tr>\n",
       "</tbody>\n",
       "</table>\n"
      ],
      "text/latex": [
       "\\begin{tabular}{r|ll}\n",
       " state & murder.rate\\\\\n",
       "\\hline\n",
       "\t Nevada    & 3.1104763\\\\\n",
       "\t Maine     & 0.8280881\\\\\n",
       "\t Kansas    & 2.2081106\\\\\n",
       "\\end{tabular}\n"
      ],
      "text/markdown": [
       "\n",
       "state | murder.rate | \n",
       "|---|---|---|\n",
       "| Nevada    | 3.1104763 | \n",
       "| Maine     | 0.8280881 | \n",
       "| Kansas    | 2.2081106 | \n",
       "\n",
       "\n"
      ],
      "text/plain": [
       "  state  murder.rate\n",
       "1 Nevada 3.1104763  \n",
       "2 Maine  0.8280881  \n",
       "3 Kansas 2.2081106  "
      ]
     },
     "metadata": {},
     "output_type": "display_data"
    }
   ],
   "source": [
    "# Find the indices of Nevada, Maine and Kansas using match(...), and then find their murder rates\n",
    "reqd_states = c(\"Nevada\", \"Maine\", \"Kansas\")\n",
    "ind = match(reqd_states, states) # returns the indices of the first parameter present in the second parameter\n",
    "data.frame(state = reqd_states, \"murder rate\" = murder_rate[ind])"
   ]
  },
  {
   "cell_type": "code",
   "execution_count": 15,
   "metadata": {},
   "outputs": [
    {
     "data": {
      "text/html": [
       "<ol class=list-inline>\n",
       "\t<li>'Present for Vermont'</li>\n",
       "\t<li>'Present for California'</li>\n",
       "</ol>\n"
      ],
      "text/latex": [
       "\\begin{enumerate*}\n",
       "\\item 'Present for Vermont'\n",
       "\\item 'Present for California'\n",
       "\\end{enumerate*}\n"
      ],
      "text/markdown": [
       "1. 'Present for Vermont'\n",
       "2. 'Present for California'\n",
       "\n",
       "\n"
      ],
      "text/plain": [
       "[1] \"Present for Vermont\"    \"Present for California\""
      ]
     },
     "metadata": {},
     "output_type": "display_data"
    },
    {
     "data": {
      "text/html": [
       "'Absent for Dakota'"
      ],
      "text/latex": [
       "'Absent for Dakota'"
      ],
      "text/markdown": [
       "'Absent for Dakota'"
      ],
      "text/plain": [
       "[1] \"Absent for Dakota\""
      ]
     },
     "metadata": {},
     "output_type": "display_data"
    }
   ],
   "source": [
    "# Check if Vermont, California and Dakota are present in the state attributes, using %in%\n",
    "reqd_states = c(\"Vermont\", \"California\", \"Dakota\")\n",
    "ind = reqd_states %in% states\n",
    "paste(\"Present for\", reqd_states[ind])\n",
    "paste(\"Absent for\", reqd_states[!ind])\n"
   ]
  },
  {
   "cell_type": "markdown",
   "metadata": {},
   "source": []
  },
  {
   "cell_type": "markdown",
   "metadata": {},
   "source": [
    "## 4. Data-wrangling with `dplyr`"
   ]
  },
  {
   "cell_type": "code",
   "execution_count": 16,
   "metadata": {},
   "outputs": [
    {
     "name": "stderr",
     "output_type": "stream",
     "text": [
      "\n",
      "Attaching package: 'dplyr'\n",
      "\n",
      "The following objects are masked from 'package:stats':\n",
      "\n",
      "    filter, lag\n",
      "\n",
      "The following objects are masked from 'package:base':\n",
      "\n",
      "    intersect, setdiff, setequal, union\n",
      "\n"
     ]
    }
   ],
   "source": [
    "library(dplyr) # NOTE: Be sure to install this package via install.packages(\"dplyr\") from the console"
   ]
  },
  {
   "cell_type": "code",
   "execution_count": 17,
   "metadata": {},
   "outputs": [
    {
     "name": "stdout",
     "output_type": "stream",
     "text": [
      "'data.frame':\t51 obs. of  6 variables:\n",
      " $ state     : chr  \"Alabama\" \"Alaska\" \"Arizona\" \"Arkansas\" ...\n",
      " $ abb       : chr  \"AL\" \"AK\" \"AZ\" \"AR\" ...\n",
      " $ region    : Factor w/ 4 levels \"Northeast\",\"South\",..: 2 4 4 2 4 4 1 2 2 2 ...\n",
      " $ population: num  4779736 710231 6392017 2915918 37253956 ...\n",
      " $ total     : num  135 19 232 93 1257 ...\n",
      " $ rate      : num  2.82 2.68 3.63 3.19 3.37 ...\n"
     ]
    },
    {
     "data": {
      "text/html": [
       "<table>\n",
       "<thead><tr><th scope=col>state</th><th scope=col>abb</th><th scope=col>region</th><th scope=col>population</th><th scope=col>total</th><th scope=col>rate</th></tr></thead>\n",
       "<tbody>\n",
       "\t<tr><td>Alabama   </td><td>AL        </td><td>South     </td><td> 4779736  </td><td> 135      </td><td>2.824424  </td></tr>\n",
       "\t<tr><td>Alaska    </td><td>AK        </td><td>West      </td><td>  710231  </td><td>  19      </td><td>2.675186  </td></tr>\n",
       "\t<tr><td>Arizona   </td><td>AZ        </td><td>West      </td><td> 6392017  </td><td> 232      </td><td>3.629527  </td></tr>\n",
       "\t<tr><td>Arkansas  </td><td>AR        </td><td>South     </td><td> 2915918  </td><td>  93      </td><td>3.189390  </td></tr>\n",
       "\t<tr><td>California</td><td>CA        </td><td>West      </td><td>37253956  </td><td>1257      </td><td>3.374138  </td></tr>\n",
       "\t<tr><td>Colorado  </td><td>CO        </td><td>West      </td><td> 5029196  </td><td>  65      </td><td>1.292453  </td></tr>\n",
       "</tbody>\n",
       "</table>\n"
      ],
      "text/latex": [
       "\\begin{tabular}{r|llllll}\n",
       " state & abb & region & population & total & rate\\\\\n",
       "\\hline\n",
       "\t Alabama    & AL         & South      &  4779736   &  135       & 2.824424  \\\\\n",
       "\t Alaska     & AK         & West       &   710231   &   19       & 2.675186  \\\\\n",
       "\t Arizona    & AZ         & West       &  6392017   &  232       & 3.629527  \\\\\n",
       "\t Arkansas   & AR         & South      &  2915918   &   93       & 3.189390  \\\\\n",
       "\t California & CA         & West       & 37253956   & 1257       & 3.374138  \\\\\n",
       "\t Colorado   & CO         & West       &  5029196   &   65       & 1.292453  \\\\\n",
       "\\end{tabular}\n"
      ],
      "text/markdown": [
       "\n",
       "state | abb | region | population | total | rate | \n",
       "|---|---|---|---|---|---|\n",
       "| Alabama    | AL         | South      |  4779736   |  135       | 2.824424   | \n",
       "| Alaska     | AK         | West       |   710231   |   19       | 2.675186   | \n",
       "| Arizona    | AZ         | West       |  6392017   |  232       | 3.629527   | \n",
       "| Arkansas   | AR         | South      |  2915918   |   93       | 3.189390   | \n",
       "| California | CA         | West       | 37253956   | 1257       | 3.374138   | \n",
       "| Colorado   | CO         | West       |  5029196   |   65       | 1.292453   | \n",
       "\n",
       "\n"
      ],
      "text/plain": [
       "  state      abb region population total rate    \n",
       "1 Alabama    AL  South   4779736    135  2.824424\n",
       "2 Alaska     AK  West     710231     19  2.675186\n",
       "3 Arizona    AZ  West    6392017    232  3.629527\n",
       "4 Arkansas   AR  South   2915918     93  3.189390\n",
       "5 California CA  West   37253956   1257  3.374138\n",
       "6 Colorado   CO  West    5029196     65  1.292453"
      ]
     },
     "metadata": {},
     "output_type": "display_data"
    }
   ],
   "source": [
    "# Add the murder_rate column to the murders dataset using dplyr's mutate\n",
    "murders = mutate(murders, rate = murder_rate)\n",
    "str(murders)\n",
    "head(murders)"
   ]
  },
  {
   "cell_type": "code",
   "execution_count": 18,
   "metadata": {},
   "outputs": [
    {
     "data": {
      "text/html": [
       "<table>\n",
       "<thead><tr><th scope=col>state</th><th scope=col>abb</th><th scope=col>region</th><th scope=col>population</th><th scope=col>total</th><th scope=col>rate</th></tr></thead>\n",
       "<tbody>\n",
       "\t<tr><td>Hawaii       </td><td>HI           </td><td>West         </td><td>1360301      </td><td> 7           </td><td>0.5145920    </td></tr>\n",
       "\t<tr><td>Iowa         </td><td>IA           </td><td>North Central</td><td>3046355      </td><td>21           </td><td>0.6893484    </td></tr>\n",
       "\t<tr><td>New Hampshire</td><td>NH           </td><td>Northeast    </td><td>1316470      </td><td> 5           </td><td>0.3798036    </td></tr>\n",
       "\t<tr><td>North Dakota </td><td>ND           </td><td>North Central</td><td> 672591      </td><td> 4           </td><td>0.5947151    </td></tr>\n",
       "\t<tr><td>Vermont      </td><td>VT           </td><td>Northeast    </td><td> 625741      </td><td> 2           </td><td>0.3196211    </td></tr>\n",
       "</tbody>\n",
       "</table>\n"
      ],
      "text/latex": [
       "\\begin{tabular}{r|llllll}\n",
       " state & abb & region & population & total & rate\\\\\n",
       "\\hline\n",
       "\t Hawaii        & HI            & West          & 1360301       &  7            & 0.5145920    \\\\\n",
       "\t Iowa          & IA            & North Central & 3046355       & 21            & 0.6893484    \\\\\n",
       "\t New Hampshire & NH            & Northeast     & 1316470       &  5            & 0.3798036    \\\\\n",
       "\t North Dakota  & ND            & North Central &  672591       &  4            & 0.5947151    \\\\\n",
       "\t Vermont       & VT            & Northeast     &  625741       &  2            & 0.3196211    \\\\\n",
       "\\end{tabular}\n"
      ],
      "text/markdown": [
       "\n",
       "state | abb | region | population | total | rate | \n",
       "|---|---|---|---|---|\n",
       "| Hawaii        | HI            | West          | 1360301       |  7            | 0.5145920     | \n",
       "| Iowa          | IA            | North Central | 3046355       | 21            | 0.6893484     | \n",
       "| New Hampshire | NH            | Northeast     | 1316470       |  5            | 0.3798036     | \n",
       "| North Dakota  | ND            | North Central |  672591       |  4            | 0.5947151     | \n",
       "| Vermont       | VT            | Northeast     |  625741       |  2            | 0.3196211     | \n",
       "\n",
       "\n"
      ],
      "text/plain": [
       "  state         abb region        population total rate     \n",
       "1 Hawaii        HI  West          1360301     7    0.5145920\n",
       "2 Iowa          IA  North Central 3046355    21    0.6893484\n",
       "3 New Hampshire NH  Northeast     1316470     5    0.3798036\n",
       "4 North Dakota  ND  North Central  672591     4    0.5947151\n",
       "5 Vermont       VT  Northeast      625741     2    0.3196211"
      ]
     },
     "metadata": {},
     "output_type": "display_data"
    }
   ],
   "source": [
    "# Select those tuples from the new murders dataset that have a murder rate less than or equal to 0.75, using dplyr's filter\n",
    "filter(murders, rate <= 0.75)"
   ]
  },
  {
   "cell_type": "code",
   "execution_count": 19,
   "metadata": {},
   "outputs": [
    {
     "data": {
      "text/html": [
       "<table>\n",
       "<thead><tr><th scope=col>state</th><th scope=col>population</th><th scope=col>rate</th></tr></thead>\n",
       "<tbody>\n",
       "\t<tr><td>Alabama   </td><td> 4779736  </td><td>2.824424  </td></tr>\n",
       "\t<tr><td>Alaska    </td><td>  710231  </td><td>2.675186  </td></tr>\n",
       "\t<tr><td>Arizona   </td><td> 6392017  </td><td>3.629527  </td></tr>\n",
       "\t<tr><td>Arkansas  </td><td> 2915918  </td><td>3.189390  </td></tr>\n",
       "\t<tr><td>California</td><td>37253956  </td><td>3.374138  </td></tr>\n",
       "\t<tr><td>Colorado  </td><td> 5029196  </td><td>1.292453  </td></tr>\n",
       "</tbody>\n",
       "</table>\n"
      ],
      "text/latex": [
       "\\begin{tabular}{r|lll}\n",
       " state & population & rate\\\\\n",
       "\\hline\n",
       "\t Alabama    &  4779736   & 2.824424  \\\\\n",
       "\t Alaska     &   710231   & 2.675186  \\\\\n",
       "\t Arizona    &  6392017   & 3.629527  \\\\\n",
       "\t Arkansas   &  2915918   & 3.189390  \\\\\n",
       "\t California & 37253956   & 3.374138  \\\\\n",
       "\t Colorado   &  5029196   & 1.292453  \\\\\n",
       "\\end{tabular}\n"
      ],
      "text/markdown": [
       "\n",
       "state | population | rate | \n",
       "|---|---|---|---|---|---|\n",
       "| Alabama    |  4779736   | 2.824424   | \n",
       "| Alaska     |   710231   | 2.675186   | \n",
       "| Arizona    |  6392017   | 3.629527   | \n",
       "| Arkansas   |  2915918   | 3.189390   | \n",
       "| California | 37253956   | 3.374138   | \n",
       "| Colorado   |  5029196   | 1.292453   | \n",
       "\n",
       "\n"
      ],
      "text/plain": [
       "  state      population rate    \n",
       "1 Alabama     4779736   2.824424\n",
       "2 Alaska       710231   2.675186\n",
       "3 Arizona     6392017   3.629527\n",
       "4 Arkansas    2915918   3.189390\n",
       "5 California 37253956   3.374138\n",
       "6 Colorado    5029196   1.292453"
      ]
     },
     "metadata": {},
     "output_type": "display_data"
    }
   ],
   "source": [
    "# Make a new table from murders dataset with state, population and rate columns, using dplyr's select\n",
    "new_table = select(murders, state, population, rate)\n",
    "head(new_table)"
   ]
  },
  {
   "cell_type": "code",
   "execution_count": 20,
   "metadata": {},
   "outputs": [
    {
     "data": {
      "text/html": [
       "<table>\n",
       "<thead><tr><th scope=col>state</th><th scope=col>population</th><th scope=col>rate</th></tr></thead>\n",
       "<tbody>\n",
       "\t<tr><td>Hawaii       </td><td>1360301      </td><td>0.5145920    </td></tr>\n",
       "\t<tr><td>Iowa         </td><td>3046355      </td><td>0.6893484    </td></tr>\n",
       "\t<tr><td>New Hampshire</td><td>1316470      </td><td>0.3798036    </td></tr>\n",
       "\t<tr><td>North Dakota </td><td> 672591      </td><td>0.5947151    </td></tr>\n",
       "\t<tr><td>Vermont      </td><td> 625741      </td><td>0.3196211    </td></tr>\n",
       "</tbody>\n",
       "</table>\n"
      ],
      "text/latex": [
       "\\begin{tabular}{r|lll}\n",
       " state & population & rate\\\\\n",
       "\\hline\n",
       "\t Hawaii        & 1360301       & 0.5145920    \\\\\n",
       "\t Iowa          & 3046355       & 0.6893484    \\\\\n",
       "\t New Hampshire & 1316470       & 0.3798036    \\\\\n",
       "\t North Dakota  &  672591       & 0.5947151    \\\\\n",
       "\t Vermont       &  625741       & 0.3196211    \\\\\n",
       "\\end{tabular}\n"
      ],
      "text/markdown": [
       "\n",
       "state | population | rate | \n",
       "|---|---|---|---|---|\n",
       "| Hawaii        | 1360301       | 0.5145920     | \n",
       "| Iowa          | 3046355       | 0.6893484     | \n",
       "| New Hampshire | 1316470       | 0.3798036     | \n",
       "| North Dakota  |  672591       | 0.5947151     | \n",
       "| Vermont       |  625741       | 0.3196211     | \n",
       "\n",
       "\n"
      ],
      "text/plain": [
       "  state         population rate     \n",
       "1 Hawaii        1360301    0.5145920\n",
       "2 Iowa          3046355    0.6893484\n",
       "3 New Hampshire 1316470    0.3798036\n",
       "4 North Dakota   672591    0.5947151\n",
       "5 Vermont        625741    0.3196211"
      ]
     },
     "metadata": {},
     "output_type": "display_data"
    }
   ],
   "source": [
    "# From the murders dataset, select state, population and total, and print the tuples with rate <= 0.71, in one line \n",
    "murders %>% select(state, population, rate) %>% filter(rate <= 0.71)"
   ]
  },
  {
   "cell_type": "markdown",
   "metadata": {},
   "source": []
  },
  {
   "cell_type": "markdown",
   "metadata": {},
   "source": [
    "## 5. Working with graphs\n",
    "\n",
    "Scatter-plots, histograms, and box-plots"
   ]
  },
  {
   "cell_type": "code",
   "execution_count": 21,
   "metadata": {},
   "outputs": [
    {
     "data": {
      "image/png": "[encoded data removed]",
      "text/plain": [
       "plot without title"
      ]
     },
     "metadata": {},
     "output_type": "display_data"
    }
   ],
   "source": [
    "# Plot a graph between the population and their murder rates\n",
    "plot (murders$total, murders$population, xlab = \"Total murders\", ylab = \"Population\")"
   ]
  },
  {
   "cell_type": "code",
   "execution_count": 30,
   "metadata": {},
   "outputs": [
    {
     "data": {
      "image/png": "[encoded data removed]",
      "text/plain": [
       "Plot with title \"Histogram of log of Population\""
      ]
     },
     "metadata": {},
     "output_type": "display_data"
    }
   ],
   "source": [
    "# Plot a histogram showing frequencies of different populations\n",
    "hist (log (pops, 10), xlab=\"log (Population)\", main = paste(\"Histogram of log of Population\"))"
   ]
  },
  {
   "cell_type": "code",
   "execution_count": 23,
   "metadata": {},
   "outputs": [
    {
     "data": {
      "image/png": "[encoded data removed]",
      "text/plain": [
       "plot without title"
      ]
     },
     "metadata": {},
     "output_type": "display_data"
    }
   ],
   "source": [
    "# Plot a boxplot for showing the regions in the dataset and their murder rates\n",
    "boxplot (rate~region, data = murders)"
   ]
  },
  {
   "cell_type": "markdown",
   "metadata": {},
   "source": []
  },
  {
   "cell_type": "markdown",
   "metadata": {},
   "source": [
    "This notebook ends here."
   ]
  }
 ],
 "metadata": {
  "kernelspec": {
   "display_name": "R",
   "language": "R",
   "name": "ir"
  },
  "language_info": {
   "codemirror_mode": "r",
   "file_extension": ".r",
   "mimetype": "text/x-r-source",
   "name": "R",
   "pygments_lexer": "r",
   "version": "3.5.0"
  }
 },
 "nbformat": 4,
 "nbformat_minor": 2
}
